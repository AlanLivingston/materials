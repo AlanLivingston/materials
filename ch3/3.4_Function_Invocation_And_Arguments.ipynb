{
 "cells": [
  {
   "cell_type": "markdown",
   "metadata": {},
   "source": [
    "The execution of a function is done by *calling* it.\n",
    " - Call the function by specifying the name followed by any arguments to the function embedded within parenthesis."
   ]
  },
  {
   "cell_type": "code",
   "execution_count": 1,
   "metadata": {},
   "outputs": [
    {
     "data": {
      "text/plain": [
       "2.8284271247461903"
      ]
     },
     "execution_count": 1,
     "metadata": {},
     "output_type": "execute_result"
    }
   ],
   "source": [
    "import math \n",
    "\n",
    "def distance(pt1,pt2):\n",
    "    x1,y1 = pt1 \n",
    "    x2,y2 = pt2 \n",
    "    return math.sqrt(math.pow(x2-x1,2) + math.pow(y2-y1,2))\n",
    "\n",
    "distance((1,2),(3,4))"
   ]
  },
  {
   "cell_type": "markdown",
   "metadata": {},
   "source": [
    "### Arguments Matching: Function Header \n",
    "\n",
    "Python provide multiple ways to define *arguments*. You can pass arguments by name, with default values, and use collectors for extra arguments. \n",
    "\n",
    "By default, arguments are matched by position, from left to right,and you must pass exactly as many arguments as there are argument names (i.e., parameters) in the function header."
   ]
  },
  {
   "cell_type": "code",
   "execution_count": 2,
   "metadata": {},
   "outputs": [
    {
     "name": "stdout",
     "output_type": "stream",
     "text": [
      "1 Hey! Bye\n"
     ]
    }
   ],
   "source": [
    "# Example of Positionally required arguments \n",
    "def func(a,b,c):\n",
    "    print(a,b,c) # prints: 1 Hey! Bye \n",
    "\n",
    "func(1, \"Hey!\", \"Bye\")"
   ]
  },
  {
   "cell_type": "markdown",
   "metadata": {},
   "source": [
    "Python allows for **default arguments**, which allows you to specify a value when defining the argument name. You are not required to specify values for default arguments when calling the function. "
   ]
  },
  {
   "cell_type": "code",
   "execution_count": null,
   "metadata": {},
   "outputs": [],
   "source": [
    "# In this example, arguments b and c are default arguments. When \n",
    "# calling the function 'func' are not required to provide a value. If\n",
    "# a value is not given then its default value will be assigned to the \n",
    "# argument. \n",
    "def func (a, b=1, c='spam'):\n",
    "    print(a,b,c)\n",
    "\n",
    "func(33) # Calling func, a=33, b = 1, c='spam'\n",
    "func(33,23) # Calling func, a = 33, b = 23, c = 'spam'"
   ]
  },
  {
   "cell_type": "markdown",
   "metadata": {},
   "source": [
    "### Argument Matching: Function Header \n",
    "\n",
    "You **must** place default arguments after non-default arguments. "
   ]
  },
  {
   "cell_type": "code",
   "execution_count": 3,
   "metadata": {},
   "outputs": [
    {
     "ename": "SyntaxError",
     "evalue": "non-default argument follows default argument (<ipython-input-3-89fcd142ac5e>, line 4)",
     "traceback": [
      "\u001b[0;36m  File \u001b[0;32m\"<ipython-input-3-89fcd142ac5e>\"\u001b[0;36m, line \u001b[0;32m4\u001b[0m\n\u001b[0;31m    def func(a,b='spam',c):\u001b[0m\n\u001b[0m                         ^\u001b[0m\n\u001b[0;31mSyntaxError\u001b[0m\u001b[0;31m:\u001b[0m non-default argument follows default argument\n"
     ],
     "output_type": "error"
    }
   ],
   "source": [
    "# This causes an error because 'b' is a optional argument but 'c' is \n",
    "# a positional argument. All positional arguments must be placed before\n",
    "# optional arguments. \n",
    "def func(a,b='spam',c):\n",
    "    print(a,b,c)"
   ]
  },
  {
   "cell_type": "markdown",
   "metadata": {},
   "source": [
    "### Argument Matching: Caller \n",
    "\n",
    "The caller can provide arguments by **position** or by **keyword**:\n",
    "  \n",
    "  - Positional arguments: matched from left to right.\n",
    "  \n",
    "  - Keywords: matched by argument name (``name=value``)"
   ]
  },
  {
   "cell_type": "code",
   "execution_count": 4,
   "metadata": {},
   "outputs": [],
   "source": [
    "def func(a, b=1, c='spam'):\n",
    "    print(a,b,c)"
   ]
  },
  {
   "cell_type": "code",
   "execution_count": 5,
   "metadata": {},
   "outputs": [
    {
     "name": "stdout",
     "output_type": "stream",
     "text": [
      "4 4 4\n"
     ]
    }
   ],
   "source": [
    "# Calling the function 'func' with all positional arguments \n",
    "func(4,4,4) # a = 4, b = 4, c = 4"
   ]
  },
  {
   "cell_type": "code",
   "execution_count": 6,
   "metadata": {},
   "outputs": [
    {
     "name": "stdout",
     "output_type": "stream",
     "text": [
      "4 4 spam\n"
     ]
    }
   ],
   "source": [
    "# Calling the function 'func' with specifying \n",
    "# the first two positional arguments. 'c' is assigned its default value\n",
    "func(4,4) # a = 4, b = 4, c = 'spam'"
   ]
  },
  {
   "cell_type": "code",
   "execution_count": 7,
   "metadata": {},
   "outputs": [
    {
     "name": "stdout",
     "output_type": "stream",
     "text": [
      "4 1 spam\n"
     ]
    }
   ],
   "source": [
    "# Calling the function 'func' with specifying \n",
    "# the only one positional arguments. \n",
    "# 'b' and 'c' are assigned their default value\n",
    "func(4) # a = 4, b = 1, c = 'spam'"
   ]
  },
  {
   "cell_type": "code",
   "execution_count": 8,
   "metadata": {},
   "outputs": [
    {
     "ename": "TypeError",
     "evalue": "func() missing 1 required positional argument: 'a'",
     "traceback": [
      "\u001b[0;31m---------------------------------------------------------------------------\u001b[0m",
      "\u001b[0;31mTypeError\u001b[0m                                 Traceback (most recent call last)",
      "\u001b[0;32m<ipython-input-8-a1603fea4e07>\u001b[0m in \u001b[0;36m<module>\u001b[0;34m\u001b[0m\n\u001b[1;32m      1\u001b[0m \u001b[0;31m# This causes an error because I MUST assign a value to 'a' because\u001b[0m\u001b[0;34m\u001b[0m\u001b[0;34m\u001b[0m\u001b[0;34m\u001b[0m\u001b[0m\n\u001b[1;32m      2\u001b[0m \u001b[0;31m# its not a default argument so 'func' must take in at least one value\u001b[0m\u001b[0;34m\u001b[0m\u001b[0;34m\u001b[0m\u001b[0;34m\u001b[0m\u001b[0m\n\u001b[0;32m----> 3\u001b[0;31m \u001b[0mfunc\u001b[0m\u001b[0;34m(\u001b[0m\u001b[0;34m)\u001b[0m\u001b[0;34m\u001b[0m\u001b[0;34m\u001b[0m\u001b[0m\n\u001b[0m",
      "\u001b[0;31mTypeError\u001b[0m: func() missing 1 required positional argument: 'a'"
     ],
     "output_type": "error"
    }
   ],
   "source": [
    "# This causes an error because I MUST assign a value to 'a' because \n",
    "# its not a default argument so 'func' must take in at least one value\n",
    "func()"
   ]
  },
  {
   "cell_type": "code",
   "execution_count": 9,
   "metadata": {},
   "outputs": [
    {
     "name": "stdout",
     "output_type": "stream",
     "text": [
      "Bob Sally Joe\n"
     ]
    }
   ],
   "source": [
    "# You can also assign a value to an argument by using keyword argument\n",
    "# syntax. \n",
    "func(a='Bob',b='Sally',c='Joe')"
   ]
  },
  {
   "cell_type": "code",
   "execution_count": 10,
   "metadata": {},
   "outputs": [
    {
     "name": "stdout",
     "output_type": "stream",
     "text": [
      "Bob Sally Joe\n"
     ]
    }
   ],
   "source": [
    "# Does not have to be in the same order specified in the function \n",
    "# header \n",
    "func(b='Sally', c='Joe', a='Bob')"
   ]
  },
  {
   "cell_type": "code",
   "execution_count": 11,
   "metadata": {},
   "outputs": [
    {
     "name": "stdout",
     "output_type": "stream",
     "text": [
      "4 1 Ni\n"
     ]
    }
   ],
   "source": [
    "# HOWEVER, you must specify a value for all arguments that do have a \n",
    "# default via a mixture of positional or keyword arguments. \n",
    "func(4, c='Ni')"
   ]
  },
  {
   "cell_type": "code",
   "execution_count": null,
   "metadata": {},
   "outputs": [],
   "source": [
    "# This causes an error since we did not give 'a' a value since its not \n",
    "# a default argument \n",
    "func(b='Sally',c='Joe')"
   ]
  },
  {
   "cell_type": "markdown",
   "metadata": {},
   "source": [
    "#### Collecting Keyword Arguments \n",
    "\n",
    "Python allows functions to collect arbitarily many poistional or keyword arguments:\n",
    "\n",
    "  - Preceded by one or two asterisks\n",
    "  - Arguments are collected into a tuple. "
   ]
  },
  {
   "cell_type": "code",
   "execution_count": 12,
   "metadata": {},
   "outputs": [
    {
     "name": "stdout",
     "output_type": "stream",
     "text": [
      "6.43\n",
      "3.43\n"
     ]
    }
   ],
   "source": [
    "# The reduce_add function takes in any number of objects and \n",
    "# args is a tuple of the passed in objects. \n",
    "def reduce_add(*args):\n",
    "    s = 0 \n",
    "    for x in args:\n",
    "        s += x \n",
    "    return s \n",
    "\n",
    "# *args = (1.0,2.0,3.43)\n",
    "print(reduce_add(1.0,2.0,3.43))\n",
    "\n",
    "# *args = (0.0,0.0,3.43)\n",
    "print(reduce_add(0,0,3.43))"
   ]
  },
  {
   "cell_type": "markdown",
   "metadata": {},
   "source": [
    "#### Collecting Keyword Arguments \n",
    "\n",
    "Python allows functions to collect arbitrarily many positional or keyword arguments. "
   ]
  },
  {
   "cell_type": "code",
   "execution_count": 13,
   "metadata": {},
   "outputs": [
    {
     "name": "stdout",
     "output_type": "stream",
     "text": [
      "3.43\n",
      "0\n",
      "4.43\n"
     ]
    }
   ],
   "source": [
    "def reduce_add2(a,b=2, *args):\n",
    "    s = 0\n",
    "    for x in args:\n",
    "        s += x\n",
    "    return s\n",
    "\n",
    "# a = 0, b = 0, *args = (3.43,), prints: 3.43\n",
    "print(reduce_add2(0,0,3.43))\n",
    "\n",
    "# a = 0, b = 3.43, *args = (), prints: 0.0  \n",
    "print(reduce_add2(0,3.43))\n",
    "\n",
    "# a = 1, b = 2, *args = (1,3.43), prints: 4.43 \n",
    "print(reduce_add2(1,2,1,3.43))"
   ]
  },
  {
   "cell_type": "markdown",
   "metadata": {},
   "source": [
    "##### Collecting Keyword Arguments \n",
    "Using ``**`` allows callers to pass key/value pairs as individual keywords. They are collected as a dictionary. "
   ]
  },
  {
   "cell_type": "code",
   "execution_count": 14,
   "metadata": {},
   "outputs": [
    {
     "name": "stdout",
     "output_type": "stream",
     "text": [
      "{'name': 'John', 'course': 'Python', 'age': 25}\n",
      "name is John\n",
      "course is Python\n",
      "age is 25\n",
      "{'name': 'John', 'course': 'Python', 'age': 25}\n",
      "name is John\n",
      "course is Python\n",
      "age is 25\n",
      "{'name': 'John', 'course': 'Python', 'age': 25}\n",
      "name is John\n",
      "course is Python\n",
      "age is 25\n"
     ]
    }
   ],
   "source": [
    "def make_dict(arg=\"Bob\", **kwargs):\n",
    "    print(kwargs)\n",
    "    for key, value in kwargs.items():\n",
    "        print(f'{key} is {value}')\n",
    "\n",
    "# arg = \"Bob\", \n",
    "# **kwargs = {'name': 'John', 'course': 'Python', 'age': 25}\n",
    "make_dict(name='John', course='Python', age=25)\n",
    "\n",
    "# arg = \"Sally\", \n",
    "# **kwargs = {'name': 'John', 'course': 'Python', 'age': 25}\n",
    "make_dict(name = 'John', course='Python', age=25, arg='Sally')\n",
    "\n",
    "# arg = 1, \n",
    "# **kwargs = {'name': 'John', 'course': 'Python', 'age': 25}\n",
    "make_dict(1, name='John', course='Python', age=25)"
   ]
  },
  {
   "cell_type": "markdown",
   "metadata": {},
   "source": [
    "#### Unpacking arguments \n",
    "\n",
    "Callers can also use: \n",
    "\n",
    "- ``*iterable``: to pass all objects in the iterable object as individual positional arguments\n",
    "\n",
    "- ``**dict``: to pass all key/value pairs in dict as individual keyword arguments.  \n",
    "        "
   ]
  },
  {
   "cell_type": "code",
   "execution_count": null,
   "metadata": {},
   "outputs": [],
   "source": [
    "def double(x, y, z):\n",
    "    return 2*x, 2*y, 2*z\n",
    "\n",
    "point = (3, -2, 7)\n",
    "\n",
    "# x = 3, y = -2, z = 7\n",
    "print(double(*point)) # prints: (6, -4, 14)"
   ]
  },
  {
   "cell_type": "code",
   "execution_count": null,
   "metadata": {},
   "outputs": [],
   "source": [
    "point = [2,2,2]\n",
    "\n",
    "# x = 2, y = 2, z = 2\n",
    "print(double(*point)) # prints: (4, 4, 4)"
   ]
  },
  {
   "cell_type": "code",
   "execution_count": null,
   "metadata": {},
   "outputs": [],
   "source": [
    "point = [2,2,2,44]\n",
    "#print(double(*point)) # Error too many arguments given"
   ]
  },
  {
   "cell_type": "code",
   "execution_count": null,
   "metadata": {},
   "outputs": [],
   "source": [
    "def double(x, y, z):\n",
    "    return 2*x, 2*y, 2*z\n",
    "\n",
    "point = {'x': 0, 'y': 3, 'z': 4}\n",
    "# x = 0, y = 3, z = 4\n",
    "print(double(**point)) # prints: (0,6,8)"
   ]
  },
  {
   "cell_type": "code",
   "execution_count": null,
   "metadata": {},
   "outputs": [],
   "source": [
    "point = {'t': 0, 'y': 3, 'z': 4}\n",
    "#print(double(**point)) # Error, no keyword arg for x"
   ]
  },
  {
   "cell_type": "code",
   "execution_count": null,
   "metadata": {},
   "outputs": [],
   "source": [
    "point = {'x': 0, 'y': 3, 'z': 4, 'p': 3}\n",
    "#print(double(**point)) # Error, no function arg for p"
   ]
  },
  {
   "cell_type": "markdown",
   "metadata": {},
   "source": [
    "#### Argument Matching Summary \n",
    "\n",
    "![alt text](../images/argument_matching.png \"Learning Python 2013\") -- <cite>Learning Python 2013</cite>"
   ]
  },
  {
   "cell_type": "code",
   "execution_count": null,
   "metadata": {},
   "outputs": [],
   "source": [
    ""
   ]
  }
 ],
 "metadata": {
  "kernelspec": {
   "display_name": "Python 3",
   "language": "python",
   "name": "python3"
  },
  "language_info": {
   "codemirror_mode": {
    "name": "ipython",
    "version": 3.0
   },
   "file_extension": ".py",
   "mimetype": "text/x-python",
   "name": "python",
   "nbconvert_exporter": "python",
   "pygments_lexer": "ipython3",
   "version": "3.9.0"
  }
 },
 "nbformat": 4,
 "nbformat_minor": 0
}