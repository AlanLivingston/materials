{
 "cells": [
  {
   "cell_type": "markdown",
   "metadata": {},
   "source": [
    "### Python Objects, References & Assignments \n",
    "\n",
    "All data/values in Python are **objects**: pieces of memory with values (state) and associated operations (behavior). \n",
    "\n",
    "- For example, Numeric objects (ints, float, complex) with their assoicated arithmetic operations (+,-,/). "
   ]
  },
  {
   "cell_type": "markdown",
   "metadata": {},
   "source": [
    "#### Types Live With Objects, Not Variables \n",
    "\n",
    "- Variables in Python are referred to as *names* or *identifiers* \n",
    "- Name binding is the association of a name with an object (value)\n",
    " \n",
    "  ![alt text](../images/shared_ref1.png \"Learning Python 2013\") -- <cite>Learning Python 2013</cite>\n",
    "  \n",
    "- A names does not uniquely identify an object! "
   ]
  },
  {
   "cell_type": "markdown",
   "metadata": {},
   "source": [
    "#### Shared References \n",
    "\n",
    "Setting a variable to a new value does not alter the original object, but rather causes the variable to reference an entirely different object."
   ]
  },
  {
   "cell_type": "code",
   "execution_count": null,
   "metadata": {},
   "outputs": [],
   "source": [
    "x = 10 \n",
    "y = x \n",
    "x = 20 \n",
    "y"
   ]
  },
  {
   "cell_type": "markdown",
   "metadata": {},
   "source": [
    "Be careful when working with *mutable* objects and in-place changes:"
   ]
  },
  {
   "cell_type": "code",
   "execution_count": 4,
   "metadata": {},
   "outputs": [
    {
     "name": "stdout",
     "output_type": "stream",
     "text": [
      "[1, 2, 3, 4]\n",
      "[1, 2, 3, 4]\n"
     ]
    }
   ],
   "source": [
    "x = [1,2,3]\n",
    "y = x \n",
    "x.append(4)\n",
    "print(y)\n",
    "print(x)"
   ]
  },
  {
   "cell_type": "markdown",
   "metadata": {},
   "source": [
    "#### Identity \n",
    "\n",
    "The built-in ``id(...)`` function returns the  *identity* of an object, which is an integer value guaranteed to be unique and constant for lifetime of object"
   ]
  },
  {
   "cell_type": "code",
   "execution_count": 5,
   "metadata": {},
   "outputs": [
    {
     "name": "stdout",
     "output_type": "stream",
     "text": [
      "4435866208\n"
     ]
    }
   ],
   "source": [
    "x = \"MPCS\"\n",
    "print(id(x)) # Unique integer-value for the object pointed by x"
   ]
  },
  {
   "cell_type": "markdown",
   "metadata": {},
   "source": [
    "In the CPython Interpeter (i.e., the one we are using in this class), it is the address of the memory location storing the object. \n",
    "\n",
    "Objects having the same value can have different identities:"
   ]
  },
  {
   "cell_type": "code",
   "execution_count": 6,
   "metadata": {},
   "outputs": [
    {
     "name": "stdout",
     "output_type": "stream",
     "text": [
      "Fruit1 id = 4434352520\n",
      "Fruit2 id = 4434735880\n"
     ]
    }
   ],
   "source": [
    "fruit1 = ('Apples', 4)\n",
    "fruit2 = ('Apples', 4)\n",
    "\n",
    "print(f'Fruit1 id = {id(fruit1)}\\nFruit2 id = {id(fruit2)}')"
   ]
  },
  {
   "cell_type": "markdown",
   "metadata": {},
   "source": [
    "#### Equality vs. Identity\n",
    "\n",
    "Two different ways of testing for ``equality\":\n",
    "\n",
    " - **Equality operator**(``==``): Returns true if two objects are equal (i.e., have the same value)\n",
    " - **Identity operator**(``is``): Returns true if two objects identities are the same: \n",
    "             a is b <==> id(a) == id(b) \n"
   ]
  },
  {
   "cell_type": "code",
   "execution_count": 1,
   "metadata": {},
   "outputs": [
    {
     "data": {
      "text/plain": [
       "True"
      ]
     },
     "execution_count": 1,
     "metadata": {},
     "output_type": "execute_result"
    }
   ],
   "source": [
    "a = [1, 2, 3]\n",
    "b = [1, 2, 3]\n",
    "a == b"
   ]
  },
  {
   "cell_type": "code",
   "execution_count": 2,
   "metadata": {},
   "outputs": [
    {
     "name": "stdout",
     "output_type": "stream",
     "text": [
      "140588187324800\n",
      "140588187324672\n",
      "False\n"
     ]
    }
   ],
   "source": [
    "print(id(a))\n",
    "print(id(b))\n",
    "print(a is b) # The id values are different"
   ]
  },
  {
   "cell_type": "markdown",
   "metadata": {},
   "source": [
    "### Object Creation \n",
    "\n",
    " > Each time you generate a new value in your script by running an expression, Python creates a new object (i.e., a chunk of memory) to represent that value.  -- <cite>Learning Python 2013</cite>\n",
    " \n",
    "  Not fully true, CPython caches and reuses some immutable objects to save time and memory: "
   ]
  },
  {
   "cell_type": "code",
   "execution_count": 3,
   "metadata": {},
   "outputs": [
    {
     "name": "stdout",
     "output_type": "stream",
     "text": [
      "False\n",
      "True\n"
     ]
    }
   ],
   "source": [
    "# CPython caches small integers \n",
    "a = 1000 \n",
    "b = 1000 \n",
    "\n",
    "# Makes sense two different integer objects so they have different ids\n",
    "print(a is b)  \n",
    "\n",
    "a = 100 \n",
    "b = 100 \n",
    "\n",
    "# However, for small integer objects, CPython caches them \n",
    "# this means that a and b point to the same object \n",
    "print(a is b)"
   ]
  },
  {
   "cell_type": "code",
   "execution_count": 4,
   "metadata": {},
   "outputs": [
    {
     "data": {
      "text/plain": [
       "True"
      ]
     },
     "execution_count": 4,
     "metadata": {},
     "output_type": "execute_result"
    }
   ],
   "source": [
    "# CPython does the same for short strings \n",
    "str1 = 'MPCS'\n",
    "str2 = 'MPCS'\n",
    "str1 is str2"
   ]
  },
  {
   "cell_type": "markdown",
   "metadata": {},
   "source": [
    "#### Copying Objects \n",
    "\n",
    "If ``y = x`` does not make a copy, how does one get a copy? \n",
    "\n",
    " - The ``copy`` module provies functions for generating **shallow** and **deep** copies:\n",
    "    - Shallow copy: constructs a new compound object and then inserts references into it of the objects found in the original.\n",
    "    - Deep copy: constructs a new compound object and then, recursively, inserts copies into it from the objects found in the original object."
   ]
  },
  {
   "cell_type": "code",
   "execution_count": 7,
   "metadata": {},
   "outputs": [
    {
     "name": "stdout",
     "output_type": "stream",
     "text": [
      "False\n",
      "True\n",
      "False\n"
     ]
    }
   ],
   "source": [
    "# Shallow Copy example \n",
    "import copy\n",
    "x = [[1, 2], [3, 4]]\n",
    "y = copy.copy(x)\n",
    "\n",
    "print(x is y)\n",
    "print(y[0] is x[0])"
   ]
  },
  {
   "cell_type": "code",
   "execution_count": 9,
   "metadata": {},
   "outputs": [
    {
     "name": "stdout",
     "output_type": "stream",
     "text": [
      "False\n"
     ]
    }
   ],
   "source": [
    "#For sequences, you can also make a shallow copy with a slice:\n",
    "\n",
    "z = x[:]\n",
    "print(x is z)"
   ]
  },
  {
   "cell_type": "code",
   "execution_count": 8,
   "metadata": {},
   "outputs": [
    {
     "data": {
      "text/plain": [
       "False"
      ]
     },
     "execution_count": 8,
     "metadata": {},
     "output_type": "execute_result"
    }
   ],
   "source": [
    "# Deep copy example \n",
    "z = copy.deepcopy(x)\n",
    "z[0] is x[0]"
   ]
  },
  {
   "cell_type": "markdown",
   "metadata": {},
   "source": [
    "#### Garbage Collection \n",
    "\n",
    "> Whenever a name is assigned to a new object, the space held by the prior object is reclaimed if it is not referenced by any other name or object. This automatic reclamation of objects' space is known as **garbage collection** -- <cite>Learning Python 2013</cite>\n",
    "\n",
    "Behind the scenes, an object has two header fields: \n",
    " - Type designator: The object's type (a pointer to an object of type type)\n",
    " - Reference counter: Count of names/objects referencing the object\n",
    "\n",
    "Python interpreter will reclaim an object's memory exactly when the objects' reference count drops to zero.\n",
    "  - Reclaimed memory is free to be used for future objects. "
   ]
  },
  {
   "cell_type": "code",
   "execution_count": 2,
   "metadata": {},
   "outputs": [
    {
     "data": {
      "text/plain": [
       "2"
      ]
     },
     "execution_count": 2,
     "metadata": {},
     "output_type": "execute_result"
    }
   ],
   "source": [
    "import sys\n",
    "intel_amd_apple = ['Intel', 'AMD', 'Apple']\n",
    "\n",
    "sys.getrefcount(intel_amd_apple)"
   ]
  },
  {
   "cell_type": "markdown",
   "metadata": {},
   "source": [
    "Why do you think there are there TWO references instead of one?"
   ]
  },
  {
   "cell_type": "markdown",
   "metadata": {},
   "source": [
    "### Deleting Names \n",
    "\n",
    "Use the ``del`` statement to explicitly remove a predefined variable"
   ]
  },
  {
   "cell_type": "code",
   "execution_count": 3,
   "metadata": {},
   "outputs": [
    {
     "data": {
      "text/plain": [
       "['Intel', 'AMD', 'Apple']"
      ]
     },
     "execution_count": 3,
     "metadata": {},
     "output_type": "execute_result"
    }
   ],
   "source": [
    "y = x\n",
    "del x\n",
    "y"
   ]
  },
  {
   "cell_type": "code",
   "execution_count": 4,
   "metadata": {},
   "outputs": [
    {
     "ename": "NameError",
     "evalue": "name 'x' is not defined",
     "traceback": [
      "\u001b[0;31m---------------------------------------------------------------------------\u001b[0m",
      "\u001b[0;31mNameError\u001b[0m                                 Traceback (most recent call last)",
      "\u001b[0;32m<ipython-input-4-67eb9c893df9>\u001b[0m in \u001b[0;36m<module>\u001b[0;34m\u001b[0m\n\u001b[1;32m      1\u001b[0m \u001b[0;31m# Trying to access x will cause an error because you deleted the name.\u001b[0m\u001b[0;34m\u001b[0m\u001b[0;34m\u001b[0m\u001b[0;34m\u001b[0m\u001b[0m\n\u001b[0;32m----> 2\u001b[0;31m \u001b[0mx\u001b[0m\u001b[0;34m\u001b[0m\u001b[0;34m\u001b[0m\u001b[0m\n\u001b[0m",
      "\u001b[0;31mNameError\u001b[0m: name 'x' is not defined"
     ],
     "output_type": "error"
    }
   ],
   "source": [
    "# Trying to access x will cause an error because you deleted the name.\n",
    "x"
   ]
  },
  {
   "cell_type": "code",
   "execution_count": 5,
   "metadata": {},
   "outputs": [
    {
     "data": {
      "text/plain": [
       "['Intel']"
      ]
     },
     "execution_count": 5,
     "metadata": {},
     "output_type": "execute_result"
    }
   ],
   "source": [
    "# Deleting a name does not delete an object. \n",
    "# Deletion just decreases the reference count for the \n",
    "# associated object.  \n",
    "del y[1:]\n",
    "y"
   ]
  },
  {
   "cell_type": "markdown",
   "metadata": {},
   "source": [
    "#### Multiple Assigment Summary \n",
    "\n",
    "![alt text](../images/assignment_forms.png \"Learning Python 2013\") -- <cite>Learning Python 2013</cite>\n",
    "\n"
   ]
  },
  {
   "cell_type": "code",
   "execution_count": 8,
   "metadata": {},
   "outputs": [
    {
     "name": "stdout",
     "output_type": "stream",
     "text": [
      "lunch\n",
      "lunch\n"
     ]
    }
   ],
   "source": [
    "spam = ham = 'lunch'\n",
    "print(spam)\n",
    "print(ham)"
   ]
  },
  {
   "cell_type": "code",
   "execution_count": null,
   "metadata": {},
   "outputs": [],
   "source": [
    "# Deep Nesting example \n",
    "((lst,num),y), letter  = [((['a','b'],3), 4), 'a'] \n",
    "print(lst)\n",
    "print(num)"
   ]
  }
 ],
 "metadata": {
  "kernelspec": {
   "display_name": "Python 3",
   "language": "python",
   "name": "python3"
  },
  "language_info": {
   "codemirror_mode": {
    "name": "ipython",
    "version": 3.0
   },
   "file_extension": ".py",
   "mimetype": "text/x-python",
   "name": "python",
   "nbconvert_exporter": "python",
   "pygments_lexer": "ipython3",
   "version": "3.9.0"
  }
 },
 "nbformat": 4,
 "nbformat_minor": 0
}