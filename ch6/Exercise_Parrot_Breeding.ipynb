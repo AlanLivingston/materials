{
 "cells": [
  {
   "cell_type": "code",
   "execution_count": 32,
   "metadata": {},
   "outputs": [],
   "source": [
    "class GeneticError(Exception):\n",
    "    pass\n",
    "\n",
    "class Parrot():\n",
    "    pass\n",
    "\n",
    "class BlueAndGoldMaccaw(Parrot):\n",
    "    pass\n",
    "\n",
    "class ScarletMaccaw(Parrot):\n",
    "    def __add__(self, other):\n",
    "        if type(other).__name__ == \"BlueAndGoldMaccaw\":\n",
    "            return CatalinaMaccaw()\n",
    "        elif type(other).__name__ == \"ScarletMaccaw\":\n",
    "            return ScarletMaccaw()\n",
    "        else:\n",
    "            raise GeneticError(\"These two species cannot breed together!\")\n",
    "\n",
    "\n",
    "class CatalinaMaccaw(Parrot):\n",
    "    pass"
   ]
  },
  {
   "cell_type": "code",
   "execution_count": 36,
   "metadata": {},
   "outputs": [
    {
     "ename": "GeneticError",
     "evalue": "These two species cannot breed together!",
     "traceback": [
      "\u001b[0;31m---------------------------------------------------------------------------\u001b[0m",
      "\u001b[0;31mGeneticError\u001b[0m                              Traceback (most recent call last)",
      "\u001b[0;32m<ipython-input-36-8c3f3ef99ea4>\u001b[0m in \u001b[0;36m<module>\u001b[0;34m\u001b[0m\n\u001b[0;32m----> 1\u001b[0;31m \u001b[0mScarletMaccaw\u001b[0m\u001b[0;34m(\u001b[0m\u001b[0;34m)\u001b[0m \u001b[0;34m+\u001b[0m \u001b[0mCatalinaMaccaw\u001b[0m\u001b[0;34m(\u001b[0m\u001b[0;34m)\u001b[0m\u001b[0;34m\u001b[0m\u001b[0;34m\u001b[0m\u001b[0m\n\u001b[0m",
      "\u001b[0;32m<ipython-input-32-7430a39e24c2>\u001b[0m in \u001b[0;36m__add__\u001b[0;34m(self, other)\u001b[0m\n\u001b[1;32m     15\u001b[0m             \u001b[0;32mreturn\u001b[0m \u001b[0mScarletMaccaw\u001b[0m\u001b[0;34m(\u001b[0m\u001b[0;34m)\u001b[0m\u001b[0;34m\u001b[0m\u001b[0;34m\u001b[0m\u001b[0m\n\u001b[1;32m     16\u001b[0m         \u001b[0;32melse\u001b[0m\u001b[0;34m:\u001b[0m\u001b[0;34m\u001b[0m\u001b[0;34m\u001b[0m\u001b[0m\n\u001b[0;32m---> 17\u001b[0;31m             \u001b[0;32mraise\u001b[0m \u001b[0mGeneticError\u001b[0m\u001b[0;34m(\u001b[0m\u001b[0;34m\"These two species cannot breed together!\"\u001b[0m\u001b[0;34m)\u001b[0m\u001b[0;34m\u001b[0m\u001b[0;34m\u001b[0m\u001b[0m\n\u001b[0m\u001b[1;32m     18\u001b[0m \u001b[0;34m\u001b[0m\u001b[0m\n\u001b[1;32m     19\u001b[0m \u001b[0;34m\u001b[0m\u001b[0m\n",
      "\u001b[0;31mGeneticError\u001b[0m: These two species cannot breed together!"
     ],
     "output_type": "error"
    }
   ],
   "source": [
    "ScarletMaccaw() + CatalinaMaccaw()"
   ]
  },
  {
   "cell_type": "code",
   "execution_count": null,
   "metadata": {},
   "outputs": [],
   "source": [
    ""
   ]
  }
 ],
 "metadata": {
  "kernelspec": {
   "display_name": "Python 3",
   "language": "python",
   "name": "python3"
  },
  "language_info": {
   "codemirror_mode": {
    "name": "ipython",
    "version": 3.0
   },
   "file_extension": ".py",
   "mimetype": "text/x-python",
   "name": "python",
   "nbconvert_exporter": "python",
   "pygments_lexer": "ipython3",
   "version": "3.6.8"
  }
 },
 "nbformat": 4,
 "nbformat_minor": 0
}