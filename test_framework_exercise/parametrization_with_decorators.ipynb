{
 "cells": [
  {
   "cell_type": "code",
   "execution_count": null,
   "metadata": {},
   "outputs": [],
   "source": []
  },
  {
   "cell_type": "code",
   "execution_count": null,
   "metadata": {},
   "outputs": [],
   "source": [
    "from phoenix_test.matchers import FailedAssertion, Assertion, assert_that\n",
    "from phoenix_test.test import Test"
   ]
  },
  {
   "cell_type": "code",
   "execution_count": null,
   "metadata": {},
   "outputs": [],
   "source": []
  },
  {
   "cell_type": "code",
   "execution_count": null,
   "metadata": {},
   "outputs": [],
   "source": [
    "def parametrize(inputs):\n",
    "    def decorator(function):\n",
    "        for example in inputs:\n",
    "            print(f\"Running {function.__name__} with args {example}\")\n",
    "            try:\n",
    "                function(*example)\n",
    "            except Exception as e:\n",
    "                print(\"  \" + str(e))\n",
    "    return decorator \n",
    "\n",
    "data = [\n",
    "    (\"x\", \"x\"),\n",
    "    (\"2\", \"2\"),\n",
    "    (\"2\", \"21\"),\n",
    "    (2, 5)\n",
    "]\n",
    "\n",
    "@parametrize(data)\n",
    "def test_one_two_equal(one, two):\n",
    "    assert_that(one).equals(two)\n",
    "    \n"
   ]
  },
  {
   "cell_type": "code",
   "execution_count": null,
   "metadata": {},
   "outputs": [],
   "source": []
  }
 ],
 "metadata": {
  "kernelspec": {
   "display_name": "Python 3",
   "language": "python",
   "name": "python3"
  },
  "language_info": {
   "codemirror_mode": {
    "name": "ipython",
    "version": 3
   },
   "file_extension": ".py",
   "mimetype": "text/x-python",
   "name": "python",
   "nbconvert_exporter": "python",
   "pygments_lexer": "ipython3",
   "version": "3.9.0"
  }
 },
 "nbformat": 4,
 "nbformat_minor": 4
}
