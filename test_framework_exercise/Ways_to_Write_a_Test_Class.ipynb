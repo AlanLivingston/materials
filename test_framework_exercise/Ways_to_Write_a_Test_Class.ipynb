{
 "cells": [
  {
   "cell_type": "markdown",
   "metadata": {},
   "source": [
    "One of your homework assignments was to write a method that finds twos. It takes two lists and returns any elements that appears inboth lists containing the digit 2.\n",
    "\n",
    "Here is a pretty terrible implementation of `find_twos`:"
   ]
  },
  {
   "cell_type": "code",
   "execution_count": 129,
   "metadata": {},
   "outputs": [],
   "source": [
    "def find_twos(first_list, second_list):\n",
    "    return []"
   ]
  },
  {
   "cell_type": "markdown",
   "metadata": {},
   "source": [
    "This is not a great implementation of `find_twos`, clearly :), but we can use it to write some tests and make sure that those tests pass and fail at the right times!\n",
    "\n",
    "When we write the tests before the code, that is called **Test Driven Development (TDD)**."
   ]
  },
  {
   "cell_type": "markdown",
   "metadata": {},
   "source": [
    "How would we make sure that `find_twos` is working?\n",
    "\n",
    "### This is one way:"
   ]
  },
  {
   "cell_type": "code",
   "execution_count": 1,
   "metadata": {},
   "outputs": [
    {
     "ename": "AssertionError",
     "evalue": "",
     "output_type": "error",
     "traceback": [
      "\u001b[0;31m---------------------------------------------------------------------------\u001b[0m",
      "\u001b[0;31mAssertionError\u001b[0m                            Traceback (most recent call last)",
      "\u001b[0;32m<ipython-input-1-ae2fb12a17a5>\u001b[0m in \u001b[0;36m<module>\u001b[0;34m\u001b[0m\n\u001b[1;32m     11\u001b[0m     \u001b[0;32massert\u001b[0m\u001b[0;34m(\u001b[0m\u001b[0mfind_twos\u001b[0m\u001b[0;34m(\u001b[0m\u001b[0;34m[\u001b[0m\u001b[0;36m1\u001b[0m\u001b[0;34m,\u001b[0m \u001b[0;36m3\u001b[0m\u001b[0;34m,\u001b[0m \u001b[0;36m4\u001b[0m\u001b[0;34m]\u001b[0m\u001b[0;34m,\u001b[0m \u001b[0;34m[\u001b[0m\u001b[0;36m1\u001b[0m\u001b[0;34m,\u001b[0m \u001b[0;36m3\u001b[0m\u001b[0;34m,\u001b[0m \u001b[0;36m4\u001b[0m\u001b[0;34m]\u001b[0m\u001b[0;34m)\u001b[0m \u001b[0;34m==\u001b[0m \u001b[0;34m[\u001b[0m\u001b[0;34m]\u001b[0m\u001b[0;34m)\u001b[0m\u001b[0;34m\u001b[0m\u001b[0;34m\u001b[0m\u001b[0m\n\u001b[1;32m     12\u001b[0m \u001b[0;34m\u001b[0m\u001b[0m\n\u001b[0;32m---> 13\u001b[0;31m \u001b[0mtest_find_twos\u001b[0m\u001b[0;34m(\u001b[0m\u001b[0;34m)\u001b[0m\u001b[0;34m\u001b[0m\u001b[0;34m\u001b[0m\u001b[0m\n\u001b[0m",
      "\u001b[0;32m<ipython-input-1-ae2fb12a17a5>\u001b[0m in \u001b[0;36mtest_find_twos\u001b[0;34m()\u001b[0m\n\u001b[1;32m      5\u001b[0m     \u001b[0;32massert\u001b[0m\u001b[0;34m(\u001b[0m\u001b[0mfind_twos\u001b[0m\u001b[0;34m(\u001b[0m\u001b[0;34m[\u001b[0m\u001b[0;34m]\u001b[0m\u001b[0;34m,\u001b[0m \u001b[0;34m[\u001b[0m\u001b[0;34m]\u001b[0m\u001b[0;34m)\u001b[0m \u001b[0;34m==\u001b[0m \u001b[0;34m[\u001b[0m\u001b[0;34m]\u001b[0m\u001b[0;34m)\u001b[0m\u001b[0;34m\u001b[0m\u001b[0;34m\u001b[0m\u001b[0m\n\u001b[1;32m      6\u001b[0m     \u001b[0;32massert\u001b[0m\u001b[0;34m(\u001b[0m\u001b[0mfind_twos\u001b[0m\u001b[0;34m(\u001b[0m\u001b[0;34m[\u001b[0m\u001b[0;36m2\u001b[0m\u001b[0;34m]\u001b[0m\u001b[0;34m,\u001b[0m \u001b[0;34m[\u001b[0m\u001b[0;36m12\u001b[0m\u001b[0;34m]\u001b[0m\u001b[0;34m)\u001b[0m \u001b[0;34m==\u001b[0m \u001b[0;34m[\u001b[0m\u001b[0;34m]\u001b[0m\u001b[0;34m)\u001b[0m\u001b[0;34m\u001b[0m\u001b[0;34m\u001b[0m\u001b[0m\n\u001b[0;32m----> 7\u001b[0;31m     \u001b[0;32massert\u001b[0m\u001b[0;34m(\u001b[0m\u001b[0mfind_twos\u001b[0m\u001b[0;34m(\u001b[0m\u001b[0;34m[\u001b[0m\u001b[0;36m12\u001b[0m\u001b[0;34m]\u001b[0m\u001b[0;34m,\u001b[0m \u001b[0;34m[\u001b[0m\u001b[0;36m12\u001b[0m\u001b[0;34m]\u001b[0m\u001b[0;34m)\u001b[0m \u001b[0;34m==\u001b[0m \u001b[0;34m[\u001b[0m\u001b[0;36m12\u001b[0m\u001b[0;34m]\u001b[0m\u001b[0;34m)\u001b[0m\u001b[0;34m\u001b[0m\u001b[0;34m\u001b[0m\u001b[0m\n\u001b[0m\u001b[1;32m      8\u001b[0m     \u001b[0;32massert\u001b[0m\u001b[0;34m(\u001b[0m\u001b[0mfind_twos\u001b[0m\u001b[0;34m(\u001b[0m\u001b[0;34m[\u001b[0m\u001b[0;36m12\u001b[0m\u001b[0;34m,\u001b[0m \u001b[0;36m2\u001b[0m\u001b[0;34m]\u001b[0m\u001b[0;34m,\u001b[0m \u001b[0;34m[\u001b[0m\u001b[0;36m12\u001b[0m\u001b[0;34m]\u001b[0m\u001b[0;34m)\u001b[0m \u001b[0;34m==\u001b[0m \u001b[0;34m[\u001b[0m\u001b[0;36m12\u001b[0m\u001b[0;34m]\u001b[0m\u001b[0;34m)\u001b[0m\u001b[0;34m\u001b[0m\u001b[0;34m\u001b[0m\u001b[0m\n\u001b[1;32m      9\u001b[0m     \u001b[0;32massert\u001b[0m\u001b[0;34m(\u001b[0m\u001b[0mfind_twos\u001b[0m\u001b[0;34m(\u001b[0m\u001b[0;34m[\u001b[0m\u001b[0;36m12\u001b[0m\u001b[0;34m,\u001b[0m \u001b[0;36m2\u001b[0m\u001b[0;34m,\u001b[0m \u001b[0;36m3\u001b[0m\u001b[0;34m]\u001b[0m\u001b[0;34m,\u001b[0m \u001b[0;34m[\u001b[0m\u001b[0;36m12\u001b[0m\u001b[0;34m,\u001b[0m \u001b[0;36m2\u001b[0m\u001b[0;34m]\u001b[0m\u001b[0;34m)\u001b[0m \u001b[0;34m==\u001b[0m \u001b[0;34m[\u001b[0m\u001b[0;36m12\u001b[0m\u001b[0;34m,\u001b[0m \u001b[0;36m2\u001b[0m\u001b[0;34m]\u001b[0m\u001b[0;34m)\u001b[0m\u001b[0;34m\u001b[0m\u001b[0;34m\u001b[0m\u001b[0m\n",
      "\u001b[0;31mAssertionError\u001b[0m: "
     ]
    }
   ],
   "source": [
    "def test_find_twos():\n",
    "    assert(find_twos([], []) == [])\n",
    "    assert(find_twos([2], [12]) == [])\n",
    "    assert(find_twos([12], [12]) == [12])\n",
    "    assert(find_twos([12, 2], [12]) == [12])\n",
    "    assert(find_twos([12, 2, 3], [12, 2]) == [12, 2])\n",
    "    assert(find_twos([12, 3], [12, 2]) == [12])\n",
    "    assert(find_twos([1, 3, 4], [1, 3, 4]) == [])\n",
    "    \n",
    "test_find_twos()"
   ]
  },
  {
   "cell_type": "markdown",
   "metadata": {},
   "source": [
    "**What are some of the problems with that way?**"
   ]
  },
  {
   "cell_type": "markdown",
   "metadata": {},
   "source": [
    "### OK, how about this way? Is this better?"
   ]
  },
  {
   "cell_type": "code",
   "execution_count": 2,
   "metadata": {},
   "outputs": [
    {
     "name": "stdout",
     "output_type": "stream",
     "text": [
      "Whoops. For example ('2', '2', [2]), the function returned [].\n",
      "Whoops. For example ('12', '2, 12', [12]), the function returned [].\n",
      "Whoops. For example ('1, 3, 5, 12, 7, 200', '2, 6, 9, 200, 5', [200]), the function returned [].\n",
      "Whoops. For example ('1, 2, 20, 22, 44, 99', '3, 5, 22, 100, 44, 2', [2, 22]), the function returned [].\n",
      "Whoops. For example ('1,2, 20,22, 44, 99', '3,5, 22, 100, 44, 2', [2, 22]), the function returned [].\n",
      "Whoops. For example ('1,2, 20,22, 22,44, 20, 99', '3,5, 22, 100, 44, 2', [2, 22]), the function returned [].\n",
      "Whoops. For example ('1, 2, 20, 22', '3, 2, 20, 22', [2, 20, 22]), the function returned [].\n",
      "\n",
      "5 out of 12 examples worked as expected.\n"
     ]
    }
   ],
   "source": [
    "def test(function, examples):\n",
    "    passed = 0\n",
    "    run = 0\n",
    "\n",
    "    for example in examples:\n",
    "        run += 1\n",
    "        expected = example[-1]\n",
    "        actual = function(*example[:-1])\n",
    "\n",
    "        if expected == actual:\n",
    "            passed += 1\n",
    "        else:\n",
    "            print(f\"Whoops. For example {example}, the function returned {actual}.\")\n",
    "\n",
    "    print(f\"\\n{passed} out of {run} examples worked as expected.\")\n",
    "\n",
    "find_twos_examples = [\n",
    "    (\"\", \"\", []),\n",
    "    (\"1\", \"1, 3\", []),\n",
    "    (\"2\", \"\", []),\n",
    "    (\"2\", \"1, 3\", []),\n",
    "    (\"2\", \"2\", [2]),\n",
    "    (\"2\", \"12\", []),\n",
    "    (\"12\", \"2, 12\", [12]),\n",
    "    (\"1, 3, 5, 12, 7, 200\", \"2, 6, 9, 200, 5\", [200]),\n",
    "    (\"1, 2, 20, 22, 44, 99\", \"3, 5, 22, 100, 44, 2\", [2, 22]),\n",
    "    (\"1,2, 20,22, 44, 99\", \"3,5, 22, 100, 44, 2\", [2, 22]),\n",
    "    (\"1,2, 20,22, 22,44, 20, 99\", \"3,5, 22, 100, 44, 2\", [2, 22]),\n",
    "    (\"1, 2, 20, 22\", \"3, 2, 20, 22\", [2, 20, 22]),\n",
    "]\n",
    "\n",
    "test(function=find_twos, examples=find_twos_examples)"
   ]
  },
  {
   "cell_type": "markdown",
   "metadata": {},
   "source": [
    "**What do you like about this way? What don't you like about this way?**"
   ]
  },
  {
   "cell_type": "markdown",
   "metadata": {},
   "source": [
    "### Let's see if we can get this to work instead:\n",
    "\n",
    "```\n",
    ">>> assert_that(find_twos(\"\", \"\")).equals([])\n",
    ">>> True\n",
    "\n",
    ">>> assert_that(find_twos(\"\", \"\")).equals([\"wrong answer\"])\n",
    ">>> FailedAssertion: Expected ['wrong answer'] but got []\n",
    "```\n",
    "\n",
    "### BREAKOUT GROUP TIME 🎉🎉🎉\n",
    "\n",
    "Here's some code to get you started:"
   ]
  },
  {
   "cell_type": "code",
   "execution_count": 67,
   "metadata": {},
   "outputs": [],
   "source": [
    "class FailedAssertion(Exception):\n",
    "    pass\n",
    "\n",
    "class Assertion:\n",
    "    def __init__(self, expression):\n",
    "        self.expression = expression\n",
    "\n",
    "    def equals(self, expected_result):\n",
    "        '''\n",
    "            This method should return True if the assertion works\n",
    "            And it should raise a FailedAssertion if it doesn't. GO!\n",
    "        '''\n",
    "        \n",
    "def assert_that(expression):\n",
    "    return Assertion(expression)"
   ]
  },
  {
   "cell_type": "code",
   "execution_count": 68,
   "metadata": {},
   "outputs": [
    {
     "data": {
      "text/plain": [
       "True"
      ]
     },
     "execution_count": 68,
     "metadata": {},
     "output_type": "execute_result"
    }
   ],
   "source": [
    "assert_that(find_twos(\"\", \"\")).equals([])"
   ]
  },
  {
   "cell_type": "code",
   "execution_count": 69,
   "metadata": {},
   "outputs": [
    {
     "ename": "FailedAssertion",
     "evalue": "Expected ['wrong answer'] but got []",
     "output_type": "error",
     "traceback": [
      "\u001b[0;31m---------------------------------------------------------------------------\u001b[0m",
      "\u001b[0;31mFailedAssertion\u001b[0m                           Traceback (most recent call last)",
      "\u001b[0;32m<ipython-input-69-bbb2787e4f24>\u001b[0m in \u001b[0;36m<module>\u001b[0;34m\u001b[0m\n\u001b[0;32m----> 1\u001b[0;31m \u001b[0massert_that\u001b[0m\u001b[0;34m(\u001b[0m\u001b[0mfind_twos\u001b[0m\u001b[0;34m(\u001b[0m\u001b[0;34m\"\"\u001b[0m\u001b[0;34m,\u001b[0m \u001b[0;34m\"\"\u001b[0m\u001b[0;34m)\u001b[0m\u001b[0;34m)\u001b[0m\u001b[0;34m.\u001b[0m\u001b[0mequals\u001b[0m\u001b[0;34m(\u001b[0m\u001b[0;34m[\u001b[0m\u001b[0;34m\"wrong answer\"\u001b[0m\u001b[0;34m]\u001b[0m\u001b[0;34m)\u001b[0m\u001b[0;34m\u001b[0m\u001b[0;34m\u001b[0m\u001b[0m\n\u001b[0m",
      "\u001b[0;32m<ipython-input-67-a680e7ac7b66>\u001b[0m in \u001b[0;36mequals\u001b[0;34m(self, expected_result)\u001b[0m\n\u001b[1;32m     10\u001b[0m             \u001b[0;32mreturn\u001b[0m \u001b[0;32mTrue\u001b[0m\u001b[0;34m\u001b[0m\u001b[0;34m\u001b[0m\u001b[0m\n\u001b[1;32m     11\u001b[0m         \u001b[0;32melse\u001b[0m\u001b[0;34m:\u001b[0m\u001b[0;34m\u001b[0m\u001b[0;34m\u001b[0m\u001b[0m\n\u001b[0;32m---> 12\u001b[0;31m             \u001b[0;32mraise\u001b[0m \u001b[0mFailedAssertion\u001b[0m\u001b[0;34m(\u001b[0m\u001b[0;34mf\"Expected {expected_result} but got {self.expression}\"\u001b[0m\u001b[0;34m)\u001b[0m\u001b[0;34m\u001b[0m\u001b[0;34m\u001b[0m\u001b[0m\n\u001b[0m\u001b[1;32m     13\u001b[0m \u001b[0;34m\u001b[0m\u001b[0m\n\u001b[1;32m     14\u001b[0m \u001b[0;32mdef\u001b[0m \u001b[0massert_that\u001b[0m\u001b[0;34m(\u001b[0m\u001b[0mexpression\u001b[0m\u001b[0;34m)\u001b[0m\u001b[0;34m:\u001b[0m\u001b[0;34m\u001b[0m\u001b[0;34m\u001b[0m\u001b[0m\n",
      "\u001b[0;31mFailedAssertion\u001b[0m: Expected ['wrong answer'] but got []"
     ]
    }
   ],
   "source": [
    "assert_that(find_twos(\"\", \"\")).equals([\"wrong answer\"])"
   ]
  },
  {
   "cell_type": "markdown",
   "metadata": {},
   "source": [
    "The `assert_that` and `equals` methods that we have called above are called **matchers**. Test frameworks often have a wide variety of matchers that programmers like you or I can use to write expressions describing all the things we want to check in our tests. We will write more matchers a little later, but `.equals()` is a great one to start with.\n",
    "\n",
    "We can use our `.equals()` matcher to write tests for `find_twos` like this:"
   ]
  },
  {
   "cell_type": "code",
   "execution_count": 84,
   "metadata": {},
   "outputs": [],
   "source": [
    "    def test_empty_inputs(self):\n",
    "        assert_that(find_twos(\"\", \"\")).equals([])\n",
    "        assert_that(find_twos(\"2\", \"\")).equals([])\n",
    "        assert_that(find_twos(\"2\", \"\")).equals([])\n",
    "\n",
    "    def test_non_matching_sets(self):\n",
    "        assert_that(find_twos(\"1\", \"1, 3\")).equals([])\n",
    "\n",
    "    def test_non_matching_twos(self):\n",
    "        assert_that(find_twos(\"2\", \"1, 3\")).equals([])\n",
    "        \n",
    "    def test_matches(self):\n",
    "        assert_that(find_twos(\"12\", \"2, 12\")).equals([12])\n",
    "        assert_that(find_twos(\"1, 2, 20, 22, 44, 99\", \"3, 5, 22, 100, 44, 2\")).equals([2, 22])"
   ]
  },
  {
   "cell_type": "markdown",
   "metadata": {},
   "source": [
    "We could call each of the above methods individually:"
   ]
  },
  {
   "cell_type": "code",
   "execution_count": 81,
   "metadata": {},
   "outputs": [],
   "source": [
    "tests = FindTwosTest()\n",
    "test_empty_inputs()"
   ]
  },
  {
   "cell_type": "code",
   "execution_count": 83,
   "metadata": {},
   "outputs": [],
   "source": [
    "test_non_matching_sets()"
   ]
  },
  {
   "cell_type": "markdown",
   "metadata": {},
   "source": [
    "But that's kind of annoying. We don't want to have to explicitly _call_ every test that we write like this. It would be annoying to have to keep a file that just lists out and calls every single test method so we can run our tests all at once...plus, that's mistake-prone, since we might write a test and forget to put it in the list, or delete one and forget to take it out.\n",
    "\n",
    "What if our `Test` superclass were able to run all our tests for us?"
   ]
  },
  {
   "cell_type": "code",
   "execution_count": 109,
   "metadata": {},
   "outputs": [],
   "source": [
    "class Test():\n",
    "    # Runs all the test methods. HOW?!?!\n",
    "    def run(self):\n",
    "        test_methods = [\n",
    "            token for token in dir(self) \\\n",
    "            if token.startswith(\"test\")  \\\n",
    "            and callable(getattr(self.__class__, token))\n",
    "        ]\n",
    "        for method in test_methods:\n",
    "            print(f\"Running {method}.\")\n",
    "            try:\n",
    "                getattr(self.__class__, method).__call__(self)\n",
    "            except Exception as e:\n",
    "                print(e) "
   ]
  },
  {
   "cell_type": "markdown",
   "metadata": {},
   "source": [
    "**What is happening in this `run` method?**\n",
    "\n",
    "1. \"test_methods\" is assignmed using a **list comprehension**\n",
    "1. The backslashes in the list comprehension allow me to split what would be a very long line of Python into multiple lines for better legibility.\n",
    "\n",
    "You should recognize:\n",
    "1. The for loop\n",
    "1. The f-string in the print statement\n",
    "\n",
    "What are these things doing?\n",
    "1. The `dir` method\n",
    "1. The `.startswith()` method\n",
    "1. The `.__class__` method\n",
    "1. The `try` and `except` blocks\n",
    "1. The `.__getattr__` method\n",
    "1. The `callable` method\n",
    "1. The `__call__` method\n",
    "\n",
    "You will spend 90% of your programming time _reading_ code and the other 10% _writing_ code. So it is critical to practice _reading_ code and understanding what it is doing. Python provides you with some assistance for researching code that you are reading:"
   ]
  },
  {
   "cell_type": "code",
   "execution_count": 110,
   "metadata": {},
   "outputs": [
    {
     "data": {
      "text/plain": [
       "\"dir([object]) -> list of strings\\n\\nIf called without an argument, return the names in the current scope.\\nElse, return an alphabetized list of names comprising (some of) the attributes\\nof the given object, and of attributes reachable from it.\\nIf the object supplies a method named __dir__, it will be used; otherwise\\nthe default dir() logic is used and returns:\\n  for a module object: the module's attributes.\\n  for a class object:  its attributes, and recursively the attributes\\n    of its bases.\\n  for any other object: its attributes, its class's attributes, and\\n    recursively the attributes of its class's base classes.\""
      ]
     },
     "execution_count": 110,
     "metadata": {},
     "output_type": "execute_result"
    }
   ],
   "source": [
    "dir.__doc__"
   ]
  },
  {
   "cell_type": "code",
   "execution_count": 111,
   "metadata": {},
   "outputs": [
    {
     "name": "stdout",
     "output_type": "stream",
     "text": [
      "Help on built-in function dir in module builtins:\n",
      "\n",
      "dir(...)\n",
      "    dir([object]) -> list of strings\n",
      "    \n",
      "    If called without an argument, return the names in the current scope.\n",
      "    Else, return an alphabetized list of names comprising (some of) the attributes\n",
      "    of the given object, and of attributes reachable from it.\n",
      "    If the object supplies a method named __dir__, it will be used; otherwise\n",
      "    the default dir() logic is used and returns:\n",
      "      for a module object: the module's attributes.\n",
      "      for a class object:  its attributes, and recursively the attributes\n",
      "        of its bases.\n",
      "      for any other object: its attributes, its class's attributes, and\n",
      "        recursively the attributes of its class's base classes.\n",
      "\n"
     ]
    }
   ],
   "source": [
    "help(dir)"
   ]
  },
  {
   "cell_type": "markdown",
   "metadata": {},
   "source": [
    "So the Test class is going to be our **superclass**. We can now **subclass** that Test class like so:"
   ]
  },
  {
   "cell_type": "code",
   "execution_count": 112,
   "metadata": {},
   "outputs": [],
   "source": [
    "class FindTwosTest(Test):\n",
    "    test_useless_attribute = None\n",
    "    test_other_useless_attribute = None\n",
    "\n",
    "    def test_empty_inputs(self):\n",
    "        print(\"\")\n",
    "        assert_that(find_twos(\"\", \"\")).equals([])\n",
    "        assert_that(find_twos(\"2\", \"\")).equals([])\n",
    "        assert_that(find_twos(\"2\", \"\")).equals([])\n",
    "\n",
    "    def test_non_matching_sets(self):\n",
    "        assert_that(find_twos(\"1\", \"1, 3\")).equals([])\n",
    "\n",
    "    def test_non_matching_twos(self):\n",
    "        assert_that(find_twos(\"2\", \"1, 3\")).equals([])\n",
    "        \n",
    "    def test_matches(self):\n",
    "        assert_that(find_twos(\"12\", \"2, 12\")).equals([12])\n",
    "        assert_that(find_twos(\"1, 2, 20, 22, 44, 99\", \"3, 5, 22, 100, 44, 2\")).equals([2, 22])"
   ]
  },
  {
   "cell_type": "code",
   "execution_count": 113,
   "metadata": {},
   "outputs": [
    {
     "name": "stdout",
     "output_type": "stream",
     "text": [
      "Running test_empty_inputs.\n",
      "\n",
      "Running test_matches.\n",
      "Expected [12] but got []\n",
      "Running test_non_matching_sets.\n",
      "Running test_non_matching_twos.\n"
     ]
    }
   ],
   "source": [
    "FindTwosTest().run()"
   ]
  },
  {
   "cell_type": "markdown",
   "metadata": {},
   "source": [
    "On _this particular_ code, I have kept it in small chunks inside of a REPL environment so that you can remove or change lines of code to investigate what they are doing. For example:\n",
    "\n",
    "1. What happens if you remove the \"f\" from the front of the f-string?\n",
    "1. What happens if you comment out `and callable(getattr(self.__class__, token))` in the list comprehension?\n",
    "1. What happens if you remove the try/except above and just call `getattr(self.__class__, method).__call__(self)` right after the print statement?"
   ]
  },
  {
   "cell_type": "markdown",
   "metadata": {},
   "source": [
    "### We have a test runner. Woo!\n",
    "\n",
    "Now, things could be better about this test runner. \n",
    "\n",
    "**Challenge 1:** Get the test output to count up and print out passages and failures for the test class that you've run."
   ]
  },
  {
   "cell_type": "code",
   "execution_count": 116,
   "metadata": {},
   "outputs": [
    {
     "name": "stdout",
     "output_type": "stream",
     "text": [
      "Running test_empty_inputs.\n",
      "\n",
      "Running test_matches.\n",
      "Expected [12] but got []\n",
      "Running test_non_matching_sets.\n",
      "Running test_non_matching_twos.\n"
     ]
    }
   ],
   "source": [
    "FindTwosTest().run()"
   ]
  },
  {
   "cell_type": "markdown",
   "metadata": {},
   "source": [
    "**Challenge 2:** Get the test output to print in COLORS!\n",
    "\n",
    "Below see a block of example code to help you get started on that:"
   ]
  },
  {
   "cell_type": "code",
   "execution_count": 121,
   "metadata": {},
   "outputs": [
    {
     "name": "stdout",
     "output_type": "stream",
     "text": [
      "Requirement already satisfied: colorama in /Users/chelseatroy/.pyenv/versions/3.9.0/lib/python3.9/site-packages (0.4.4)\n",
      "\u001b[33mWARNING: You are using pip version 20.2.3; however, version 21.0 is available.\n",
      "You should consider upgrading via the '/Users/chelseatroy/.pyenv/versions/3.9.0/bin/python3.9 -m pip install --upgrade pip' command.\u001b[0m\n",
      "\u001b[31msome red text\n",
      "\u001b[32mand some green text\n",
      "\u001b[43myou can also do backgrounds\n",
      "\u001b[0m\n",
      "back to normal now\n"
     ]
    }
   ],
   "source": [
    "import sys\n",
    "\n",
    "# For this, we need to install a library.\n",
    "# When code requires a library to do something, we call that a dependency.\n",
    "!{sys.executable} -m pip install colorama \n",
    "\n",
    "from colorama import Fore, Back, Style \n",
    "print(Fore.RED + 'some red text') \n",
    "print(Fore.GREEN + 'and some green text') \n",
    "print(Back.YELLOW + 'you can also do backgrounds')\n",
    "print(Style.RESET_ALL) \n",
    "print('back to normal now')"
   ]
  },
  {
   "cell_type": "code",
   "execution_count": null,
   "metadata": {},
   "outputs": [],
   "source": [
    "FindTwosTest().run()"
   ]
  },
  {
   "cell_type": "markdown",
   "metadata": {},
   "source": [
    "### Okay, so. \n",
    "\n",
    "We have talked about the two critical components of a test framework:\n",
    "    \n",
    "1. A **runner** (to run the tests)\n",
    "1. Some **matchers** (to write expressive tests with useful failure messages)\n",
    "\n",
    "Now let's get a little more sophisticated. We've got one matcher, and it's a pretty useful matcher, so we can write a lot of tests with it. But what might be helfpul is to have some more matchers to make our tests more clear and expressive. For example, what if we had an `is_empty` matcher? Then we could do:"
   ]
  },
  {
   "cell_type": "code",
   "execution_count": 123,
   "metadata": {},
   "outputs": [],
   "source": [
    "class FindTwosTest(Test):\n",
    "\n",
    "    def test_empty_inputs(self):\n",
    "        print(\"\")\n",
    "        assert_that(find_twos(\"\", \"\")).is_empty()\n",
    "        assert_that(find_twos(\"2\", \"\")).is_empty()\n",
    "        assert_that(find_twos(\"2\", \"\")).is_empty()\n",
    "\n",
    "    def test_non_matching_sets(self):\n",
    "        assert_that(find_twos(\"1\", \"1, 3\")).is_empty()\n",
    "\n",
    "    def test_non_matching_twos(self):\n",
    "        assert_that(find_twos(\"2\", \"1, 3\")).is_empty()\n",
    "        \n",
    "    def test_matches(self):\n",
    "        assert_that(find_twos(\"12\", \"2, 12\")).equals([12])\n",
    "        assert_that(find_twos(\"1, 2, 20, 22, 44, 99\", \"3, 5, 22, 100, 44, 2\")).equals([2, 22])"
   ]
  },
  {
   "cell_type": "markdown",
   "metadata": {},
   "source": [
    "**Challenge 3:** Implement the `is_empty` assertion.\n",
    "\n",
    "Below see a block of example code to help you get started on that:"
   ]
  },
  {
   "cell_type": "code",
   "execution_count": 74,
   "metadata": {},
   "outputs": [],
   "source": [
    "# You can technically have a class subclass itself. \n",
    "# I have done so here to avoid copy-pasting the implementation of Assertion over.\n",
    "# We are now adding methods to the assertion class.\n",
    "# In Swift, by the way, there's a keyword for doing exactly this: extension.\n",
    "class Assertion(Assertion): \n",
    "    def is_empty():\n",
    "        '''\n",
    "            This method should return True if a collection has no items\n",
    "            And it should raise a FailedAssertion if it doesn't. GO!\n",
    "        '''\n",
    "        pass"
   ]
  },
  {
   "cell_type": "code",
   "execution_count": null,
   "metadata": {},
   "outputs": [],
   "source": [
    "FindTwosTest().run()"
   ]
  },
  {
   "cell_type": "markdown",
   "metadata": {},
   "source": [
    "Good, good. Our test framework is coming along swimmingly. \n",
    "\n",
    "One thing to know about tests is, when we're testing collections, it is often helpful to make sure the colleciton is the right _size_ before we go into a bunch of complicated assertions about what's _in_ it. With a nice matcher, we could do that like:"
   ]
  },
  {
   "cell_type": "code",
   "execution_count": 126,
   "metadata": {},
   "outputs": [],
   "source": [
    "class FindTwosTest(Test):\n",
    "\n",
    "    def test_matches(self):\n",
    "        assert_that(find_twos(\"12\", \"2, 12\")).has_size(1)\n",
    "        assert_that(find_twos(\"12\", \"2, 12\")).equals([12])\n",
    "        assert_that(find_twos(\"1, 2, 20, 22, 44, 99\", \"3, 5, 22, 100, 44, 2\")).has_size(2)\n",
    "        assert_that(find_twos(\"1, 2, 20, 22, 44, 99\", \"3, 5, 22, 100, 44, 2\")).equals([2, 22])"
   ]
  },
  {
   "cell_type": "markdown",
   "metadata": {},
   "source": [
    "**Challenge 4:** Implement the `has_size` assertion."
   ]
  },
  {
   "cell_type": "code",
   "execution_count": 127,
   "metadata": {},
   "outputs": [],
   "source": [
    "class Assertion(Assertion): \n",
    "    def has_size():\n",
    "        '''\n",
    "            This method should return True if a collection has the right number of items\n",
    "            And it should raise a FailedAssertion if it doesn't. GO!\n",
    "        '''\n",
    "        pass"
   ]
  },
  {
   "cell_type": "code",
   "execution_count": null,
   "metadata": {},
   "outputs": [],
   "source": [
    "FindTwosTest().run()"
   ]
  },
  {
   "cell_type": "markdown",
   "metadata": {},
   "source": [
    "Let's do just one more today. One of the annoying things about our implementation right now is that `find_twos` has to return results in a specific _order_ for the assertion to pass. For example, if we check:\n",
    "\n",
    "```\n",
    "assert_that(find_twos(\"1, 2, 20, 22, 44, 99\", \"3, 5, 22, 100, 44, 2\")).equals([2, 22])\n",
    "```\n",
    "\n",
    "And `find_twos` returns `[22, 2]`, it will fail. \n",
    "\n",
    "What if we don't care about order? What if we just want to make sure all the right items are in the collection, regardless of order? Then we could do:"
   ]
  },
  {
   "cell_type": "code",
   "execution_count": 126,
   "metadata": {},
   "outputs": [],
   "source": [
    "class FindTwosTest(Test):\n",
    "\n",
    "    def test_matches(self):\n",
    "        assert_that(find_twos(\"12\", \"2, 12\")).has_size(1)\n",
    "        assert_that(find_twos(\"12\", \"2, 12\")).has_items(12)\n",
    "        assert_that(find_twos(\"1, 2, 20, 22, 44, 99\", \"3, 5, 22, 100, 44, 2\")).has_size(2)\n",
    "        assert_that(find_twos(\"1, 2, 20, 22, 44, 99\", \"3, 5, 22, 100, 44, 2\")).has_items(2, 22)"
   ]
  },
  {
   "cell_type": "markdown",
   "metadata": {},
   "source": [
    "**Challenge 5:** Implement the `has_items` assertion.\n",
    "\n",
    "NOTE THAT the implementation above doesn't require the items to be passed in as a collection. Instead, the programmer writing the test can just pass in as many items to this method as they want."
   ]
  },
  {
   "cell_type": "code",
   "execution_count": null,
   "metadata": {},
   "outputs": [],
   "source": [
    "class Assertion(Assertion): \n",
    "    def has_items():\n",
    "        '''\n",
    "            This method should return True if a collection has the right items\n",
    "            And it should raise a FailedAssertion if it doesn't. GO!\n",
    "        '''\n",
    "        pass"
   ]
  },
  {
   "cell_type": "code",
   "execution_count": null,
   "metadata": {},
   "outputs": [],
   "source": [
    "FindTwosTest().run()"
   ]
  },
  {
   "cell_type": "code",
   "execution_count": null,
   "metadata": {},
   "outputs": [],
   "source": [
    "## Great Job!\n",
    "\n",
    "Next week, we will make our test framework even more sophisticated. For example, we might address these questions:\n",
    "    \n",
    "- What if I have several different subclasses of `Test` and I want to run _all_ my tests at once?\n",
    "- What if I have some code that I need to run before and after every test?\n",
    "- What if I want to be able to skip a test, or only run specific tests according to "
   ]
  }
 ],
 "metadata": {
  "kernelspec": {
   "display_name": "Python 3",
   "language": "python",
   "name": "python3"
  },
  "language_info": {
   "codemirror_mode": {
    "name": "ipython",
    "version": 3
   },
   "file_extension": ".py",
   "mimetype": "text/x-python",
   "name": "python",
   "nbconvert_exporter": "python",
   "pygments_lexer": "ipython3",
   "version": "3.9.0"
  }
 },
 "nbformat": 4,
 "nbformat_minor": 4
}
