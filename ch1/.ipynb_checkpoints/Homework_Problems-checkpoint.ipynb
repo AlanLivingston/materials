{
 "cells": [
  {
   "cell_type": "markdown",
   "metadata": {},
   "source": [
    "## Problem 0\n",
    "\n",
    "This is the very first problem, and since collections of items in programming are often zero-indexed, we'll call it Problem zero. You don't have to write code for this problem, but you do need to _read_ code and understand what it is doing.\n",
    "\n",
    "The other problems ask you to write code. To help you make sure your code is working, we have provided you with some tests in this file. Here is a test function that we will use to check your code against some examples:"
   ]
  },
  {
   "cell_type": "code",
   "execution_count": null,
   "metadata": {},
   "outputs": [],
   "source": [
    "def test(function, examples):\n",
    "    passed = 0\n",
    "    run = 0\n",
    "\n",
    "    for example in examples:\n",
    "        run += 1\n",
    "        expected = example[-1]\n",
    "        actual = function(*example[:-1])\n",
    "\n",
    "        if expected == actual: \n",
    "            passed += 1\n",
    "        else:\n",
    "            print(f\"Whoops. For example {example}, the function returned {actual}.\")\n",
    "\n",
    "    print(f\"\\n{passed} out of {run} examples worked as expected.\")"
   ]
  },
  {
   "cell_type": "markdown",
   "metadata": {},
   "source": [
    "For Problem 0, open the file called `problem_0.md` and explain what this function is doing by answering the following questions:\n",
    "\n",
    "1. What are the arguments and what types do these arguments need to have for this function to work?\n",
    "1. Walk us through the code line by line. What is happening here?\n",
    "1. Does this function have a return value? How do you know?"
   ]
  },
  {
   "cell_type": "markdown",
   "metadata": {},
   "source": [
    "## Problem 1\n",
    "\n",
    "Write a function called `find_twos` that accepts two strings of integers separated by commas and returns a list of integers that appear in both strings and have the digit 2 in them. There should be no duplicates in the output list. Make sure the program works when the lists have different lengths. The list should present the integers in the order that they appear in the _first_ string.\n",
    "\n",
    "When you've done Problem 1 correctly, running the following cell should produce \"10/10 examples worked as expected.\"\n",
    "\n",
    "For example:\n",
    "\n",
    "If you have the following inputs in your function:\n",
    "\n",
    "\"1, 2, 20,22, 44, 99\"\n",
    "\"3,5, 22, 100, 44, 2\"\n",
    "\n",
    "The output should be [2, 22]\n",
    "\n",
    "There should be no duplicates in your ouput.\n",
    "\n",
    "(**Note**: Unfortunately every time you make changes to your `problem_X.py` files, you have to rerun the kernel in this file to get the test to register the new code. We know, it's annoying. We're looking for a reliable fix. In the meantime, go to Kernel > Restart and run your test on your new and improved code!)"
   ]
  },
  {
   "cell_type": "code",
   "execution_count": null,
   "metadata": {},
   "outputs": [],
   "source": [
    "from problem_1 import find_twos\n",
    "\n",
    "find_twos_examples = [\n",
    "    (\"\", \"\", []),\n",
    "    (\"1\", \"1, 3\", []),\n",
    "    (\"2\", \"\", []),\n",
    "    (\"2\", \"1, 3\", []),\n",
    "    (\"2\", \"2\", [2]),\n",
    "    (\"2\", \"12\", []),\n",
    "    (\"12\", \"2, 12\", [12]),\n",
    "    (\"1, 3, 5, 12, 7, 200\", \"2, 6, 9, 200, 5\", [200]),\n",
    "    (\"1, 2, 20, 22, 44, 99\", \"3, 5, 22, 100, 44, 2\", [2, 22]),\n",
    "    (\"1,2, 20,22, 44, 99\", \"3,5, 22, 100, 44, 2\", [2, 22]),\n",
    "    (\"1,2, 20,22, 22,44, 20, 99\", \"3,5, 22, 100, 44, 2\", [2, 22]),\n",
    "    (\"1, 2, 20, 22\", \"3, 2, 20, 22\", [2, 20, 22]),\n",
    "]\n",
    "\n",
    "test(function=find_twos, examples=find_twos_examples)"
   ]
  },
  {
   "cell_type": "markdown",
   "metadata": {},
   "source": [
    "## Problem 2\n",
    "\n",
    "Write a function called `expand_letter_ranges` that accepts a comma-separated string of letters or letter ranges, and returns a sorted list of all the letters with the ranges expanded into individual letters. The input letters can be either lowercase or uppercase, but each string in the output list should be uppercase. It is not necessary to perform any error checking (ranges that are backwards, non-character input, etc.).\n",
    "    \n",
    "Note that there are built-in functions, `ord()` and `chr()`, that can convert single characters to integers and vice versa.\n",
    "\n",
    "When you've done it right, running the test in the following cell should produce \"5/5 examples worked as expected.\"\n",
    "\n",
    "If your function has the following input:\n",
    "\"b-D,z,m-q,n,C-E\"\n",
    "\n",
    "Then this is the expected output:\n",
    "['B', 'C', 'D', 'E', 'M', 'N', 'O', 'P', 'Q', 'Z']"
   ]
  },
  {
   "cell_type": "code",
   "execution_count": null,
   "metadata": {},
   "outputs": [],
   "source": [
    "from problem_2 import expand_letter_ranges\n",
    "\n",
    "expand_letter_ranges_examples = [\n",
    "    (\"\", []),\n",
    "    (\"a-f\", ['A','B','C','D','E','F']),\n",
    "    (\"b-D,z,m-q,n,C-E\", ['B','C','D','E','M','N','O','P','Q','Z']),\n",
    "    (\"q,r,a,t,v,y,z\", ['A','Q','R','T','V','A','A',]),\n",
    "    (\"b-D,z,m-q,n,C-E\", ['B','C','D','E','M','N','O','P','Q','Z']),\n",
    "]\n",
    "\n",
    "test(function=expand_letter_ranges, examples=expand_letter_ranges_examples)"
   ]
  },
  {
   "cell_type": "markdown",
   "metadata": {},
   "source": [
    "## Problem 3\n",
    "\n",
    "Write a function called `mean` that accepts a whitespace separated string of numbers (integers or floats) and returns their mean. \n",
    "\n",
    "For example, if your function in put was:\n",
    "\"1 2 3\"\n",
    "\n",
    "The expected output would be:\n",
    "2.0\n",
    "\n",
    "For this problem, you may want to use the built-in `sum()` function, which returns the sum of values in an iterable (such as a list).\n",
    "\n",
    "When you've done it right, running the test in the following cell should produce \"5/5 examples worked as expected.\""
   ]
  },
  {
   "cell_type": "code",
   "execution_count": null,
   "metadata": {},
   "outputs": [],
   "source": [
    "from problem_3 import mean\n",
    "\n",
    "mean_examples = [\n",
    "    (\"\", 0.0),\n",
    "    (\"1\", 1.0),\n",
    "    (\"1 2 3\", 2.0),\n",
    "    (\"1 2 3\", 2.0),\n",
    "    (\"1 2 3\", 2.0),\n",
    "]\n",
    "\n",
    "test(function=expand_letter_ranges, examples=expand_letter_ranges_examples)\n",
    "\n",
    "Enter numbers: 1 2 10 12 3.0 1.2e1\n",
    "Enter r: 2\n",
    "The rth sample central moment is 22.555555555555557."
   ]
  },
  {
   "cell_type": "markdown",
   "metadata": {},
   "source": [
    "## Problem 0\n",
    "\n",
    "This is the very first problem, and since collections of items in programming are often zero-indexed, we'll call it Problem zero. You don't have to write code for this problem, but you do need to _read_ code and understand what it is doing.\n",
    "\n",
    "The other problems ask you to write code. To help you make sure your code is working, we have provided you with some tests in this file. Here is a test function that we will use to check your code against some examples:"
   ]
  },
  {
   "cell_type": "code",
   "execution_count": null,
   "metadata": {},
   "outputs": [],
   "source": [
    "def test(function, examples):\n",
    "    passed = 0\n",
    "    run = 0\n",
    "\n",
    "    for example in examples:\n",
    "        run += 1\n",
    "        expected = example[-1]\n",
    "        actual = function(*example[:-1])\n",
    "\n",
    "        if expected == actual: \n",
    "            passed += 1\n",
    "        else:\n",
    "            print(f\"Whoops. For example {example}, the function returned {actual}.\")\n",
    "\n",
    "    print(f\"\\n{passed} out of {run} examples worked as expected.\")"
   ]
  },
  {
   "cell_type": "markdown",
   "metadata": {},
   "source": [
    "For Problem 0, open the file called `problem_0.md` and explain what this function is doing by answering the following questions:\n",
    "\n",
    "1. What are the arguments and what types do these arguments need to have for this function to work?\n",
    "1. Walk us through the code line by line. What is happening here?\n",
    "1. Does this function have a return value? How do you know?"
   ]
  },
  {
   "cell_type": "markdown",
   "metadata": {},
   "source": [
    "## Problem 1\n",
    "\n",
    "Write a function called `find_twos` that accepts two strings of integers separated by commas and returns a list of integers that appear in both strings and have the digit 2 in them. There should be no duplicates in the output list. Make sure the program works when the lists have different lengths. The list should present the integers in the order that they appear in the _first_ string.\n",
    "\n",
    "When you've done Problem 1 correctly, running the following cell should produce \"10/10 examples worked as expected.\"\n",
    "\n",
    "(**Note**: Unfortunately every time you make changes to your `problem_X.py` files, you have to rerun the kernel in this file to get the test to register the new code. We know, it's annoying. We're looking for a reliable fix. In the meantime, go to Kernel > Restart and run your test on your new and improved code!)"
   ]
  },
  {
   "cell_type": "code",
   "execution_count": null,
   "metadata": {},
   "outputs": [],
   "source": [
    "from problem_1 import find_twos\n",
    "\n",
    "find_twos_examples = [\n",
    "    (\"\", \"\", []),\n",
    "    (\"1\", \"1, 3\", []),\n",
    "    (\"2\", \"\", []),\n",
    "    (\"2\", \"1, 3\", []),\n",
    "    (\"2\", \"2\", [2]),\n",
    "    (\"2\", \"12\", []),\n",
    "    (\"12\", \"2, 12\", [12]),\n",
    "    (\"1, 3, 5, 12, 7, 200\", \"2, 6, 9, 200, 5\", [200]),\n",
    "    (\"1, 2, 20, 22, 44, 99\", \"3, 5, 22, 100, 44, 2\", [2, 22]),\n",
    "    (\"1, 2, 20, 22\", \"3, 2, 20, 22\", [2, 20, 22]),\n",
    "]\n",
    "\n",
    "test(function=find_twos, examples=find_twos_examples)"
   ]
  },
  {
   "cell_type": "markdown",
   "metadata": {},
   "source": [
    "## Problem 2\n",
    "\n",
    "Write a function called `expand_letter_ranges` that accepts a comma-separated string of letters or letter ranges, and returns a sorted list of all the letters with the ranges expanded into individual letters. The input letters can be either lowercase or uppercase, but each string in the output list should be uppercase. It is not necessary to perform any error checking (ranges that are backwards, non-character input, etc.).\n",
    "    \n",
    "Note that there are built-in functions, `ord()` and `chr()`, that can convert single characters to integers and vice versa.\n",
    "\n",
    "When you've done it right, running the test in the following cell should produce \"5/5 examples worked as expected.\""
   ]
  },
  {
   "cell_type": "code",
   "execution_count": null,
   "metadata": {},
   "outputs": [],
   "source": [
    "from problem_2 import expand_letter_ranges\n",
    "\n",
    "expand_letter_ranges_examples = [\n",
    "    (\"\", []),\n",
    "    (\"a-f\", ['A','B','C','D','E','F']),\n",
    "    (\"b-D,z,m-q,n,C-E\", ['B','C','D','E','M','N','O','P','Q','Z']),\n",
    "    (\"q,r,a,t,v,y,z\", ['A','Q','R','T','V','A','A',]),\n",
    "    (\"b-D,z,m-q,n,C-E\", ['B','C','D','E','M','N','O','P','Q','Z']),\n",
    "]\n",
    "\n",
    "test(function=expand_letter_ranges, examples=expand_letter_ranges_examples)"
   ]
  },
  {
   "cell_type": "markdown",
   "metadata": {},
   "source": [
    "## Problem 3\n",
    "\n",
    "Write a function called `mean` that accepts a whitespace separated string of numbers (integers or floats) and returns their mean. \n",
    "\n",
    "For this problem, you may want to use the built-in `sum()` function, which returns the sum of values in an iterable (such as a list).\n",
    "\n",
    "When you've done it right, running the test in the following cell should produce \"5/5 examples worked as expected.\""
   ]
  },
  {
   "cell_type": "code",
   "execution_count": null,
   "metadata": {},
   "outputs": [],
   "source": [
    "from problem_3 import mean\n",
    "\n",
    "mean_examples = [\n",
    "    (\"\", 0.0),\n",
    "    (\"1\", 1.0),\n",
    "    (\"1 2 3\", 2.0),\n",
    "    (\"1 2 3\", 2.0),\n",
    "    (\"1 2 3\", 2.0),\n",
    "]\n",
    "\n",
    "test(function=expand_letter_ranges, examples=expand_letter_ranges_examples)\n",
    "\n",
    "Enter numbers: 1 2 10 12 3.0 1.2e1\n",
    "Enter r: 2\n",
    "The rth sample central moment is 22.555555555555557."
   ]
  },
  {
   "cell_type": "markdown",
   "metadata": {},
   "source": [
    "## Problem 0\n",
    "\n",
    "This is the very first problem, and since collections of items in programming are often zero-indexed, we'll call it Problem zero. You don't have to write code for this problem, but you do need to _read_ code and understand what it is doing.\n",
    "\n",
    "The other problems ask you to write code. To help you make sure your code is working, we have provided you with some tests in this file. Here is a test function that we will use to check your code against some examples:"
   ]
  },
  {
   "cell_type": "code",
   "execution_count": null,
   "metadata": {},
   "outputs": [],
   "source": [
    "def test(function, examples):\n",
    "    passed = 0\n",
    "    run = 0\n",
    "\n",
    "    for example in examples:\n",
    "        run += 1\n",
    "        expected = example[-1]\n",
    "        actual = function(*example[:-1])\n",
    "\n",
    "        if expected == actual: \n",
    "            passed += 1\n",
    "        else:\n",
    "            print(f\"Whoops. For example {example}, the function returned {actual}.\")\n",
    "\n",
    "    print(f\"\\n{passed} out of {run} examples worked as expected.\")"
   ]
  },
  {
   "cell_type": "markdown",
   "metadata": {},
   "source": [
    "For Problem 0, open the file called `problem_0.md` and explain what this function is doing by answering the following questions:\n",
    "\n",
    "1. What are the arguments and what types do these arguments need to have for this function to work?\n",
    "1. Walk us through the code line by line. What is happening here?\n",
    "1. Does this function have a return value? How do you know?"
   ]
  },
  {
   "cell_type": "markdown",
   "metadata": {},
   "source": [
    "## Problem 1\n",
    "\n",
    "Write a function called `find_twos` that accepts two strings of integers separated by commas and returns a list of integers that appear in both strings and have the digit 2 in them. There should be no duplicates in the output list. Make sure the program works when the lists have different lengths. The list should present the integers in the order that they appear in the _first_ string.\n",
    "\n",
    "When you've done Problem 1 correctly, running the following cell should produce \"10/10 examples worked as expected.\"\n",
    "\n",
    "For example:\n",
    "\n",
    "If you have the following inputs in your function:\n",
    "\n",
    "\"1, 2, 20,22, 44, 99\"\n",
    "\"3,5, 22, 100, 44, 2\"\n",
    "\n",
    "The output should be [2, 22]\n",
    "\n",
    "There should be no duplicates in your ouput.\n",
    "\n",
    "(**Note**: Unfortunately every time you make changes to your `problem_X.py` files, you have to rerun the kernel in this file to get the test to register the new code. We know, it's annoying. We're looking for a reliable fix. In the meantime, go to Kernel > Restart and run your test on your new and improved code!)"
   ]
  },
  {
   "cell_type": "code",
   "execution_count": null,
   "metadata": {},
   "outputs": [],
   "source": [
    "from problem_1 import find_twos\n",
    "\n",
    "find_twos_examples = [\n",
    "    (\"\", \"\", []),\n",
    "    (\"1\", \"1, 3\", []),\n",
    "    (\"2\", \"\", []),\n",
    "    (\"2\", \"1, 3\", []),\n",
    "    (\"2\", \"2\", [2]),\n",
    "    (\"2\", \"12\", []),\n",
    "    (\"12\", \"2, 12\", [12]),\n",
    "    (\"1, 3, 5, 12, 7, 200\", \"2, 6, 9, 200, 5\", [200]),\n",
    "    (\"1, 2, 20, 22, 44, 99\", \"3, 5, 22, 100, 44, 2\", [2, 22]),\n",
    "    (\"1,2, 20,22, 44, 99\", \"3,5, 22, 100, 44, 2\", [2, 22]),\n",
    "    (\"1,2, 20,22, 22,44, 20, 99\", \"3,5, 22, 100, 44, 2\", [2, 22]),\n",
    "    (\"1, 2, 20, 22\", \"3, 2, 20, 22\", [2, 20, 22]),\n",
    "]\n",
    "\n",
    "test(function=find_twos, examples=find_twos_examples)"
   ]
  },
  {
   "cell_type": "markdown",
   "metadata": {},
   "source": [
    "## Problem 2\n",
    "\n",
    "Write a function called `expand_letter_ranges` that accepts a comma-separated string of letters or letter ranges, and returns a sorted list of all the letters with the ranges expanded into individual letters. The input letters can be either lowercase or uppercase, but each string in the output list should be uppercase. It is not necessary to perform any error checking (ranges that are backwards, non-character input, etc.).\n",
    "    \n",
    "Note that there are built-in functions, `ord()` and `chr()`, that can convert single characters to integers and vice versa.\n",
    "\n",
    "When you've done it right, running the test in the following cell should produce \"5/5 examples worked as expected.\"\n",
    "\n",
    "If your function has the following input:\n",
    "\"b-D,z,m-q,n,C-E\"\n",
    "\n",
    "Then this is the expected output:\n",
    "['B', 'C', 'D', 'E', 'M', 'N', 'O', 'P', 'Q', 'Z']"
   ]
  },
  {
   "cell_type": "code",
   "execution_count": null,
   "metadata": {},
   "outputs": [],
   "source": [
    "from problem_2 import expand_letter_ranges\n",
    "\n",
    "expand_letter_ranges_examples = [\n",
    "    (\"\", []),\n",
    "    (\"a-f\", ['A','B','C','D','E','F']),\n",
    "    (\"b-D,z,m-q,n,C-E\", ['B','C','D','E','M','N','O','P','Q','Z']),\n",
    "    (\"q,r,a,t,v,y,z\", ['A','Q','R','T','V','A','A',]),\n",
    "    (\"b-D,z,m-q,n,C-E\", ['B','C','D','E','M','N','O','P','Q','Z']),\n",
    "]\n",
    "\n",
    "test(function=expand_letter_ranges, examples=expand_letter_ranges_examples)"
   ]
  },
  {
   "cell_type": "markdown",
   "metadata": {},
   "source": [
    "## Problem 3\n",
    "\n",
    "Write a function called `mean` that accepts a whitespace separated string of numbers (integers or floats) and returns their mean. \n",
    "\n",
    "For example, if your function in put was:\n",
    "\"1 2 3\"\n",
    "\n",
    "The expected output would be:\n",
    "2.0\n",
    "\n",
    "For this problem, you may want to use the built-in `sum()` function, which returns the sum of values in an iterable (such as a list).\n",
    "\n",
    "When you've done it right, running the test in the following cell should produce \"5/5 examples worked as expected.\""
   ]
  },
  {
   "cell_type": "code",
   "execution_count": null,
   "metadata": {},
   "outputs": [],
   "source": [
    "from problem_3 import mean\n",
    "\n",
    "mean_examples = [\n",
    "    (\"\", 0.0),\n",
    "    (\"1\", 1.0),\n",
    "    (\"1 2 3\", 2.0),\n",
    "    (\"1 2 3\", 2.0),\n",
    "    (\"1 2 3\", 2.0),\n",
    "]\n",
    "\n",
    "test(function=expand_letter_ranges, examples=expand_letter_ranges_examples)\n",
    "\n",
    "Enter numbers: 1 2 10 12 3.0 1.2e1\n",
    "Enter r: 2\n",
    "The rth sample central moment is 22.555555555555557."
   ]
  },
  {
   "cell_type": "code",
   "execution_count": null,
   "metadata": {},
   "outputs": [],
   "source": []
  }
 ],
 "metadata": {
  "kernelspec": {
   "display_name": "Python 3",
   "language": "python",
   "name": "python3"
  },
  "language_info": {
   "codemirror_mode": {
    "name": "ipython",
    "version": 3
   },
   "file_extension": ".py",
   "mimetype": "text/x-python",
   "name": "python",
   "nbconvert_exporter": "python",
   "pygments_lexer": "ipython3",
   "version": "3.6.10"
  }
 },
 "nbformat": 4,
 "nbformat_minor": 1
}
