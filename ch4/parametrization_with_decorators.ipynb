{
 "cells": [
  {
   "cell_type": "code",
   "execution_count": null,
   "metadata": {},
   "outputs": [],
   "source": [
    "def phoenix_parametrize(*args):\n",
    "    def decorator(function):\n",
    "        for example in args[-1]:\n",
    "            function(*example)\n",
    "    return decorator \n",
    "\n",
    "data = [\n",
    "    (\"x\", \"x\"),\n",
    "    (\"2\", \"2\"),\n",
    "    (\"2\", \"21\")\n",
    "]\n",
    "\n",
    "@phoenix_parametrize('one', 'two', data)\n",
    "def test_one_two_equal(one, two):\n",
    "    assert(one == two)\n",
    "    \n",
    "test_one_two_equal()"
   ]
  },
  {
   "cell_type": "code",
   "execution_count": null,
   "metadata": {},
   "outputs": [],
   "source": []
  }
 ],
 "metadata": {
  "kernelspec": {
   "display_name": "Python 3",
   "language": "python",
   "name": "python3"
  },
  "language_info": {
   "codemirror_mode": {
    "name": "ipython",
    "version": 3
   },
   "file_extension": ".py",
   "mimetype": "text/x-python",
   "name": "python",
   "nbconvert_exporter": "python",
   "pygments_lexer": "ipython3",
   "version": "3.9.0"
  }
 },
 "nbformat": 4,
 "nbformat_minor": 4
}
