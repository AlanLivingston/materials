{
 "cells": [
  {
   "cell_type": "markdown",
   "metadata": {},
   "source": [
    "> \"Context managers allow you to allocate and release resources precisely when you want to. The most widely used example of context managers is the with statement. Suppose you have two related operations which you’d like to execute as a pair, with a block of code in between. Context managers allow you to do specifically that.\" --<cite> book.pythontips.com </cite>\n",
    "\n",
    "For example the common patterns: \n",
    "\n",
    "``` \n",
    "f = open(...)    ## File managment \n",
    "...\n",
    "f.close()\n",
    "\n",
    "lock.acquire()   ## Multhreaded application \n",
    "...\n",
    "lock.release()\n",
    "\n",
    "start = time.time() ## Timing code execution \n",
    "...\n",
    "end = time.time()\n",
    "```"
   ]
  },
  {
   "cell_type": "markdown",
   "metadata": {},
   "source": [
    "You can read and close a file with a ``try/except`` block:  "
   ]
  },
  {
   "cell_type": "code",
   "execution_count": null,
   "metadata": {},
   "outputs": [],
   "source": [
    "try:\n",
    "    f = open('uchicago-emails.txt', 'r')\n",
    "    for email in f: \n",
    "        print(email)\n",
    "finally:\n",
    "    f.close()"
   ]
  },
  {
   "cell_type": "markdown",
   "metadata": {},
   "source": [
    "But we don't. Instead, you'll more often see this, which closes the file for you when your operation works..."
   ]
  },
  {
   "cell_type": "code",
   "execution_count": null,
   "metadata": {},
   "outputs": [],
   "source": [
    "## More compact and readable \n",
    "with open('uchicago-emails.txt', 'r') as f: \n",
    "    for email in f: \n",
    "        print(email)"
   ]
  },
  {
   "cell_type": "markdown",
   "metadata": {},
   "source": [
    "...and when it doesn't."
   ]
  },
  {
   "cell_type": "code",
   "execution_count": 1,
   "metadata": {},
   "outputs": [
    {
     "ename": "FileNotFoundError",
     "evalue": "[Errno 2] No such file or directory: 'not_a_real_file.txt'",
     "output_type": "error",
     "traceback": [
      "\u001b[0;31m---------------------------------------------------------------------------\u001b[0m",
      "\u001b[0;31mFileNotFoundError\u001b[0m                         Traceback (most recent call last)",
      "\u001b[0;32m<ipython-input-1-5240474bece8>\u001b[0m in \u001b[0;36m<module>\u001b[0;34m\u001b[0m\n\u001b[0;32m----> 1\u001b[0;31m \u001b[0;32mwith\u001b[0m \u001b[0mopen\u001b[0m\u001b[0;34m(\u001b[0m\u001b[0;34m'not_a_real_file.txt'\u001b[0m\u001b[0;34m,\u001b[0m \u001b[0;34m'r'\u001b[0m\u001b[0;34m)\u001b[0m \u001b[0;32mas\u001b[0m \u001b[0mhere\u001b[0m\u001b[0;34m:\u001b[0m\u001b[0;34m\u001b[0m\u001b[0;34m\u001b[0m\u001b[0m\n\u001b[0m\u001b[1;32m      2\u001b[0m     \u001b[0;32mfor\u001b[0m \u001b[0mnothing\u001b[0m \u001b[0;32min\u001b[0m \u001b[0mhere\u001b[0m\u001b[0;34m:\u001b[0m\u001b[0;34m\u001b[0m\u001b[0;34m\u001b[0m\u001b[0m\n\u001b[1;32m      3\u001b[0m         \u001b[0mprint\u001b[0m\u001b[0;34m(\u001b[0m\u001b[0mnothing\u001b[0m\u001b[0;34m)\u001b[0m\u001b[0;34m\u001b[0m\u001b[0;34m\u001b[0m\u001b[0m\n",
      "\u001b[0;31mFileNotFoundError\u001b[0m: [Errno 2] No such file or directory: 'not_a_real_file.txt'"
     ]
    }
   ],
   "source": [
    "with open('not_a_real_file.txt', 'r') as here:\n",
    "    for nothing in here:\n",
    "        print(nothing)"
   ]
  },
  {
   "cell_type": "markdown",
   "metadata": {},
   "source": [
    "It's called a **context manager** because it wraps your code in a box (a context). The box is opened, the code is run, and then the box is shut. Regardless of what happens when the code runs, the box is always shut. That way, if the code in the box explodes, you can shut the box to clean up the mess!\n",
    "\n",
    "The ``File`` class is a context manager because it implements the **context manager protocol**.\n",
    "\n",
    "Any class can be a context manger. A class must define two methods: \n",
    "\n",
    "- ``__enter__(self)`` is executed at the start of a with block. It needs to return the context manager. \n",
    "- ``__exit__(self, type, value, traceback)`` is executed at the end of a with block and performs any \"cleanup\" actions. If there is an exception that occurs between the ``__enter__`` and the calling of ``__exit__`` then python calls ``__exit__`` with the information about the exception via these three parameters. This step allows the ``__exit__`` method to decide how to hanlde the exception and if any further steps are required to cleanup. "
   ]
  },
  {
   "cell_type": "markdown",
   "metadata": {},
   "source": [
    "Lets make our own context manager class that handles testing the amount of time a piece of code takes to complete.\n"
   ]
  },
  {
   "cell_type": "code",
   "execution_count": 7,
   "metadata": {},
   "outputs": [],
   "source": [
    "from timeit import default_timer as timer\n",
    "\n",
    "class Stopwatch:\n",
    "    \n",
    "    def __init__(self):\n",
    "        self.start_time = 0 \n",
    "        self.end_time = 0 \n",
    "        \n",
    "    def __enter__(self): \n",
    "        self.start_time = timer() \n",
    "        return self \n",
    "    \n",
    "    def __exit__(self, type, value, traceback):\n",
    "        self.end_time = timer() \n",
    "        \n",
    "    @property \n",
    "    def elasped_time(self):\n",
    "        return self.end_time-self.start_time "
   ]
  },
  {
   "cell_type": "code",
   "execution_count": 8,
   "metadata": {},
   "outputs": [],
   "source": [
    "def fibonacci(n): \n",
    "    if n==1: \n",
    "        return 0\n",
    "    elif n==2: \n",
    "        return 1\n",
    "    else: \n",
    "        return fib(n-1)+fib(n-2) "
   ]
  },
  {
   "cell_type": "code",
   "execution_count": 9,
   "metadata": {},
   "outputs": [
    {
     "name": "stdout",
     "output_type": "stream",
     "text": [
      "2.826494860999901\n"
     ]
    }
   ],
   "source": [
    "with Stopwatch() as s: \n",
    "    fibonacci(35)\n",
    "print(s.elasped_time)"
   ]
  },
  {
   "cell_type": "markdown",
   "metadata": {},
   "source": [
    "More information about context managers can be found here: https://docs.python.org/3/library/contextlib.html"
   ]
  }
 ],
 "metadata": {
  "kernelspec": {
   "display_name": "Python 3",
   "language": "python",
   "name": "python3"
  },
  "language_info": {
   "codemirror_mode": {
    "name": "ipython",
    "version": 3
   },
   "file_extension": ".py",
   "mimetype": "text/x-python",
   "name": "python",
   "nbconvert_exporter": "python",
   "pygments_lexer": "ipython3",
   "version": "3.9.0"
  }
 },
 "nbformat": 4,
 "nbformat_minor": 4
}
