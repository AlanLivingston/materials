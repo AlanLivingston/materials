{
 "cells": [
  {
   "cell_type": "markdown",
   "metadata": {},
   "source": [
    "Recall this code from the last exercise:"
   ]
  },
  {
   "cell_type": "code",
   "execution_count": 6,
   "metadata": {},
   "outputs": [],
   "source": [
    "import random\n",
    "from datetime import datetime\n",
    "\n",
    "class Table():\n",
    "    def __init__(self):\n",
    "        self._data = {}\n",
    "        \n",
    "    def get(self, key):\n",
    "        if key not in self._data.keys():\n",
    "            return None\n",
    "        \n",
    "        return self._data[key]\n",
    "    \n",
    "    def set(self, key, value):\n",
    "        self._data[key] = value"
   ]
  },
  {
   "cell_type": "code",
   "execution_count": 3,
   "metadata": {},
   "outputs": [],
   "source": [
    "class NoTransactionInProgressException(Exception):\n",
    "    def __str__(self):\n",
    "        return \"There isn't a transaction in progress!\"\n",
    "    \n",
    "class TableAlreadyExistsException(Exception):\n",
    "    def __str__(self):\n",
    "        return \"A table by that name already exists!\"\n",
    "\n",
    "class Database():\n",
    "    def __init__(self):\n",
    "        self._tables = {}\n",
    "        \n",
    "    def create_table(self, name):\n",
    "        if name in self._tables.keys():\n",
    "            raise TableAlreadyExistsException()\n",
    "        \n",
    "        self._tables[name] = Table()\n",
    "        setattr(self, name, self._tables[name])\n",
    "                \n",
    "    def begin(self):\n",
    "        pass\n",
    "    \n",
    "    def commit(self):\n",
    "        raise NoTransactionInProgressException()\n",
    "       \n",
    "    def rollback(self):\n",
    "        raise NoTransactionInProgressException()"
   ]
  },
  {
   "cell_type": "code",
   "execution_count": 4,
   "metadata": {},
   "outputs": [
    {
     "name": "stdout",
     "output_type": "stream",
     "text": [
      "Requirement already satisfied: colorama in /Users/chelseatroy/.pyenv/versions/3.9.0/lib/python3.9/site-packages (0.4.4)\n",
      "\u001b[33mWARNING: You are using pip version 20.2.3; however, version 21.0.1 is available.\n",
      "You should consider upgrading via the '/Users/chelseatroy/.pyenv/versions/3.9.0/bin/python3.9 -m pip install --upgrade pip' command.\u001b[0m\n"
     ]
    }
   ],
   "source": [
    "import sys\n",
    "!{sys.executable} -m pip install colorama \n",
    "\n",
    "sys.path.insert(0, '..')\n",
    "from test_framework_exercise.phoenix_test.matchers import FailedAssertion, Assertion, assert_that\n",
    "from test_framework_exercise.phoenix_test.test import Test\n",
    "sys.path.remove('..')"
   ]
  },
  {
   "cell_type": "code",
   "execution_count": 5,
   "metadata": {},
   "outputs": [
    {
     "name": "stdout",
     "output_type": "stream",
     "text": [
      "\u001b[31m    test_begin_commit:  There isn't a transaction in progress!\n",
      "\u001b[32m    test_commit_without_transaction passed!\n",
      "\u001b[0m    1 out of 2 tests passed.\n",
      "\n"
     ]
    },
    {
     "data": {
      "text/plain": [
       "(1, 2)"
      ]
     },
     "execution_count": 5,
     "metadata": {},
     "output_type": "execute_result"
    }
   ],
   "source": [
    "class TransactionTest(Test):\n",
    "    def test_begin_commit(self):\n",
    "        db = Database()\n",
    "        db.create_table(\"birds_on_youtube\")\n",
    "        \n",
    "        db.begin()\n",
    "        db.birds_on_youtube.set(\"Vinny\", {\"type\": \"Galah\", \"owner\": \"Marlene McCohen\", \"interests\" : \"music\"})\n",
    "        db.commit()\n",
    "        \n",
    "        assert_that(db.birds_on_youtube.get(\"Vinny\")).equals({\"type\": \"Galah\", \"owner\": \"Marlene McCohen\", \"interests\" : \"music\"})\n",
    "        \n",
    "    def test_commit_without_transaction(self):\n",
    "        db = Database()\n",
    "        \n",
    "        try:\n",
    "            db.commit()\n",
    "            assert_that(\"No Exception Thrown\").equals(\"NoTransactionInProgressException\")\n",
    "        except NoTransactionInProgressException:\n",
    "            return\n",
    "        \n",
    "        assert_that(\"Wrong Exception Thrown\").equals(\"NoTransactionInProgressException\")\n",
    "\n",
    "TransactionTest().run()"
   ]
  },
  {
   "cell_type": "markdown",
   "metadata": {},
   "source": [
    "Why do both of these already pass?"
   ]
  },
  {
   "cell_type": "markdown",
   "metadata": {},
   "source": [
    "## Challenge 2"
   ]
  },
  {
   "cell_type": "code",
   "execution_count": 8,
   "metadata": {},
   "outputs": [
    {
     "name": "stdout",
     "output_type": "stream",
     "text": [
      "\u001b[32m    test_rollback_no_transaction passed!\n",
      "\u001b[31m    test_rollback_with_transaction:  There isn't a transaction in progress!\n",
      "\u001b[0m    1 out of 2 tests passed.\n",
      "\n"
     ]
    },
    {
     "data": {
      "text/plain": [
       "(1, 2)"
      ]
     },
     "execution_count": 8,
     "metadata": {},
     "output_type": "execute_result"
    }
   ],
   "source": [
    "class TransactionAndRollbackTest(Test):\n",
    "    def test_rollback_with_transaction(self):\n",
    "        db = Database()\n",
    "        db.create_table(\"birds_on_youtube\")\n",
    "        \n",
    "        db.begin()\n",
    "        db.birds_on_youtube.set(\"Vinny\", {\"type\": \"Galah\", \"owner\": \"Marlene McCohen\", \"interests\" : \"music\"})\n",
    "        db.rollback()\n",
    "\n",
    "        assert_that(db.birds_on_youtube.get(\"Vinny\")).equals(None)\n",
    "\n",
    "    def test_rollback_no_transaction(self):\n",
    "        db = Database()\n",
    "        \n",
    "        try:\n",
    "            db.rollback()\n",
    "            assert_that(\"No Exception Thrown\").equals(\"NoTransactionInProgressException\")\n",
    "        except NoTransactionInProgressException:\n",
    "            return\n",
    "        \n",
    "        assert_that(\"Wrong Exception Thrown\").equals(\"NoTransactionInProgressException\")\n",
    "\n",
    "TransactionAndRollbackTest().run()"
   ]
  },
  {
   "cell_type": "code",
   "execution_count": 9,
   "metadata": {},
   "outputs": [],
   "source": [
    "class TransactionAndCommitTest(Test):\n",
    "    def test_rollback_with_transaction(self):\n",
    "        db = Database()\n",
    "\n",
    "        db.begin()\n",
    "        db.set(\"Golden\", \"Eagle\")\n",
    "        db.rollback()\n",
    "\n",
    "        print(db.get(\"Golden\"))\n",
    "        assert_that(db.get(\"Golden\")).equals(\"Eagle\")\n",
    "\n",
    "    def test_rollback_no_transaction(self):\n",
    "        db = Database()\n",
    "        \n",
    "        try:\n",
    "            db.rollback()\n",
    "            assert_that(\"No Exception Thrown\").equals(\"NoTransactionInProgressException\")\n",
    "        except NoTransactionInProgressException:\n",
    "            return\n",
    "        \n",
    "        assert_that(\"Wrong Exception Thrown\").equals(\"NoTransactionInProgressException\")\n"
   ]
  },
  {
   "cell_type": "code",
   "execution_count": null,
   "metadata": {},
   "outputs": [],
   "source": []
  }
 ],
 "metadata": {
  "kernelspec": {
   "display_name": "Python 3",
   "language": "python",
   "name": "python3"
  },
  "language_info": {
   "codemirror_mode": {
    "name": "ipython",
    "version": 3
   },
   "file_extension": ".py",
   "mimetype": "text/x-python",
   "name": "python",
   "nbconvert_exporter": "python",
   "pygments_lexer": "ipython3",
   "version": "3.9.0"
  }
 },
 "nbformat": 4,
 "nbformat_minor": 4
}
