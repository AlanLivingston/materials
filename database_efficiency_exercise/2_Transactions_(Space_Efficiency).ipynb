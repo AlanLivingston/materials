{
 "cells": [
  {
   "cell_type": "markdown",
   "metadata": {},
   "source": [
    "Recall this code from the last exercise:"
   ]
  },
  {
   "cell_type": "code",
   "execution_count": 51,
   "metadata": {},
   "outputs": [],
   "source": [
    "import random\n",
    "from datetime import datetime\n",
    "\n",
    "class Table():\n",
    "    def __init__(self):\n",
    "        self._data = {}\n",
    "        self.validation = lambda x: True\n",
    "        \n",
    "    def get(self, key):\n",
    "        if key not in self._data.keys():\n",
    "            return None\n",
    "        \n",
    "        return self._data[key]\n",
    "    \n",
    "    def set(self, key, value, *validation_args):\n",
    "        self._data[key] = value"
   ]
  },
  {
   "cell_type": "markdown",
   "metadata": {},
   "source": [
    "We use **transactions** in databases to wrap operations and make sure everything is going to proceed properly before we commit the change to the database."
   ]
  },
  {
   "cell_type": "code",
   "execution_count": 53,
   "metadata": {},
   "outputs": [],
   "source": [
    "class NoTransactionInProgressException(Exception):\n",
    "    def __str__(self):\n",
    "        return \"There isn't a transaction in progress!\"\n",
    "    \n",
    "class TableAlreadyExistsException(Exception):\n",
    "    def __str__(self):\n",
    "        return \"A table by that name already exists!\"\n",
    "\n",
    "class Database():\n",
    "    def __init__(self):\n",
    "        self.tables = {}\n",
    "        self.transaction_in_progress = False\n",
    "        \n",
    "    def create_table(self, name):\n",
    "        if name in self.tables.keys():\n",
    "            raise TableAlreadyExistsException()\n",
    "        \n",
    "        self.tables[name] = Table()\n",
    "        setattr(self, name, self.tables[name])\n",
    "                \n",
    "    def begin(self):\n",
    "        for table in self.tables:\n",
    "            self.tables[table]._before_transaction = self.tables[table]._data.copy()\n",
    "        self.transaction_in_progress = True\n",
    "    \n",
    "    def commit(self):\n",
    "        if not self.transaction_in_progress:\n",
    "            raise NoTransactionInProgressException()\n",
    "        for table in self.tables:\n",
    "            self.tables[table]._before_transaction = {}\n",
    "        self.transaction_in_progress = False\n",
    "       \n",
    "    def rollback(self):\n",
    "        if not self.transaction_in_progress:\n",
    "            raise NoTransactionInProgressException()\n",
    "        for table in self.tables:\n",
    "            self.tables[table]._data = self.tables[table]._before_transaction\n",
    "            self.tables[table]._before_transaction = {}\n",
    "        self.transaction_in_progress = False"
   ]
  },
  {
   "cell_type": "markdown",
   "metadata": {},
   "source": [
    "Here are some tests that demonstrate the transactions at work."
   ]
  },
  {
   "cell_type": "code",
   "execution_count": 54,
   "metadata": {},
   "outputs": [
    {
     "name": "stdout",
     "output_type": "stream",
     "text": [
      "Requirement already satisfied: colorama in /Users/chelseatroy/.pyenv/versions/3.9.0/lib/python3.9/site-packages (0.4.4)\n",
      "\u001b[33mWARNING: You are using pip version 20.2.3; however, version 21.0.1 is available.\n",
      "You should consider upgrading via the '/Users/chelseatroy/.pyenv/versions/3.9.0/bin/python3.9 -m pip install --upgrade pip' command.\u001b[0m\n"
     ]
    }
   ],
   "source": [
    "import sys\n",
    "!{sys.executable} -m pip install colorama \n",
    "\n",
    "sys.path.insert(0, '..')\n",
    "from test_framework_exercise.phoenix_test.matchers import FailedAssertion, Assertion, assert_that\n",
    "from test_framework_exercise.phoenix_test.test import Test\n",
    "sys.path.remove('..')"
   ]
  },
  {
   "cell_type": "markdown",
   "metadata": {},
   "source": [
    "## Committing"
   ]
  },
  {
   "cell_type": "code",
   "execution_count": 55,
   "metadata": {},
   "outputs": [
    {
     "name": "stdout",
     "output_type": "stream",
     "text": [
      "\u001b[32m    test_begin_commit passed!\n",
      "\u001b[32m    test_commit_without_transaction passed!\n",
      "\u001b[0m    2 out of 2 tests passed.\n",
      "\n"
     ]
    },
    {
     "data": {
      "text/plain": [
       "(2, 2)"
      ]
     },
     "execution_count": 55,
     "metadata": {},
     "output_type": "execute_result"
    }
   ],
   "source": [
    "class TransactionAndCommitTest(Test):\n",
    "    def test_begin_commit(self):\n",
    "        db = Database()\n",
    "        db.create_table(\"birds_on_youtube\")\n",
    "        \n",
    "        db.begin()\n",
    "        db.birds_on_youtube.set(\"Vinny\", {\"type\": \"Galah\", \"owner\": \"Marlene McCohen\", \"interests\" : \"music\"})\n",
    "        db.commit()\n",
    "        \n",
    "        assert_that(db.birds_on_youtube.get(\"Vinny\")).equals({\"type\": \"Galah\", \"owner\": \"Marlene McCohen\", \"interests\" : \"music\"})\n",
    "        \n",
    "    def test_commit_without_transaction(self):\n",
    "        db = Database()\n",
    "        \n",
    "        try:\n",
    "            db.commit()\n",
    "            assert_that(\"No Exception Thrown\").equals(\"NoTransactionInProgressException\")\n",
    "        except NoTransactionInProgressException:\n",
    "            return\n",
    "        \n",
    "        assert_that(\"Wrong Exception Thrown\").equals(\"NoTransactionInProgressException\")\n",
    "\n",
    "TransactionAndCommitTest().run()"
   ]
  },
  {
   "cell_type": "markdown",
   "metadata": {},
   "source": [
    "## Rolling Back"
   ]
  },
  {
   "cell_type": "code",
   "execution_count": 56,
   "metadata": {},
   "outputs": [
    {
     "name": "stdout",
     "output_type": "stream",
     "text": [
      "\u001b[32m    test_rollback_no_transaction passed!\n",
      "\u001b[32m    test_rollback_with_transaction passed!\n",
      "\u001b[0m    2 out of 2 tests passed.\n",
      "\n"
     ]
    },
    {
     "data": {
      "text/plain": [
       "(2, 2)"
      ]
     },
     "execution_count": 56,
     "metadata": {},
     "output_type": "execute_result"
    }
   ],
   "source": [
    "class TransactionAndRollbackTest(Test):\n",
    "    def test_rollback_with_transaction(self):\n",
    "        db = Database()\n",
    "        db.create_table(\"birds_on_youtube\")\n",
    "        \n",
    "        db.begin()\n",
    "        db.birds_on_youtube.set(\"Vinny\", {\"type\": \"Galah\", \"owner\": \"Marlene McCohen\", \"interests\" : \"music\"})\n",
    "        db.rollback()\n",
    "\n",
    "        assert_that(db.birds_on_youtube.get(\"Vinny\")).equals(None)\n",
    "\n",
    "    def test_rollback_no_transaction(self):\n",
    "        db = Database()\n",
    "        \n",
    "        try:\n",
    "            db.rollback()\n",
    "            assert_that(\"No Exception Thrown\").equals(\"NoTransactionInProgressException\")\n",
    "        except NoTransactionInProgressException:\n",
    "            return\n",
    "        \n",
    "        assert_that(\"Wrong Exception Thrown\").equals(\"NoTransactionInProgressException\")\n",
    "\n",
    "TransactionAndRollbackTest().run()"
   ]
  },
  {
   "cell_type": "markdown",
   "metadata": {},
   "source": [
    "## Here's an example of how a transaction might be useful.\n",
    "\n",
    "Suppose you run a pet shop, and you want local bird clubs to be able to enter their members' menageries into your system to get customized emails about discounts especially for their pets. For example \"Try out this new birdie boom box! With easy, push-button access to three great tunes. Vinny will love it!\" (Sidenote: Vinny actually would love this. However, **DO NOT** give a bird control over a noise-making device if you ever want to sleep again). \n",
    "\n",
    "What you DON'T want in your system is a bunch of birds without a recorded owner, because that's just taking up space in your system without giving you a contact person to sell stuff to. So you want to reject uploads from local bird clubs where ANY of the birds in the upload don't have an owner. That said, it's easier for the bird clubs to fix their files and re-upload then go back, take out just the invalid rows, and ONLY upload those. So, you reject the whole upload if there's even one problem.\n",
    "\n",
    "Try changing one of the `owner_name`s in `birds_to_add` to a name that does not appear in the `bird_owners` table, and see what gets inserted into `birds_to_add`."
   ]
  },
  {
   "cell_type": "code",
   "execution_count": 57,
   "metadata": {},
   "outputs": [
    {
     "name": "stdout",
     "output_type": "stream",
     "text": [
      "{'Vinny': {'type': 'Galah', 'owner_name': 'Marlene', 'interests': 'music'}, 'Picasso': {'type': 'Mustache Parakeet', 'owner_name': 'Marlene', 'interests': 'fruits'}, 'Jersey': {'type': 'Umbrella Cockatoo', 'owner_name': 'Marlene', 'interests': 'screaming'}, 'George': {'type': 'African Grey', 'owner_name': 'Marlene', 'interests': 'books'}, 'Finchey': {'type': 'Finch', 'owner_name': 'Marlene', 'interests': 'seed'}, 'Rocky': {'type': 'Catalina Maccaw', 'owner_name': 'Marlene', 'interests': 'dancing'}, 'Leo': {'type': 'Red-Lored Amazon', 'owner_name': 'Marlene', 'interests': 'Rocky'}, 'Blu': {'type': 'Indian Ringneck', 'owner_name': 'Sister', 'interests': 'Leo'}}\n"
     ]
    }
   ],
   "source": [
    "db = Database()\n",
    "\n",
    "db.create_table('bird_owners')\n",
    "db.bird_owners.set(\"Marlene\", {\"city\": \"Chatsworth\", \"email\": \"mmccohen@sniffers.com\"})\n",
    "db.bird_owners.set(\"Sister\", {\"city\": \"Chatsworth\", \"email\": \"mm1234@birdmail.com\"})\n",
    "\n",
    "db.create_table('birds_on_youtube')\n",
    "birds_to_add = {\n",
    "    \"Vinny\": {\"type\": \"Galah\", \"owner_name\": \"Marlene\", \"interests\": \"music\"},\n",
    "    \"Picasso\": {\"type\": \"Mustache Parakeet\", \"owner_name\": \"Marlene\", \"interests\": \"fruits\"},\n",
    "    \"Jersey\": {\"type\": \"Umbrella Cockatoo\", \"owner_name\": \"Marlene\", \"interests\": \"screaming\"},\n",
    "    \"George\": {\"type\": \"African Grey\", \"owner_name\": \"Marlene\", \"interests\": \"books\"},\n",
    "    \"Finchey\": {\"type\": \"Finch\", \"owner_name\": \"Marlene\", \"interests\": \"seed\"},\n",
    "    \"Rocky\": {\"type\": \"Catalina Maccaw\", \"owner_name\": \"Marlene\", \"interests\": \"dancing\"},\n",
    "    \"Leo\": {\"type\": \"Red-Lored Amazon\", \"owner_name\": \"Marlene\", \"interests\": \"Rocky\"},\n",
    "    \"Blu\": {\"type\": \"Indian Ringneck\", \"owner_name\": \"Sister\", \"interests\": \"Leo\"},\n",
    "}\n",
    "\n",
    "db.begin()\n",
    "for bird_name, bird in birds_to_add.items():\n",
    "    if birds_to_add[bird_name]['owner_name'] in db.bird_owners._data.keys():\n",
    "        db.birds_on_youtube.set(bird_name, bird)\n",
    "    else:\n",
    "        db.rollback()\n",
    "        break\n",
    "\n",
    "print(db.birds_on_youtube._data)"
   ]
  },
  {
   "cell_type": "markdown",
   "metadata": {},
   "source": [
    "Now put it back so that the transaction goes through, because we need some stuff in the `birds_on_youtube` table for this next part.\n",
    "\n",
    "Let's calculate how much space the database takes up during a transaction:"
   ]
  },
  {
   "cell_type": "code",
   "execution_count": 58,
   "metadata": {},
   "outputs": [],
   "source": [
    "import sys\n",
    "\n",
    "def get_bytes(table):\n",
    "    return sys.getsizeof(str(table._data)) + sys.getsizeof(str(table._before_transaction))\n",
    "\n",
    "def calculate_table_space_for(database):\n",
    "    return sum([get_bytes(table) for table in database.tables.values()])"
   ]
  },
  {
   "cell_type": "code",
   "execution_count": 59,
   "metadata": {},
   "outputs": [
    {
     "data": {
      "text/plain": [
       "1800"
      ]
     },
     "execution_count": 59,
     "metadata": {},
     "output_type": "execute_result"
    }
   ],
   "source": [
    "db.begin()\n",
    "calculate_table_space_for(db)"
   ]
  },
  {
   "cell_type": "code",
   "execution_count": 60,
   "metadata": {},
   "outputs": [
    {
     "data": {
      "text/plain": [
       "1002"
      ]
     },
     "execution_count": 60,
     "metadata": {},
     "output_type": "execute_result"
    }
   ],
   "source": [
    "db.rollback()\n",
    "calculate_table_space_for(db)"
   ]
  },
  {
   "cell_type": "markdown",
   "metadata": {},
   "source": [
    "Neither of these numbers is a lot of bytes, but they demonstrate just how space-consuming our current implementation of transactions is. It almost doubles the amount of space we need to store data during a transaction?"
   ]
  },
  {
   "cell_type": "markdown",
   "metadata": {},
   "source": [
    "### Challenge: Can you find a way to make transactions work without requiring so much space?"
   ]
  },
  {
   "cell_type": "code",
   "execution_count": null,
   "metadata": {},
   "outputs": [],
   "source": []
  }
 ],
 "metadata": {
  "kernelspec": {
   "display_name": "Python 3",
   "language": "python",
   "name": "python3"
  },
  "language_info": {
   "codemirror_mode": {
    "name": "ipython",
    "version": 3
   },
   "file_extension": ".py",
   "mimetype": "text/x-python",
   "name": "python",
   "nbconvert_exporter": "python",
   "pygments_lexer": "ipython3",
   "version": "3.9.0"
  }
 },
 "nbformat": 4,
 "nbformat_minor": 4
}
