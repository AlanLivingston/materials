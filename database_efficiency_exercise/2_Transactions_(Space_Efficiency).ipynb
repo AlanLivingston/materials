{
 "cells": [
  {
   "cell_type": "code",
   "execution_count": null,
   "metadata": {},
   "outputs": [],
   "source": [
    "class NoTransactionInProgressException(Exception):\n",
    "    def __str__(self):\n",
    "        return \"There isn't a transaction in progress!\"\n",
    "\n",
    "class Database():\n",
    "    def __init__(self):\n",
    "        self._data = {}\n",
    "            \n",
    "    def get(self, key):\n",
    "        return self._data[key]\n",
    "    \n",
    "    def set(self, key, value):\n",
    "        self._data[key] = value\n",
    "    \n",
    "    def begin(self):\n",
    "        pass\n",
    "    \n",
    "    def commit(self):\n",
    "        raise NoTransactionInProgressException()\n",
    "       \n",
    "    def rollback(self):\n",
    "        raise NoTransactionInProgressException()"
   ]
  },
  {
   "cell_type": "code",
   "execution_count": null,
   "metadata": {},
   "outputs": [],
   "source": [
    "import sys\n",
    "!{sys.executable} -m pip install colorama \n",
    "\n",
    "sys.path.insert(0, '..')\n",
    "from test_framework_exercise.phoenix_test.matchers import FailedAssertion, Assertion, assert_that\n",
    "from test_framework_exercise.phoenix_test.test import Test\n",
    "sys.path.remove('..')"
   ]
  },
  {
   "cell_type": "code",
   "execution_count": null,
   "metadata": {},
   "outputs": [],
   "source": [
    "class TransactionTest(Test):\n",
    "    def test_begin_commit(self):\n",
    "        db = Database()\n",
    "        \n",
    "        db.begin()\n",
    "        db.set(\"BlueAndGold\", \"Maccaw\")\n",
    "        db.commit()\n",
    "\n",
    "        assert_that(db.get(\"BlueAndGold\")).equals(\"Maccaw\")\n",
    "        \n",
    "    def test_commit_without_transaction(self):\n",
    "        db = Database()\n",
    "        \n",
    "        try:\n",
    "            db.commit()\n",
    "            assert_that(\"No Exception Thrown\").equals(\"NoTransactionInProgressException\")\n",
    "        except NoTransactionInProgressException:\n",
    "            return\n",
    "        \n",
    "        assert_that(\"Wrong Exception Thrown\").equals(\"NoTransactionInProgressException\")\n",
    "\n",
    "TransactionTest().run()"
   ]
  },
  {
   "cell_type": "markdown",
   "metadata": {},
   "source": [
    "Why do both of these already pass?"
   ]
  },
  {
   "cell_type": "markdown",
   "metadata": {},
   "source": [
    "## Challenge 2"
   ]
  },
  {
   "cell_type": "code",
   "execution_count": null,
   "metadata": {},
   "outputs": [],
   "source": [
    "class TransactionAndRollbackTest(Test):\n",
    "    def test_rollback_with_transaction(self):\n",
    "        db = Database()\n",
    "\n",
    "        db.begin()\n",
    "        db.set(\"Golden\", \"Eagle\")\n",
    "        db.rollback()\n",
    "\n",
    "        print(db.get(\"Golden\"))\n",
    "        assert_that(db.get(\"Golden\")).equals(\"Eagle\")\n",
    "\n",
    "    def test_rollback_no_transaction(self):\n",
    "        db = Database()\n",
    "        \n",
    "        try:\n",
    "            db.rollback()\n",
    "            assert_that(\"No Exception Thrown\").equals(\"NoTransactionInProgressException\")\n",
    "        except NoTransactionInProgressException:\n",
    "            return\n",
    "        \n",
    "        assert_that(\"Wrong Exception Thrown\").equals(\"NoTransactionInProgressException\")\n",
    "\n",
    "TransactionAndRollbackTest().run()"
   ]
  },
  {
   "cell_type": "code",
   "execution_count": null,
   "metadata": {},
   "outputs": [],
   "source": [
    "class TransactionAndCommitTest(Test):\n",
    "    def test_rollback_with_transaction(self):\n",
    "        db = Database()\n",
    "\n",
    "        db.begin()\n",
    "        db.set(\"Golden\", \"Eagle\")\n",
    "        db.rollback()\n",
    "\n",
    "        print(db.get(\"Golden\"))\n",
    "        assert_that(db.get(\"Golden\")).equals(\"Eagle\")\n",
    "\n",
    "    def test_rollback_no_transaction(self):\n",
    "        db = Database()\n",
    "        \n",
    "        try:\n",
    "            db.rollback()\n",
    "            assert_that(\"No Exception Thrown\").equals(\"NoTransactionInProgressException\")\n",
    "        except NoTransactionInProgressException:\n",
    "            return\n",
    "        \n",
    "        assert_that(\"Wrong Exception Thrown\").equals(\"NoTransactionInProgressException\")\n"
   ]
  }
 ],
 "metadata": {
  "kernelspec": {
   "display_name": "Python 3",
   "language": "python",
   "name": "python3"
  },
  "language_info": {
   "codemirror_mode": {
    "name": "ipython",
    "version": 3
   },
   "file_extension": ".py",
   "mimetype": "text/x-python",
   "name": "python",
   "nbconvert_exporter": "python",
   "pygments_lexer": "ipython3",
   "version": "3.9.0"
  }
 },
 "nbformat": 4,
 "nbformat_minor": 4
}
