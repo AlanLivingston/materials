{
 "cells": [
  {
   "cell_type": "code",
   "execution_count": null,
   "metadata": {},
   "outputs": [],
   "source": [
    "def stopwatch(func):\n",
    "    def wrapper(*args, **kwargs):\n",
    "        start = datetime.now()\n",
    "        func(*args, **kwargs)\n",
    "        end = datetime.now()\n",
    "        print(f\"Operation took {end - start} seconds\")\n",
    "    \n",
    "    return wrapper"
   ]
  },
  {
   "cell_type": "code",
   "execution_count": null,
   "metadata": {},
   "outputs": [],
   "source": [
    "import random\n",
    "from datetime import datetime\n",
    "\n",
    "values = [\"apple\", \"banana\", \"carrot\", \"celery\", \"mirepoix\", \"clementine\"]\n",
    "db = {}\n",
    "\n",
    "@stopwatch\n",
    "def populate_database():\n",
    "    for x in range(1000000):\n",
    "        db[hash(datetime.now())] = random.choices(values)[0]\n",
    "\n",
    "populate_database()"
   ]
  },
  {
   "cell_type": "code",
   "execution_count": null,
   "metadata": {},
   "outputs": [],
   "source": [
    "class Database():\n",
    "    def __init__(self):\n",
    "        self._data = {}\n",
    "        \n",
    "        self.foods = [\"apple\", \"banana\", \"carrot\", \"celery\", \"mirepoix\", \"clementine\"]\n",
    "\n",
    "        for x in range(1000000):\n",
    "            self._data[hash(datetime.now())] = random.choices(values)[0]\n",
    "    \n",
    "    def get(self, key):\n",
    "        return self._data[key]\n",
    "    \n",
    "    def set(self, key, value):\n",
    "        self._data[key] = value\n",
    "        \n",
    "    def count(self, key):\n",
    "        pass\n",
    "    "
   ]
  },
  {
   "cell_type": "code",
   "execution_count": null,
   "metadata": {},
   "outputs": [],
   "source": [
    "import sys\n",
    "!{sys.executable} -m pip install colorama \n",
    "\n",
    "sys.path.insert(0, '..')\n",
    "from test_framework_exercise.phoenix_test.matchers import FailedAssertion, Assertion, assert_that\n",
    "from test_framework_exercise.phoenix_test.test import Test\n",
    "sys.path.remove('..')"
   ]
  },
  {
   "cell_type": "code",
   "execution_count": null,
   "metadata": {},
   "outputs": [],
   "source": [
    "class DatabaseTest(Test):\n",
    "    def setup(self):\n",
    "        self.db = Database()\n",
    "                \n",
    "    def test_count(self):\n",
    "        result = self.db.count(\"clementine\")\n",
    "        assert_that(160000 < result < 170000).is_true()\n",
    "        \n",
    "    def test_count_performance(self):\n",
    "        start = datetime.now()\n",
    "        self.db.count(\"clementine\")\n",
    "        end = datetime.now()\n",
    "        assert_that((end - start).total_seconds() < 0.01).is_true()        \n",
    "        \n",
    "DatabaseTest().run()"
   ]
  },
  {
   "cell_type": "code",
   "execution_count": null,
   "metadata": {},
   "outputs": [],
   "source": [
    "## Let's implement a count method. How would that work?"
   ]
  },
  {
   "cell_type": "code",
   "execution_count": null,
   "metadata": {},
   "outputs": [],
   "source": [
    "@stopwatch\n",
    "def count_all():\n",
    "    counts = dict.fromkeys(values, 0)\n",
    "\n",
    "    for key, value in db.items():\n",
    "        counts[value] += 1\n",
    "    return counts\n",
    "\n",
    "counts = count_all()\n",
    "counts"
   ]
  },
  {
   "cell_type": "code",
   "execution_count": null,
   "metadata": {},
   "outputs": [],
   "source": [
    "db = {}\n",
    "counts = dict.fromkeys(values, 0)\n",
    "\n",
    "@stopwatch\n",
    "def populate_database_with_counts():\n",
    "    for x in range(1000000):\n",
    "        value = random.choices(values)[0]\n",
    "        db[hash(datetime.now())] = value\n",
    "        counts[value] +=1\n",
    "\n",
    "populate_database_with_counts()"
   ]
  },
  {
   "cell_type": "code",
   "execution_count": null,
   "metadata": {},
   "outputs": [],
   "source": [
    "counts"
   ]
  },
  {
   "cell_type": "code",
   "execution_count": null,
   "metadata": {},
   "outputs": [],
   "source": [
    "## Space efficiency"
   ]
  },
  {
   "cell_type": "code",
   "execution_count": null,
   "metadata": {},
   "outputs": [],
   "source": [
    "import sys\n",
    "\n",
    "#almost nothing\n",
    "sys.getsizeof(str(counts))"
   ]
  },
  {
   "cell_type": "code",
   "execution_count": null,
   "metadata": {},
   "outputs": [],
   "source": [
    "import sys\n",
    "\n",
    "#this is in bytes, so divide by 10^6 to get # of megabytes\n",
    "sys.getsizeof(str(db))"
   ]
  },
  {
   "cell_type": "code",
   "execution_count": null,
   "metadata": {},
   "outputs": [],
   "source": [
    "## Challenge: when should we update the counts? change the following database implementation to update the counts:"
   ]
  },
  {
   "cell_type": "code",
   "execution_count": null,
   "metadata": {},
   "outputs": [],
   "source": []
  }
 ],
 "metadata": {
  "kernelspec": {
   "display_name": "Python 3",
   "language": "python",
   "name": "python3"
  },
  "language_info": {
   "codemirror_mode": {
    "name": "ipython",
    "version": 3
   },
   "file_extension": ".py",
   "mimetype": "text/x-python",
   "name": "python",
   "nbconvert_exporter": "python",
   "pygments_lexer": "ipython3",
   "version": "3.9.0"
  }
 },
 "nbformat": 4,
 "nbformat_minor": 4
}
