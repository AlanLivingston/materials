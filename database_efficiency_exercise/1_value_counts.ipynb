{
 "cells": [
  {
   "cell_type": "code",
   "execution_count": 1,
   "metadata": {},
   "outputs": [],
   "source": [
    "def stopwatch(func):\n",
    "    def wrapper(*args, **kwargs):\n",
    "        start = datetime.now()\n",
    "        func(*args, **kwargs)\n",
    "        end = datetime.now()\n",
    "        print(f\"Operation took {end - start} seconds\")\n",
    "    \n",
    "    return wrapper"
   ]
  },
  {
   "cell_type": "code",
   "execution_count": 3,
   "metadata": {},
   "outputs": [
    {
     "name": "stdout",
     "output_type": "stream",
     "text": [
      "Operation took 0:00:02.554716 seconds\n"
     ]
    }
   ],
   "source": [
    "import random\n",
    "from datetime import datetime\n",
    "\n",
    "values = [\"apple\", \"banana\", \"carrot\", \"celery\", \"mirepoix\", \"clementine\"]\n",
    "db = {}\n",
    "\n",
    "@stopwatch\n",
    "def populate_database():\n",
    "    for x in range(1000000):\n",
    "        db[hash(datetime.now())] = random.choices(values)[0]\n",
    "\n",
    "populate_database()"
   ]
  },
  {
   "cell_type": "code",
   "execution_count": 11,
   "metadata": {},
   "outputs": [
    {
     "data": {
      "text/plain": [
       "1000000"
      ]
     },
     "execution_count": 11,
     "metadata": {},
     "output_type": "execute_result"
    }
   ],
   "source": [
    "len(db.keys())"
   ]
  },
  {
   "cell_type": "code",
   "execution_count": null,
   "metadata": {},
   "outputs": [],
   "source": [
    "## Let's implement a count method. How would that work?"
   ]
  },
  {
   "cell_type": "code",
   "execution_count": 5,
   "metadata": {},
   "outputs": [
    {
     "name": "stdout",
     "output_type": "stream",
     "text": [
      "Operation took 0:00:00.130930 seconds\n"
     ]
    }
   ],
   "source": [
    "@stopwatch\n",
    "def count_all():\n",
    "    counts = dict.fromkeys(values, 0)\n",
    "\n",
    "    for key, value in db.items():\n",
    "        counts[value] += 1\n",
    "    return counts\n",
    "\n",
    "counts = count_all()\n",
    "counts"
   ]
  },
  {
   "cell_type": "code",
   "execution_count": 12,
   "metadata": {},
   "outputs": [
    {
     "name": "stdout",
     "output_type": "stream",
     "text": [
      "Operation took 0:00:02.668754 seconds\n"
     ]
    }
   ],
   "source": [
    "db = {}\n",
    "counts = dict.fromkeys(values, 0)\n",
    "\n",
    "@stopwatch\n",
    "def populate_database_with_counts():\n",
    "    for x in range(1000000):\n",
    "        value = random.choices(values)[0]\n",
    "        db[hash(datetime.now())] = value\n",
    "        counts[value] +=1\n",
    "\n",
    "populate_database_with_counts()"
   ]
  },
  {
   "cell_type": "code",
   "execution_count": 13,
   "metadata": {},
   "outputs": [
    {
     "data": {
      "text/plain": [
       "{'apple': 166351,\n",
       " 'banana': 166830,\n",
       " 'carrot': 166973,\n",
       " 'celery': 167196,\n",
       " 'mirepoix': 166584,\n",
       " 'clementine': 166066}"
      ]
     },
     "execution_count": 13,
     "metadata": {},
     "output_type": "execute_result"
    }
   ],
   "source": [
    "counts"
   ]
  },
  {
   "cell_type": "code",
   "execution_count": null,
   "metadata": {},
   "outputs": [],
   "source": [
    "## Space efficiency"
   ]
  },
  {
   "cell_type": "code",
   "execution_count": 14,
   "metadata": {},
   "outputs": [
    {
     "data": {
      "text/plain": [
       "162"
      ]
     },
     "execution_count": 14,
     "metadata": {},
     "output_type": "execute_result"
    }
   ],
   "source": [
    "import sys\n",
    "\n",
    "#almost nothing\n",
    "sys.getsizeof(str(counts))"
   ]
  },
  {
   "cell_type": "code",
   "execution_count": 15,
   "metadata": {},
   "outputs": [
    {
     "data": {
      "text/plain": [
       "32210763"
      ]
     },
     "execution_count": 15,
     "metadata": {},
     "output_type": "execute_result"
    }
   ],
   "source": [
    "import sys\n",
    "\n",
    "#this is in bytes, so divide by 10^6 to get # of megabytes\n",
    "sys.getsizeof(str(db))"
   ]
  },
  {
   "cell_type": "code",
   "execution_count": null,
   "metadata": {},
   "outputs": [],
   "source": [
    "## Challenge: when should we update the counts? change the following database implementation to update the counts:"
   ]
  },
  {
   "cell_type": "code",
   "execution_count": null,
   "metadata": {},
   "outputs": [],
   "source": []
  }
 ],
 "metadata": {
  "kernelspec": {
   "display_name": "Python 3",
   "language": "python",
   "name": "python3"
  },
  "language_info": {
   "codemirror_mode": {
    "name": "ipython",
    "version": 3
   },
   "file_extension": ".py",
   "mimetype": "text/x-python",
   "name": "python",
   "nbconvert_exporter": "python",
   "pygments_lexer": "ipython3",
   "version": "3.9.0"
  }
 },
 "nbformat": 4,
 "nbformat_minor": 4
}
