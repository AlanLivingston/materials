{
 "cells": [
  {
   "cell_type": "markdown",
   "metadata": {},
   "source": [
    "For this homework, you'll be writing a fully-tested API that fetches data from a fully-tested in-memory database.\n",
    "\n",
    "Sound daunting? Don't worry :) We have provided some video tutorials to help you! The first thing you want to do is choose a data model. For my video tutorials, I chose birds: I will keep information about birds in my database. Later you'll watch a video in which Anthony Herbert works with an API that provides information about cities. You can choose to make your API serve up information about whatever you like. \n",
    "\n",
    "[Follow this video tutotial](https://youtu.be/p4x-HiRncSw) to set up a virtual environment\n",
    "\n",
    "[Follow this video tutotial](https://youtu.be/FWXZ5CpM4LA) to set up your first endpoint in your API!\n",
    "\n",
    "[Follow this video tutotial](https://youtu.be/60pTjaP-1ts) to write a unit test for your first endpoint!\n",
    "\n",
    "NOW\n",
    "\n",
    "Using what you've learned so far, you'll make an API that serves up data from a dict in your main.py file and can create items, list all the items, get a specific item, or delete that item.\n",
    "\n",
    "[This video](https://youtu.be/kCggyi_7pHg) is a fantastic introduction to doing these endpoints in FastAPI. Note that that video stores cities in a **list**, and you'll want to store your objects in a **dictionary**. This will make for an easier transition when we start putting them in an actual _database_. Also note that at the end of that video, Anthony writes an integration to get local times for the cities in his database. You don't have to do something like that: your data model can have just keys and static values.\n",
    "\n",
    "We'll grade you on your app having the four endpoints for listing all records, getting a specific record, adding a record, and deleting a record.\n",
    "\n",
    "We will also grade on each endpoint having a _unit test_ for it like the one that we wrote for the hello world method in the video tutorials.\n",
    "\n",
    "Four endpoints, four unit tests. We're practicing the skill here of patching together information from different sources to learn how to implement your own application. You will rarely be able to find an _exact_ tutorial, and you'll need to be able to consult different use cases and documentation to find your way to your end goal.\n",
    "\n",
    "What challenges do you run into as you write these unit tests? You may run into a challenge where, to make sure your requests to _get_ stuff from the database are working, you have to dirst _put_ stuff in the database.\n",
    "\n",
    "We address that challenge in [this tutorial video](https://youtu.be/BjLk3WSiBIc). We then test-drive a database object and **inject the database dependency** into the app so that we can rely on test data for the database in our unit tests.\n",
    "\n",
    "Once you have the database injected into your app, you'll need to change each of your routes (listing items, getting an item, creating an item, an deleting an item) to use your new database. (In fact, the create function in the video would not work without changes for it to use the database properly by calling the \"put\" method rather than trying to assign items directly).\n",
    "\n",
    "Ah, but the new database object doesn't have a method to help you delete things! Add this function (and a unit test for it!) and call that function from your route that deletes things."
   ]
  },
  {
   "cell_type": "code",
   "execution_count": null,
   "metadata": {},
   "outputs": [],
   "source": []
  }
 ],
 "metadata": {
  "kernelspec": {
   "display_name": "Python 3",
   "language": "python",
   "name": "python3"
  },
  "language_info": {
   "codemirror_mode": {
    "name": "ipython",
    "version": 3
   },
   "file_extension": ".py",
   "mimetype": "text/x-python",
   "name": "python",
   "nbconvert_exporter": "python",
   "pygments_lexer": "ipython3",
   "version": "3.9.0"
  }
 },
 "nbformat": 4,
 "nbformat_minor": 4
}
