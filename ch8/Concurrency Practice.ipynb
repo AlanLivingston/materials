{
 "cells": [
  {
   "cell_type": "code",
   "execution_count": null,
   "metadata": {},
   "outputs": [],
   "source": [
    "import time\n",
    "\n",
    "ready = []\n",
    "waiting = []\n",
    "        \n",
    "def slow_query_called(name):\n",
    "    for i in range(10):\n",
    "        time.sleep(1)\n",
    "        print(f\" {name} yielded {i}\")\n",
    "        yield i\n",
    "        \n",
    "ready.append(slow_query_called(\"Bob\"))\n",
    "ready.append(slow_query_called(\"Doug\"))      "
   ]
  },
  {
   "cell_type": "code",
   "execution_count": null,
   "metadata": {},
   "outputs": [],
   "source": [
    "while ready or waiting:\n",
    "    if ready:\n",
    "        readiest = ready.pop(0)\n",
    "        try:\n",
    "            next(readiest)\n",
    "            waiting.append(readiest)\n",
    "        except StopIteration:\n",
    "            print(f\"completed\")\n",
    "    else:\n",
    "        waitingest = waiting.pop(0)\n",
    "        ready.append(waitingest)"
   ]
  },
  {
   "cell_type": "code",
   "execution_count": null,
   "metadata": {},
   "outputs": [],
   "source": []
  }
 ],
 "metadata": {
  "kernelspec": {
   "display_name": "Python 3",
   "language": "python",
   "name": "python3"
  },
  "language_info": {
   "codemirror_mode": {
    "name": "ipython",
    "version": 3
   },
   "file_extension": ".py",
   "mimetype": "text/x-python",
   "name": "python",
   "nbconvert_exporter": "python",
   "pygments_lexer": "ipython3",
   "version": "3.9.0"
  }
 },
 "nbformat": 4,
 "nbformat_minor": 4
}
