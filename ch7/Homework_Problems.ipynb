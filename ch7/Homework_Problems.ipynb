{
 "cells": [
  {
   "cell_type": "markdown",
   "metadata": {},
   "source": [
    "## Problem 1\n",
    "\n",
    "\n",
    "## Why Python's Functional Constructs Suck\n",
    "\n",
    "1. You have to convert everything in and out of list format\n",
    "2. When you don't do this, they don't even throw an exception: instead they look like they worked except that they don't, which is _super_ unclear.\n",
    "3. They don't support a fluent interface so I have to save everything off as a variable, which I then have to either explicitly delete like I'm writing code in the seventies and am in charge of my own memory management, or else take up multiple times as much memory as I'd need for the final thing I'm actually asking for\n",
    "\n",
    "Conclusion: functional programming isn't bad, Python is just bad _at_ it\n",
    "\n",
    "We are going to fix it today by implementing a class called `Stream` with a fluent interface, which is, as it happens, exactly how Java solves this problem\n",
    "\n",
    "**Question** Why would we do this instead of doing what GVR suggests and using list comprehensions?\n",
    "\n",
    "**Answer** In fact we are going to use list comprehensions for the implementation! But to use them straight in the client code for multiple operations one after the other would require us to nest them, which, speaking of illegible, holy forking shirtballs"
   ]
  },
  {
   "cell_type": "code",
   "execution_count": null,
   "metadata": {},
   "outputs": [],
   "source": [
    "#"
   ]
  }
 ],
 "metadata": {
  "kernelspec": {
   "display_name": "Python 3",
   "language": "python",
   "name": "python3"
  },
  "language_info": {
   "codemirror_mode": {
    "name": "ipython",
    "version": 3
   },
   "file_extension": ".py",
   "mimetype": "text/x-python",
   "name": "python",
   "nbconvert_exporter": "python",
   "pygments_lexer": "ipython3",
   "version": "3.9.0"
  }
 },
 "nbformat": 4,
 "nbformat_minor": 4
}
