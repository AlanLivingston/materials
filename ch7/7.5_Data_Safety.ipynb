{
 "cells": [
  {
   "cell_type": "code",
   "execution_count": null,
   "metadata": {},
   "outputs": [],
   "source": [
    "import sys\n",
    "!{sys.executable} -m pip install scipy \n",
    "\n",
    "import math\n",
    "from scipy.stats import t\n",
    "import numpy as np\n",
    "\n",
    "def confidence_interval_for_collection(sample_size=[], standard_deviation=[], mean=[], confidence=0.95):\n",
    "    degrees_freedom = [count - 1 for count in sample_size]\n",
    "    outlier_tails = (1.0 - confidence) / 2.0\n",
    "    confidence_collection = [outlier_tails for _ in sample_size]\n",
    "    t_distribution_number = [-1 * t.ppf(tails, df) for tails, df in zip(confidence_collection, degrees_freedom)]\n",
    "\n",
    "    step_1 = [std/math.sqrt(count) for std, count in zip(standard_deviation, sample_size)]\n",
    "    step_2 = [step * t for step, t in zip(step_1, t_distribution_number)]\n",
    "\n",
    "    low_end = [mean_num - step_num for mean_num, step_num in zip(mean, step_2)]\n",
    "    high_end = [mean_num + step_num for mean_num, step_num in zip(mean, step_2)]\n",
    "\n",
    "    return low_end, high_end"
   ]
  },
  {
   "cell_type": "code",
   "execution_count": null,
   "metadata": {},
   "outputs": [],
   "source": [
    "import pandas as pd\n",
    "aggregation = pd.read_csv('metrics.csv') \\\n",
    "        .assign(year=lambda row: row[\"Period Start\"].apply(lambda x: x[-4:])) \\\n",
    "        .assign(activity_year=lambda row: row[\"Activity\"] + \" (\" + row[\"year\"] + \")\") \\\n",
    "        .assign(average_days_to_complete_activity=lambda row: row[\"Average Days to Complete Activity\"].apply(lambda x: float(x))) \\\n",
    "        .groupby('activity_year') \\\n",
    "        .agg({\n",
    "             'Target Response Days': 'max', \n",
    "             'average_days_to_complete_activity': ['mean','std'],\n",
    "             'Activity' : 'count'\n",
    "            })\\\n",
    "        .reset_index()\n",
    "\n",
    "aggregation.columns = [' '.join(col).strip() for col in aggregation.columns.values]\n",
    "aggregation.conf_interval_bottom, aggregation.conf_interval_top = confidence_interval_for_collection(sample_size=aggregation[\"Activity count\"], standard_deviation=aggregation[\"average_days_to_complete_activity std\"], mean=aggregation[\"average_days_to_complete_activity mean\"])\n",
    "\n",
    "aggregation"
   ]
  },
  {
   "cell_type": "code",
   "execution_count": null,
   "metadata": {},
   "outputs": [],
   "source": []
  }
 ],
 "metadata": {
  "kernelspec": {
   "display_name": "Python 3",
   "language": "python",
   "name": "python3"
  },
  "language_info": {
   "codemirror_mode": {
    "name": "ipython",
    "version": 3
   },
   "file_extension": ".py",
   "mimetype": "text/x-python",
   "name": "python",
   "nbconvert_exporter": "python",
   "pygments_lexer": "ipython3",
   "version": "3.9.0"
  }
 },
 "nbformat": 4,
 "nbformat_minor": 4
}
