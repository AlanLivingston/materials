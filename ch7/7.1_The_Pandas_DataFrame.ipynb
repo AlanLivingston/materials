{
 "cells": [
  {
   "cell_type": "markdown",
   "metadata": {},
   "source": [
    "### Pandas\n",
    "\n",
    "Pandas is a Python library that allows us to analyze tabular data. If you have used Microsoft Excel or a similar spreadsheet tool, you've used a user interface to do some of the things we can do with Pandas. If you've worked on data analysis with R, you have already done some programmatic data analysis like we will do with Pandas. \n",
    "\n",
    "Pandas represents tabular data inside of an objetc called a `DataFrame`. Each column header points to a `Series` (a `pandas` object that contains a collection of values)."
   ]
  },
  {
   "cell_type": "code",
   "execution_count": 1,
   "metadata": {},
   "outputs": [
    {
     "name": "stdout",
     "output_type": "stream",
     "text": [
      "Requirement already satisfied: pandas in /Users/chelseatroy/.pyenv/versions/3.9.0/lib/python3.9/site-packages (1.2.2)\n",
      "Requirement already satisfied: numpy>=1.16.5 in /Users/chelseatroy/.pyenv/versions/3.9.0/lib/python3.9/site-packages (from pandas) (1.20.1)\n",
      "Requirement already satisfied: python-dateutil>=2.7.3 in /Users/chelseatroy/.pyenv/versions/3.9.0/lib/python3.9/site-packages (from pandas) (2.8.1)\n",
      "Requirement already satisfied: pytz>=2017.3 in /Users/chelseatroy/.pyenv/versions/3.9.0/lib/python3.9/site-packages (from pandas) (2021.1)\n",
      "Requirement already satisfied: six>=1.5 in /Users/chelseatroy/.pyenv/versions/3.9.0/lib/python3.9/site-packages (from python-dateutil>=2.7.3->pandas) (1.15.0)\n",
      "\u001b[33mWARNING: You are using pip version 20.2.3; however, version 21.0.1 is available.\n",
      "You should consider upgrading via the '/Users/chelseatroy/.pyenv/versions/3.9.0/bin/python3.9 -m pip install --upgrade pip' command.\u001b[0m\n"
     ]
    }
   ],
   "source": [
    "import sys\n",
    "!{sys.executable} -m pip install pandas \n",
    "\n",
    "import pandas as pd"
   ]
  },
  {
   "cell_type": "markdown",
   "metadata": {},
   "source": [
    "Notice that, when we install `pandas`, it pulls in its own dependency on a library called `numpy`. We are going to talk about that later."
   ]
  },
  {
   "cell_type": "markdown",
   "metadata": {},
   "source": [
    "### Pandas `DataFrame` Object"
   ]
  },
  {
   "cell_type": "code",
   "execution_count": 2,
   "metadata": {},
   "outputs": [
    {
     "data": {
      "text/html": [
       "<div>\n",
       "<style scoped>\n",
       "    .dataframe tbody tr th:only-of-type {\n",
       "        vertical-align: middle;\n",
       "    }\n",
       "\n",
       "    .dataframe tbody tr th {\n",
       "        vertical-align: top;\n",
       "    }\n",
       "\n",
       "    .dataframe thead th {\n",
       "        text-align: right;\n",
       "    }\n",
       "</style>\n",
       "<table border=\"1\" class=\"dataframe\">\n",
       "  <thead>\n",
       "    <tr style=\"text-align: right;\">\n",
       "      <th></th>\n",
       "      <th>species</th>\n",
       "      <th>specimen_id</th>\n",
       "      <th>weight</th>\n",
       "    </tr>\n",
       "  </thead>\n",
       "  <tbody>\n",
       "    <tr>\n",
       "      <th>0</th>\n",
       "      <td>oriole</td>\n",
       "      <td>7ss24g6t7f2dr4h32</td>\n",
       "      <td>4.23</td>\n",
       "    </tr>\n",
       "    <tr>\n",
       "      <th>1</th>\n",
       "      <td>oriole</td>\n",
       "      <td>7dr4h32ss24g6t7f2</td>\n",
       "      <td>4.17</td>\n",
       "    </tr>\n",
       "    <tr>\n",
       "      <th>2</th>\n",
       "      <td>oriole</td>\n",
       "      <td>g6t7f2dr4h327ss24</td>\n",
       "      <td>5.21</td>\n",
       "    </tr>\n",
       "    <tr>\n",
       "      <th>3</th>\n",
       "      <td>oriole</td>\n",
       "      <td>t77ss24g6f2dr4h32</td>\n",
       "      <td>3.22</td>\n",
       "    </tr>\n",
       "    <tr>\n",
       "      <th>4</th>\n",
       "      <td>oriole</td>\n",
       "      <td>327ss24g6t7f2dr4h</td>\n",
       "      <td>4.00</td>\n",
       "    </tr>\n",
       "  </tbody>\n",
       "</table>\n",
       "</div>"
      ],
      "text/plain": [
       "  species        specimen_id  weight\n",
       "0  oriole  7ss24g6t7f2dr4h32    4.23\n",
       "1  oriole  7dr4h32ss24g6t7f2    4.17\n",
       "2  oriole  g6t7f2dr4h327ss24    5.21\n",
       "3  oriole  t77ss24g6f2dr4h32    3.22\n",
       "4  oriole  327ss24g6t7f2dr4h    4.00"
      ]
     },
     "execution_count": 2,
     "metadata": {},
     "output_type": "execute_result"
    }
   ],
   "source": [
    "df = pd.read_csv('birds.csv')\n",
    "\n",
    "df.head()"
   ]
  },
  {
   "cell_type": "markdown",
   "metadata": {},
   "source": [
    "A `DataFrame` has attributes:\n",
    "\n",
    "- index: An Index object. The values are the row/index labels.\n",
    "- columns: An index object. The values are the column labels."
   ]
  },
  {
   "cell_type": "code",
   "execution_count": null,
   "metadata": {},
   "outputs": [],
   "source": [
    "print(df.index)\n",
    "print(df.columns)"
   ]
  },
  {
   "cell_type": "markdown",
   "metadata": {},
   "source": [
    "### Data Indexing and Selection\n",
    "\n",
    "A `DataFrame` maps a column name to a `Series` of column data. Because the `__getitem__` behavior of a `DataFrame` returns a column, you can think about a DataFrame as a sort of dictionary (although there's more to it of course—for sorting or filtering rows, for example, we need a row-oriented representation of the data)."
   ]
  },
  {
   "cell_type": "code",
   "execution_count": null,
   "metadata": {},
   "outputs": [],
   "source": [
    "df['specimen_id'].head()"
   ]
  },
  {
   "cell_type": "code",
   "execution_count": null,
   "metadata": {},
   "outputs": [],
   "source": [
    "df.specimen_id.head()"
   ]
  },
  {
   "cell_type": "markdown",
   "metadata": {},
   "source": [
    "We can also add a new column the way that we would add a new key value pair to a dictionary:"
   ]
  },
  {
   "cell_type": "code",
   "execution_count": 3,
   "metadata": {},
   "outputs": [
    {
     "name": "stdout",
     "output_type": "stream",
     "text": [
      "Specimen 7ss24g6t7f2dr4h32 is a oriole and weighs 4.23 ounces.\n"
     ]
    }
   ],
   "source": [
    "df['Description'] = \"Specimen \" + df[\"specimen_id\"] + \" is a \" + df.species + \" and weighs \" + df.weight.astype(str) + \" ounces.\"\n",
    "print(df['Description'][0])"
   ]
  },
  {
   "cell_type": "markdown",
   "metadata": {},
   "source": [
    "## You can transpose a dataframe.\n",
    "\n",
    "**Transpose** means to switch the rows and columns. This might make sense if you're refrencing individual specimens more often than their characteristics, or if you have more characteristics per specimen than you have specimens."
   ]
  },
  {
   "cell_type": "code",
   "execution_count": null,
   "metadata": {},
   "outputs": [],
   "source": [
    "df"
   ]
  },
  {
   "cell_type": "markdown",
   "metadata": {},
   "source": [
    "## You can also get ahold of the values as a 2d matrix.\n",
    "\n",
    "Remember, we sometimes need a matrix representation of our data for sorting, filtering, or other operations that focus on the rows (specimens) rather than the columns (specime characteristics).\n",
    "\n",
    "We also often need a representation like this to feed data into existing machine learning model libraries."
   ]
  },
  {
   "cell_type": "code",
   "execution_count": null,
   "metadata": {},
   "outputs": [],
   "source": [
    "df.values[:5]"
   ]
  },
  {
   "cell_type": "markdown",
   "metadata": {},
   "source": [
    "Notice, again, that the data type of the thing we are looking at above is not the Python `list`: instead, it says **array**. We'll discuss that further later."
   ]
  },
  {
   "cell_type": "markdown",
   "metadata": {},
   "source": [
    "## Many kinds of `DataFrame` indexing"
   ]
  },
  {
   "cell_type": "code",
   "execution_count": null,
   "metadata": {},
   "outputs": [],
   "source": [
    "df.loc[3]"
   ]
  },
  {
   "cell_type": "code",
   "execution_count": null,
   "metadata": {},
   "outputs": [],
   "source": [
    "df.loc[3, 'weight']"
   ]
  },
  {
   "cell_type": "markdown",
   "metadata": {},
   "source": [
    "`iloc` stands for \"index location.\""
   ]
  },
  {
   "cell_type": "code",
   "execution_count": null,
   "metadata": {},
   "outputs": [],
   "source": [
    "df.iloc[3,2]"
   ]
  },
  {
   "cell_type": "markdown",
   "metadata": {},
   "source": [
    "If the numeric index doesn't mean anything to you and you'd like to index on one of the column values, you can do that:"
   ]
  },
  {
   "cell_type": "code",
   "execution_count": 4,
   "metadata": {},
   "outputs": [
    {
     "data": {
      "text/html": [
       "<div>\n",
       "<style scoped>\n",
       "    .dataframe tbody tr th:only-of-type {\n",
       "        vertical-align: middle;\n",
       "    }\n",
       "\n",
       "    .dataframe tbody tr th {\n",
       "        vertical-align: top;\n",
       "    }\n",
       "\n",
       "    .dataframe thead th {\n",
       "        text-align: right;\n",
       "    }\n",
       "</style>\n",
       "<table border=\"1\" class=\"dataframe\">\n",
       "  <thead>\n",
       "    <tr style=\"text-align: right;\">\n",
       "      <th></th>\n",
       "      <th>species</th>\n",
       "      <th>weight</th>\n",
       "      <th>Description</th>\n",
       "    </tr>\n",
       "    <tr>\n",
       "      <th>specimen_id</th>\n",
       "      <th></th>\n",
       "      <th></th>\n",
       "      <th></th>\n",
       "    </tr>\n",
       "  </thead>\n",
       "  <tbody>\n",
       "    <tr>\n",
       "      <th>7ss24g6t7f2dr4h32</th>\n",
       "      <td>oriole</td>\n",
       "      <td>4.23</td>\n",
       "      <td>Specimen 7ss24g6t7f2dr4h32 is a oriole and wei...</td>\n",
       "    </tr>\n",
       "    <tr>\n",
       "      <th>7dr4h32ss24g6t7f2</th>\n",
       "      <td>oriole</td>\n",
       "      <td>4.17</td>\n",
       "      <td>Specimen 7dr4h32ss24g6t7f2 is a oriole and wei...</td>\n",
       "    </tr>\n",
       "    <tr>\n",
       "      <th>g6t7f2dr4h327ss24</th>\n",
       "      <td>oriole</td>\n",
       "      <td>5.21</td>\n",
       "      <td>Specimen g6t7f2dr4h327ss24 is a oriole and wei...</td>\n",
       "    </tr>\n",
       "    <tr>\n",
       "      <th>t77ss24g6f2dr4h32</th>\n",
       "      <td>oriole</td>\n",
       "      <td>3.22</td>\n",
       "      <td>Specimen t77ss24g6f2dr4h32 is a oriole and wei...</td>\n",
       "    </tr>\n",
       "    <tr>\n",
       "      <th>327ss24g6t7f2dr4h</th>\n",
       "      <td>oriole</td>\n",
       "      <td>4.00</td>\n",
       "      <td>Specimen 327ss24g6t7f2dr4h is a oriole and wei...</td>\n",
       "    </tr>\n",
       "  </tbody>\n",
       "</table>\n",
       "</div>"
      ],
      "text/plain": [
       "                  species  weight  \\\n",
       "specimen_id                         \n",
       "7ss24g6t7f2dr4h32  oriole    4.23   \n",
       "7dr4h32ss24g6t7f2  oriole    4.17   \n",
       "g6t7f2dr4h327ss24  oriole    5.21   \n",
       "t77ss24g6f2dr4h32  oriole    3.22   \n",
       "327ss24g6t7f2dr4h  oriole    4.00   \n",
       "\n",
       "                                                         Description  \n",
       "specimen_id                                                           \n",
       "7ss24g6t7f2dr4h32  Specimen 7ss24g6t7f2dr4h32 is a oriole and wei...  \n",
       "7dr4h32ss24g6t7f2  Specimen 7dr4h32ss24g6t7f2 is a oriole and wei...  \n",
       "g6t7f2dr4h327ss24  Specimen g6t7f2dr4h327ss24 is a oriole and wei...  \n",
       "t77ss24g6f2dr4h32  Specimen t77ss24g6f2dr4h32 is a oriole and wei...  \n",
       "327ss24g6t7f2dr4h  Specimen 327ss24g6t7f2dr4h is a oriole and wei...  "
      ]
     },
     "execution_count": 4,
     "metadata": {},
     "output_type": "execute_result"
    }
   ],
   "source": [
    "df = df.set_index('specimen_id')\n",
    "df.head()"
   ]
  },
  {
   "cell_type": "code",
   "execution_count": 5,
   "metadata": {},
   "outputs": [
    {
     "data": {
      "text/plain": [
       "species                                                   oriole\n",
       "weight                                                      4.23\n",
       "Description    Specimen 7ss24g6t7f2dr4h32 is a oriole and wei...\n",
       "Name: 7ss24g6t7f2dr4h32, dtype: object"
      ]
     },
     "execution_count": 5,
     "metadata": {},
     "output_type": "execute_result"
    }
   ],
   "source": [
    "df.loc['7ss24g6t7f2dr4h32']"
   ]
  },
  {
   "cell_type": "markdown",
   "metadata": {},
   "source": [
    "You can even set a multi-index on multiple characteristics. This would be useful if, for example, a `specimen_id` might be duplicated among the specimens but never within a species."
   ]
  },
  {
   "cell_type": "code",
   "execution_count": 6,
   "metadata": {},
   "outputs": [],
   "source": [
    "df = df.reset_index() # resets the index to the default"
   ]
  },
  {
   "cell_type": "code",
   "execution_count": 7,
   "metadata": {},
   "outputs": [
    {
     "data": {
      "text/html": [
       "<div>\n",
       "<style scoped>\n",
       "    .dataframe tbody tr th:only-of-type {\n",
       "        vertical-align: middle;\n",
       "    }\n",
       "\n",
       "    .dataframe tbody tr th {\n",
       "        vertical-align: top;\n",
       "    }\n",
       "\n",
       "    .dataframe thead th {\n",
       "        text-align: right;\n",
       "    }\n",
       "</style>\n",
       "<table border=\"1\" class=\"dataframe\">\n",
       "  <thead>\n",
       "    <tr style=\"text-align: right;\">\n",
       "      <th></th>\n",
       "      <th></th>\n",
       "      <th>weight</th>\n",
       "      <th>Description</th>\n",
       "    </tr>\n",
       "    <tr>\n",
       "      <th>specimen_id</th>\n",
       "      <th>species</th>\n",
       "      <th></th>\n",
       "      <th></th>\n",
       "    </tr>\n",
       "  </thead>\n",
       "  <tbody>\n",
       "    <tr>\n",
       "      <th>7ss24g6t7f2dr4h32</th>\n",
       "      <th>oriole</th>\n",
       "      <td>4.23</td>\n",
       "      <td>Specimen 7ss24g6t7f2dr4h32 is a oriole and wei...</td>\n",
       "    </tr>\n",
       "    <tr>\n",
       "      <th>7dr4h32ss24g6t7f2</th>\n",
       "      <th>oriole</th>\n",
       "      <td>4.17</td>\n",
       "      <td>Specimen 7dr4h32ss24g6t7f2 is a oriole and wei...</td>\n",
       "    </tr>\n",
       "    <tr>\n",
       "      <th>g6t7f2dr4h327ss24</th>\n",
       "      <th>oriole</th>\n",
       "      <td>5.21</td>\n",
       "      <td>Specimen g6t7f2dr4h327ss24 is a oriole and wei...</td>\n",
       "    </tr>\n",
       "    <tr>\n",
       "      <th>t77ss24g6f2dr4h32</th>\n",
       "      <th>oriole</th>\n",
       "      <td>3.22</td>\n",
       "      <td>Specimen t77ss24g6f2dr4h32 is a oriole and wei...</td>\n",
       "    </tr>\n",
       "    <tr>\n",
       "      <th>327ss24g6t7f2dr4h</th>\n",
       "      <th>oriole</th>\n",
       "      <td>4.00</td>\n",
       "      <td>Specimen 327ss24g6t7f2dr4h is a oriole and wei...</td>\n",
       "    </tr>\n",
       "  </tbody>\n",
       "</table>\n",
       "</div>"
      ],
      "text/plain": [
       "                           weight  \\\n",
       "specimen_id       species           \n",
       "7ss24g6t7f2dr4h32 oriole     4.23   \n",
       "7dr4h32ss24g6t7f2 oriole     4.17   \n",
       "g6t7f2dr4h327ss24 oriole     5.21   \n",
       "t77ss24g6f2dr4h32 oriole     3.22   \n",
       "327ss24g6t7f2dr4h oriole     4.00   \n",
       "\n",
       "                                                                 Description  \n",
       "specimen_id       species                                                     \n",
       "7ss24g6t7f2dr4h32 oriole   Specimen 7ss24g6t7f2dr4h32 is a oriole and wei...  \n",
       "7dr4h32ss24g6t7f2 oriole   Specimen 7dr4h32ss24g6t7f2 is a oriole and wei...  \n",
       "g6t7f2dr4h327ss24 oriole   Specimen g6t7f2dr4h327ss24 is a oriole and wei...  \n",
       "t77ss24g6f2dr4h32 oriole   Specimen t77ss24g6f2dr4h32 is a oriole and wei...  \n",
       "327ss24g6t7f2dr4h oriole   Specimen 327ss24g6t7f2dr4h is a oriole and wei...  "
      ]
     },
     "execution_count": 7,
     "metadata": {},
     "output_type": "execute_result"
    }
   ],
   "source": [
    "df = df.set_index(['specimen_id', 'species'])\n",
    "df.head()"
   ]
  },
  {
   "cell_type": "code",
   "execution_count": 8,
   "metadata": {},
   "outputs": [
    {
     "data": {
      "text/plain": [
       "'Specimen g6t7f2dr4h327ss24 is a oriole and weighs 5.21 ounces.'"
      ]
     },
     "execution_count": 8,
     "metadata": {},
     "output_type": "execute_result"
    }
   ],
   "source": [
    "df.loc[('g6t7f2dr4h327ss24', 'oriole'), 'Description']"
   ]
  },
  {
   "cell_type": "markdown",
   "metadata": {},
   "source": [
    "Note that after resetting the index, numeric index location still works. Here we are getting a slice of the dataframe representing the third through the fifth row and the first column. (the indices are also presented here, which is why you see `specimen_id` and `species` in the output.)"
   ]
  },
  {
   "cell_type": "code",
   "execution_count": 12,
   "metadata": {},
   "outputs": [
    {
     "data": {
      "text/plain": [
       "specimen_id        species\n",
       "g6t7f2dr4h327ss24  oriole     5.21\n",
       "t77ss24g6f2dr4h32  oriole     3.22\n",
       "327ss24g6t7f2dr4h  oriole     4.00\n",
       "Name: weight, dtype: float64"
      ]
     },
     "execution_count": 12,
     "metadata": {},
     "output_type": "execute_result"
    }
   ],
   "source": [
    "df.iloc[2:5, 0]"
   ]
  },
  {
   "cell_type": "code",
   "execution_count": 13,
   "metadata": {},
   "outputs": [
    {
     "data": {
      "text/html": [
       "<div>\n",
       "<style scoped>\n",
       "    .dataframe tbody tr th:only-of-type {\n",
       "        vertical-align: middle;\n",
       "    }\n",
       "\n",
       "    .dataframe tbody tr th {\n",
       "        vertical-align: top;\n",
       "    }\n",
       "\n",
       "    .dataframe thead th {\n",
       "        text-align: right;\n",
       "    }\n",
       "</style>\n",
       "<table border=\"1\" class=\"dataframe\">\n",
       "  <thead>\n",
       "    <tr style=\"text-align: right;\">\n",
       "      <th></th>\n",
       "      <th></th>\n",
       "      <th>weight</th>\n",
       "    </tr>\n",
       "    <tr>\n",
       "      <th>specimen_id</th>\n",
       "      <th>species</th>\n",
       "      <th></th>\n",
       "    </tr>\n",
       "  </thead>\n",
       "  <tbody>\n",
       "    <tr>\n",
       "      <th>g6t7f2dr4h327ss24</th>\n",
       "      <th>oriole</th>\n",
       "      <td>5.21</td>\n",
       "    </tr>\n",
       "    <tr>\n",
       "      <th>t77ss24g6f2dr4h32</th>\n",
       "      <th>oriole</th>\n",
       "      <td>3.22</td>\n",
       "    </tr>\n",
       "    <tr>\n",
       "      <th>327ss24g6t7f2dr4h</th>\n",
       "      <th>oriole</th>\n",
       "      <td>4.00</td>\n",
       "    </tr>\n",
       "  </tbody>\n",
       "</table>\n",
       "</div>"
      ],
      "text/plain": [
       "                           weight\n",
       "specimen_id       species        \n",
       "g6t7f2dr4h327ss24 oriole     5.21\n",
       "t77ss24g6f2dr4h32 oriole     3.22\n",
       "327ss24g6t7f2dr4h oriole     4.00"
      ]
     },
     "execution_count": 13,
     "metadata": {},
     "output_type": "execute_result"
    }
   ],
   "source": [
    "df.iloc[2:5, 0:1]"
   ]
  },
  {
   "cell_type": "markdown",
   "metadata": {},
   "source": [
    "### Masking\n",
    "\n",
    "You can filter for a window of your dataframe for which a certain condition is true:"
   ]
  },
  {
   "cell_type": "code",
   "execution_count": 14,
   "metadata": {},
   "outputs": [
    {
     "data": {
      "text/html": [
       "<div>\n",
       "<style scoped>\n",
       "    .dataframe tbody tr th:only-of-type {\n",
       "        vertical-align: middle;\n",
       "    }\n",
       "\n",
       "    .dataframe tbody tr th {\n",
       "        vertical-align: top;\n",
       "    }\n",
       "\n",
       "    .dataframe thead th {\n",
       "        text-align: right;\n",
       "    }\n",
       "</style>\n",
       "<table border=\"1\" class=\"dataframe\">\n",
       "  <thead>\n",
       "    <tr style=\"text-align: right;\">\n",
       "      <th></th>\n",
       "      <th></th>\n",
       "      <th>weight</th>\n",
       "      <th>Description</th>\n",
       "    </tr>\n",
       "    <tr>\n",
       "      <th>specimen_id</th>\n",
       "      <th>species</th>\n",
       "      <th></th>\n",
       "      <th></th>\n",
       "    </tr>\n",
       "  </thead>\n",
       "  <tbody>\n",
       "    <tr>\n",
       "      <th>t77ss24g6f2dr4h32</th>\n",
       "      <th>oriole</th>\n",
       "      <td>3.22</td>\n",
       "      <td>Specimen t77ss24g6f2dr4h32 is a oriole and wei...</td>\n",
       "    </tr>\n",
       "    <tr>\n",
       "      <th>6t7ss24g5f2dr4h32</th>\n",
       "      <th>oriole</th>\n",
       "      <td>3.98</td>\n",
       "      <td>Specimen 6t7ss24g5f2dr4h32 is a oriole and wei...</td>\n",
       "    </tr>\n",
       "    <tr>\n",
       "      <th>1sn32ufks82d92b39</th>\n",
       "      <th>titmouse</th>\n",
       "      <td>2.13</td>\n",
       "      <td>Specimen 1sn32ufks82d92b39 is a titmouse and w...</td>\n",
       "    </tr>\n",
       "    <tr>\n",
       "      <th>8sh2bdn4s24g6t7f2</th>\n",
       "      <th>titmouse</th>\n",
       "      <td>3.10</td>\n",
       "      <td>Specimen 8sh2bdn4s24g6t7f2 is a titmouse and w...</td>\n",
       "    </tr>\n",
       "    <tr>\n",
       "      <th>h38snsdr4h327ss24</th>\n",
       "      <th>titmouse</th>\n",
       "      <td>2.21</td>\n",
       "      <td>Specimen h38snsdr4h327ss24 is a titmouse and w...</td>\n",
       "    </tr>\n",
       "    <tr>\n",
       "      <th>dr4h3224g6tg5f2dr</th>\n",
       "      <th>titmouse</th>\n",
       "      <td>2.22</td>\n",
       "      <td>Specimen dr4h3224g6tg5f2dr is a titmouse and w...</td>\n",
       "    </tr>\n",
       "    <tr>\n",
       "      <th>32bf72f9m27f2dr4h</th>\n",
       "      <th>titmouse</th>\n",
       "      <td>3.00</td>\n",
       "      <td>Specimen 32bf72f9m27f2dr4h is a titmouse and w...</td>\n",
       "    </tr>\n",
       "    <tr>\n",
       "      <th>2b47f29fn34h47dn3</th>\n",
       "      <th>titmouse</th>\n",
       "      <td>2.98</td>\n",
       "      <td>Specimen 2b47f29fn34h47dn3 is a titmouse and w...</td>\n",
       "    </tr>\n",
       "    <tr>\n",
       "      <th>t77ss24g6f27s41md</th>\n",
       "      <th>titmouse</th>\n",
       "      <td>3.00</td>\n",
       "      <td>Specimen t77ss24g6f27s41md is a titmouse and w...</td>\n",
       "    </tr>\n",
       "  </tbody>\n",
       "</table>\n",
       "</div>"
      ],
      "text/plain": [
       "                            weight  \\\n",
       "specimen_id       species            \n",
       "t77ss24g6f2dr4h32 oriole      3.22   \n",
       "6t7ss24g5f2dr4h32 oriole      3.98   \n",
       "1sn32ufks82d92b39 titmouse    2.13   \n",
       "8sh2bdn4s24g6t7f2 titmouse    3.10   \n",
       "h38snsdr4h327ss24 titmouse    2.21   \n",
       "dr4h3224g6tg5f2dr titmouse    2.22   \n",
       "32bf72f9m27f2dr4h titmouse    3.00   \n",
       "2b47f29fn34h47dn3 titmouse    2.98   \n",
       "t77ss24g6f27s41md titmouse    3.00   \n",
       "\n",
       "                                                                  Description  \n",
       "specimen_id       species                                                      \n",
       "t77ss24g6f2dr4h32 oriole    Specimen t77ss24g6f2dr4h32 is a oriole and wei...  \n",
       "6t7ss24g5f2dr4h32 oriole    Specimen 6t7ss24g5f2dr4h32 is a oriole and wei...  \n",
       "1sn32ufks82d92b39 titmouse  Specimen 1sn32ufks82d92b39 is a titmouse and w...  \n",
       "8sh2bdn4s24g6t7f2 titmouse  Specimen 8sh2bdn4s24g6t7f2 is a titmouse and w...  \n",
       "h38snsdr4h327ss24 titmouse  Specimen h38snsdr4h327ss24 is a titmouse and w...  \n",
       "dr4h3224g6tg5f2dr titmouse  Specimen dr4h3224g6tg5f2dr is a titmouse and w...  \n",
       "32bf72f9m27f2dr4h titmouse  Specimen 32bf72f9m27f2dr4h is a titmouse and w...  \n",
       "2b47f29fn34h47dn3 titmouse  Specimen 2b47f29fn34h47dn3 is a titmouse and w...  \n",
       "t77ss24g6f27s41md titmouse  Specimen t77ss24g6f27s41md is a titmouse and w...  "
      ]
     },
     "execution_count": 14,
     "metadata": {},
     "output_type": "execute_result"
    }
   ],
   "source": [
    "# Masking\n",
    "df[df['weight'] < 4.0]"
   ]
  },
  {
   "cell_type": "code",
   "execution_count": 15,
   "metadata": {},
   "outputs": [
    {
     "data": {
      "text/html": [
       "<div>\n",
       "<style scoped>\n",
       "    .dataframe tbody tr th:only-of-type {\n",
       "        vertical-align: middle;\n",
       "    }\n",
       "\n",
       "    .dataframe tbody tr th {\n",
       "        vertical-align: top;\n",
       "    }\n",
       "\n",
       "    .dataframe thead th {\n",
       "        text-align: right;\n",
       "    }\n",
       "</style>\n",
       "<table border=\"1\" class=\"dataframe\">\n",
       "  <thead>\n",
       "    <tr style=\"text-align: right;\">\n",
       "      <th></th>\n",
       "      <th></th>\n",
       "      <th>weight</th>\n",
       "      <th>Description</th>\n",
       "    </tr>\n",
       "    <tr>\n",
       "      <th>specimen_id</th>\n",
       "      <th>species</th>\n",
       "      <th></th>\n",
       "      <th></th>\n",
       "    </tr>\n",
       "  </thead>\n",
       "  <tbody>\n",
       "    <tr>\n",
       "      <th>1sn32ufks82d92b39</th>\n",
       "      <th>titmouse</th>\n",
       "      <td>2.13</td>\n",
       "      <td>Specimen 1sn32ufks82d92b39 is a titmouse and w...</td>\n",
       "    </tr>\n",
       "    <tr>\n",
       "      <th>h38snsdr4h327ss24</th>\n",
       "      <th>titmouse</th>\n",
       "      <td>2.21</td>\n",
       "      <td>Specimen h38snsdr4h327ss24 is a titmouse and w...</td>\n",
       "    </tr>\n",
       "    <tr>\n",
       "      <th>dr4h3224g6tg5f2dr</th>\n",
       "      <th>titmouse</th>\n",
       "      <td>2.22</td>\n",
       "      <td>Specimen dr4h3224g6tg5f2dr is a titmouse and w...</td>\n",
       "    </tr>\n",
       "    <tr>\n",
       "      <th>2b47f29fn34h47dn3</th>\n",
       "      <th>titmouse</th>\n",
       "      <td>2.98</td>\n",
       "      <td>Specimen 2b47f29fn34h47dn3 is a titmouse and w...</td>\n",
       "    </tr>\n",
       "  </tbody>\n",
       "</table>\n",
       "</div>"
      ],
      "text/plain": [
       "                            weight  \\\n",
       "specimen_id       species            \n",
       "1sn32ufks82d92b39 titmouse    2.13   \n",
       "h38snsdr4h327ss24 titmouse    2.21   \n",
       "dr4h3224g6tg5f2dr titmouse    2.22   \n",
       "2b47f29fn34h47dn3 titmouse    2.98   \n",
       "\n",
       "                                                                  Description  \n",
       "specimen_id       species                                                      \n",
       "1sn32ufks82d92b39 titmouse  Specimen 1sn32ufks82d92b39 is a titmouse and w...  \n",
       "h38snsdr4h327ss24 titmouse  Specimen h38snsdr4h327ss24 is a titmouse and w...  \n",
       "dr4h3224g6tg5f2dr titmouse  Specimen dr4h3224g6tg5f2dr is a titmouse and w...  \n",
       "2b47f29fn34h47dn3 titmouse  Specimen 2b47f29fn34h47dn3 is a titmouse and w...  "
      ]
     },
     "execution_count": 15,
     "metadata": {},
     "output_type": "execute_result"
    }
   ],
   "source": [
    "df[(df['weight'] < 3.0) & (df['weight'] > 2.0)]"
   ]
  },
  {
   "cell_type": "markdown",
   "metadata": {},
   "source": [
    "### `DataFrame` Operations\n",
    "\n",
    "Pandas `DataFrame` objects allow element-wise operations.\n",
    "\n",
    "You can even use ufuncs to *preserve index and column labels* in the output."
   ]
  },
  {
   "cell_type": "code",
   "execution_count": 16,
   "metadata": {},
   "outputs": [
    {
     "data": {
      "text/html": [
       "<div>\n",
       "<style scoped>\n",
       "    .dataframe tbody tr th:only-of-type {\n",
       "        vertical-align: middle;\n",
       "    }\n",
       "\n",
       "    .dataframe tbody tr th {\n",
       "        vertical-align: top;\n",
       "    }\n",
       "\n",
       "    .dataframe thead th {\n",
       "        text-align: right;\n",
       "    }\n",
       "</style>\n",
       "<table border=\"1\" class=\"dataframe\">\n",
       "  <thead>\n",
       "    <tr style=\"text-align: right;\">\n",
       "      <th></th>\n",
       "      <th>A</th>\n",
       "      <th>B</th>\n",
       "      <th>C</th>\n",
       "      <th>D</th>\n",
       "    </tr>\n",
       "  </thead>\n",
       "  <tbody>\n",
       "    <tr>\n",
       "      <th>0</th>\n",
       "      <td>2</td>\n",
       "      <td>7</td>\n",
       "      <td>3</td>\n",
       "      <td>9</td>\n",
       "    </tr>\n",
       "    <tr>\n",
       "      <th>1</th>\n",
       "      <td>7</td>\n",
       "      <td>8</td>\n",
       "      <td>5</td>\n",
       "      <td>0</td>\n",
       "    </tr>\n",
       "    <tr>\n",
       "      <th>2</th>\n",
       "      <td>2</td>\n",
       "      <td>0</td>\n",
       "      <td>0</td>\n",
       "      <td>8</td>\n",
       "    </tr>\n",
       "  </tbody>\n",
       "</table>\n",
       "</div>"
      ],
      "text/plain": [
       "   A  B  C  D\n",
       "0  2  7  3  9\n",
       "1  7  8  5  0\n",
       "2  2  0  0  8"
      ]
     },
     "execution_count": 16,
     "metadata": {},
     "output_type": "execute_result"
    }
   ],
   "source": [
    "import numpy as np \n",
    "df = pd.DataFrame(np.random.randint(0, 10, (3,4)), columns=['A','B','C','D'])\n",
    "df"
   ]
  },
  {
   "cell_type": "code",
   "execution_count": 17,
   "metadata": {},
   "outputs": [
    {
     "data": {
      "text/html": [
       "<div>\n",
       "<style scoped>\n",
       "    .dataframe tbody tr th:only-of-type {\n",
       "        vertical-align: middle;\n",
       "    }\n",
       "\n",
       "    .dataframe tbody tr th {\n",
       "        vertical-align: top;\n",
       "    }\n",
       "\n",
       "    .dataframe thead th {\n",
       "        text-align: right;\n",
       "    }\n",
       "</style>\n",
       "<table border=\"1\" class=\"dataframe\">\n",
       "  <thead>\n",
       "    <tr style=\"text-align: right;\">\n",
       "      <th></th>\n",
       "      <th>A</th>\n",
       "      <th>B</th>\n",
       "      <th>C</th>\n",
       "      <th>D</th>\n",
       "    </tr>\n",
       "  </thead>\n",
       "  <tbody>\n",
       "    <tr>\n",
       "      <th>0</th>\n",
       "      <td>1.000000</td>\n",
       "      <td>-7.071068e-01</td>\n",
       "      <td>0.707107</td>\n",
       "      <td>7.071068e-01</td>\n",
       "    </tr>\n",
       "    <tr>\n",
       "      <th>1</th>\n",
       "      <td>-0.707107</td>\n",
       "      <td>-2.449294e-16</td>\n",
       "      <td>-0.707107</td>\n",
       "      <td>0.000000e+00</td>\n",
       "    </tr>\n",
       "    <tr>\n",
       "      <th>2</th>\n",
       "      <td>1.000000</td>\n",
       "      <td>0.000000e+00</td>\n",
       "      <td>0.000000</td>\n",
       "      <td>-2.449294e-16</td>\n",
       "    </tr>\n",
       "  </tbody>\n",
       "</table>\n",
       "</div>"
      ],
      "text/plain": [
       "          A             B         C             D\n",
       "0  1.000000 -7.071068e-01  0.707107  7.071068e-01\n",
       "1 -0.707107 -2.449294e-16 -0.707107  0.000000e+00\n",
       "2  1.000000  0.000000e+00  0.000000 -2.449294e-16"
      ]
     },
     "execution_count": 17,
     "metadata": {},
     "output_type": "execute_result"
    }
   ],
   "source": [
    "np.sin(df * np.pi / 4)"
   ]
  },
  {
   "cell_type": "markdown",
   "metadata": {},
   "source": [
    "### Creating DataFrames\n",
    "\n",
    "`DataFrames` provide several operations that return an instance of a `DataFrame` from vaaious file formats.\n",
    "\n",
    "```\n",
    "df_from_csv = pd.read_csv('/path/to/file.csv')\n",
    "df_from_web_csv = pd.read_csv('https://data.cityofchicago.org/api/views/x8fc-8rcq/rows.csv?accessType=DOWNLOAD')\n",
    "df_from_json_csv = pd.read_json('/path/to/file.json')\n",
    "df_from_web_json_csv = pd.read_json('https://website.com/resource')\n",
    "df_from_excel = pd.read_excel('path/to/file.xlsx')\n",
    "```\n",
    "\n",
    "You can also, if you like, make one from a dictionary:"
   ]
  },
  {
   "cell_type": "code",
   "execution_count": 18,
   "metadata": {},
   "outputs": [
    {
     "data": {
      "text/html": [
       "<div>\n",
       "<style scoped>\n",
       "    .dataframe tbody tr th:only-of-type {\n",
       "        vertical-align: middle;\n",
       "    }\n",
       "\n",
       "    .dataframe tbody tr th {\n",
       "        vertical-align: top;\n",
       "    }\n",
       "\n",
       "    .dataframe thead th {\n",
       "        text-align: right;\n",
       "    }\n",
       "</style>\n",
       "<table border=\"1\" class=\"dataframe\">\n",
       "  <thead>\n",
       "    <tr style=\"text-align: right;\">\n",
       "      <th></th>\n",
       "      <th>name</th>\n",
       "      <th>habitable_zone</th>\n",
       "      <th>gaseous</th>\n",
       "    </tr>\n",
       "  </thead>\n",
       "  <tbody>\n",
       "    <tr>\n",
       "      <th>0</th>\n",
       "      <td>Jupiter</td>\n",
       "      <td>False</td>\n",
       "      <td>True</td>\n",
       "    </tr>\n",
       "    <tr>\n",
       "      <th>1</th>\n",
       "      <td>Saturn</td>\n",
       "      <td>False</td>\n",
       "      <td>True</td>\n",
       "    </tr>\n",
       "    <tr>\n",
       "      <th>2</th>\n",
       "      <td>Neptune</td>\n",
       "      <td>False</td>\n",
       "      <td>True</td>\n",
       "    </tr>\n",
       "    <tr>\n",
       "      <th>3</th>\n",
       "      <td>Earth</td>\n",
       "      <td>False</td>\n",
       "      <td>False</td>\n",
       "    </tr>\n",
       "  </tbody>\n",
       "</table>\n",
       "</div>"
      ],
      "text/plain": [
       "      name  habitable_zone  gaseous\n",
       "0  Jupiter           False     True\n",
       "1   Saturn           False     True\n",
       "2  Neptune           False     True\n",
       "3    Earth           False    False"
      ]
     },
     "execution_count": 18,
     "metadata": {},
     "output_type": "execute_result"
    }
   ],
   "source": [
    "pd.DataFrame({\n",
    "                  \"name\" : [\"Jupiter\", \"Saturn\", \"Neptune\", \"Earth\"],\n",
    "                  \"habitable_zone\": [False, False, False, False],\n",
    "                  \"gaseous\": [True, True, True, False]\n",
    "                  \n",
    "              })"
   ]
  },
  {
   "cell_type": "markdown",
   "metadata": {},
   "source": [
    "## Analyzing Data with DataFrames\n",
    "\n",
    "I could stand here and walk you through an entire catalog of the methods available on a `DataFrame`. I won't, though: that's not how you would learn to use a new library or tool in a professional or research context. Rather, you would: \n",
    "\n",
    "1. start with a **use case**: a specific problem to solve.\n",
    "2. look for ways to solve your problem by:\n",
    "    - Asking Experts\n",
    "    - Searching the Internet\n",
    "    - Checking the Indices of good books\n",
    "    \n",
    "As you gain experience in this industry, you are going to learn how to do more things. But even more importantly, you will improve your efficiency at _learning_ new things by:\n",
    "- Meeting experts, who you can text/email withe questions\n",
    "- Learning better strategies for searching the internet\n",
    "- Building a collection of authors and books that you trust\n",
    "- Developing intuition for how things work that sometimes helps you guess what's going on.\n",
    "\n",
    "For example, from looking at usage examples for `pandas` like the one below, you can get an idea of what the library is good for and what other methods it probably has."
   ]
  },
  {
   "cell_type": "code",
   "execution_count": 19,
   "metadata": {},
   "outputs": [
    {
     "data": {
      "text/html": [
       "<div>\n",
       "<style scoped>\n",
       "    .dataframe tbody tr th:only-of-type {\n",
       "        vertical-align: middle;\n",
       "    }\n",
       "\n",
       "    .dataframe tbody tr th {\n",
       "        vertical-align: top;\n",
       "    }\n",
       "\n",
       "    .dataframe thead th {\n",
       "        text-align: right;\n",
       "    }\n",
       "</style>\n",
       "<table border=\"1\" class=\"dataframe\">\n",
       "  <thead>\n",
       "    <tr style=\"text-align: right;\">\n",
       "      <th></th>\n",
       "      <th>activity_year</th>\n",
       "      <th>Target Response Days</th>\n",
       "      <th>average_days_to_complete_activity</th>\n",
       "      <th>average_schedule_slippage</th>\n",
       "    </tr>\n",
       "  </thead>\n",
       "  <tbody>\n",
       "    <tr>\n",
       "      <th>6</th>\n",
       "      <td>Alley Grading-Unimproved (2017)</td>\n",
       "      <td>180.0</td>\n",
       "      <td>649.582000</td>\n",
       "      <td>469.582000</td>\n",
       "    </tr>\n",
       "    <tr>\n",
       "      <th>7</th>\n",
       "      <td>Alley Grading-Unimproved (2018)</td>\n",
       "      <td>180.0</td>\n",
       "      <td>293.166842</td>\n",
       "      <td>113.166842</td>\n",
       "    </tr>\n",
       "    <tr>\n",
       "      <th>5</th>\n",
       "      <td>Alley Grading-Unimproved (2016)</td>\n",
       "      <td>180.0</td>\n",
       "      <td>272.694375</td>\n",
       "      <td>92.694375</td>\n",
       "    </tr>\n",
       "    <tr>\n",
       "      <th>2</th>\n",
       "      <td>Alley Grading-Unimproved (2013)</td>\n",
       "      <td>180.0</td>\n",
       "      <td>233.506957</td>\n",
       "      <td>53.506957</td>\n",
       "    </tr>\n",
       "    <tr>\n",
       "      <th>3</th>\n",
       "      <td>Alley Grading-Unimproved (2014)</td>\n",
       "      <td>180.0</td>\n",
       "      <td>222.213750</td>\n",
       "      <td>42.213750</td>\n",
       "    </tr>\n",
       "    <tr>\n",
       "      <th>1</th>\n",
       "      <td>Alley Grading-Unimproved (2012)</td>\n",
       "      <td>180.0</td>\n",
       "      <td>203.708571</td>\n",
       "      <td>23.708571</td>\n",
       "    </tr>\n",
       "    <tr>\n",
       "      <th>4</th>\n",
       "      <td>Alley Grading-Unimproved (2015)</td>\n",
       "      <td>180.0</td>\n",
       "      <td>151.196667</td>\n",
       "      <td>-28.803333</td>\n",
       "    </tr>\n",
       "    <tr>\n",
       "      <th>0</th>\n",
       "      <td>Alley Grading-Unimproved (2011)</td>\n",
       "      <td>180.0</td>\n",
       "      <td>37.270000</td>\n",
       "      <td>-142.730000</td>\n",
       "    </tr>\n",
       "  </tbody>\n",
       "</table>\n",
       "</div>"
      ],
      "text/plain": [
       "                     activity_year  Target Response Days  \\\n",
       "6  Alley Grading-Unimproved (2017)                 180.0   \n",
       "7  Alley Grading-Unimproved (2018)                 180.0   \n",
       "5  Alley Grading-Unimproved (2016)                 180.0   \n",
       "2  Alley Grading-Unimproved (2013)                 180.0   \n",
       "3  Alley Grading-Unimproved (2014)                 180.0   \n",
       "1  Alley Grading-Unimproved (2012)                 180.0   \n",
       "4  Alley Grading-Unimproved (2015)                 180.0   \n",
       "0  Alley Grading-Unimproved (2011)                 180.0   \n",
       "\n",
       "   average_days_to_complete_activity  average_schedule_slippage  \n",
       "6                         649.582000                 469.582000  \n",
       "7                         293.166842                 113.166842  \n",
       "5                         272.694375                  92.694375  \n",
       "2                         233.506957                  53.506957  \n",
       "3                         222.213750                  42.213750  \n",
       "1                         203.708571                  23.708571  \n",
       "4                         151.196667                 -28.803333  \n",
       "0                          37.270000                -142.730000  "
      ]
     },
     "execution_count": 19,
     "metadata": {},
     "output_type": "execute_result"
    }
   ],
   "source": [
    "aggregation = pd.read_csv('metrics.csv') \\\n",
    "        .assign(year=lambda row: row[\"Period Start\"].apply(lambda x: x[-4:])) \\\n",
    "        .assign(activity_year=lambda row: row[\"Activity\"] + \" (\" + row[\"year\"] + \")\") \\\n",
    "        .assign(average_days_to_complete_activity=lambda row: row[\"Average Days to Complete Activity\"].apply(lambda x: float(x))) \\\n",
    "        .where(lambda x: x['Activity'] == 'Alley Grading-Unimproved') \\\n",
    "        .groupby('activity_year') \\\n",
    "        .agg({\n",
    "             'Target Response Days': 'max', \n",
    "             'average_days_to_complete_activity': 'mean'\n",
    "            }) \\\n",
    "        .reset_index() \\\n",
    "        .assign(average_schedule_slippage=lambda row: row.average_days_to_complete_activity - row['Target Response Days']) \\\n",
    "        .sort_values('average_schedule_slippage', ascending=False)\n",
    "\n",
    "aggregation\n"
   ]
  },
  {
   "cell_type": "markdown",
   "metadata": {},
   "source": [
    "In this block of code, we use `pandas` to take some data in a csv and answer the question \"Out of all the years that Chicago has recorded the completion of Alley Grading-Unimproved projects, in which of those years has the schedule for the projects slipped the most, on average, compared to its target?\n",
    "\n",
    "**In the process we:**\n",
    "- Make a tabular representation of a csv\n",
    "- Assign new columns to it to represent the year\n",
    "- Filter it for the activities we want to look at\n",
    "- Group it by activity year\n",
    "- Take some aggregate statistics\n",
    "- Use those aggregate statistics to calculate schedule slippage\n",
    "- Put the activity years in descending order from most to least schedule slippage."
   ]
  },
  {
   "cell_type": "markdown",
   "metadata": {},
   "source": [
    "### Sidenote: The Aggregation Functions\n",
    "\n",
    "> Here are the 13 aggregating functions available in Pandas and quick summary of what it does.\n",
    "\n",
    "- mean(): Compute mean of groups\n",
    "- sum(): Compute sum of group values\n",
    "- size(): Compute group sizes\n",
    "- count(): Compute count of group\n",
    "- std(): Standard deviation of groups\n",
    "- var(): Compute variance of groups\n",
    "- sem(): Standard error of the mean of groups\n",
    "- describe(): Generates descriptive statistics\n",
    "- first(): Compute first of group values\n",
    "- last(): Compute last of group values\n",
    "- nth() : Take nth value, or a subset if n is a list\n",
    "- min(): Compute min of group values\n",
    "- max(): Compute max of group values\n",
    "    \n",
    "Source: [Python and R Tips](https://cmdlinetips.com/2019/10/pandas-groupby-13-functions-to-aggregate/)\n"
   ]
  }
 ],
 "metadata": {
  "kernelspec": {
   "display_name": "Python 3",
   "language": "python",
   "name": "python3"
  },
  "language_info": {
   "codemirror_mode": {
    "name": "ipython",
    "version": 3
   },
   "file_extension": ".py",
   "mimetype": "text/x-python",
   "name": "python",
   "nbconvert_exporter": "python",
   "pygments_lexer": "ipython3",
   "version": "3.9.0"
  }
 },
 "nbformat": 4,
 "nbformat_minor": 4
}
