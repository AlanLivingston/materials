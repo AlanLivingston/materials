{
 "cells": [
  {
   "cell_type": "markdown",
   "metadata": {},
   "source": [
    "## Iteration Protocol \n",
    "\n",
    "We talked about the idea of an iterable object, but haven't gone into much detail about it. *It is time.* \n",
    "\n",
    "An object is an **iterable object** if it supports the **iteration protocol**, which is an interface providing method calls to move through a collection of objects. In Python, that means the object implements two special methods: [`__iter__`](https://docs.python.org/3/reference/datamodel.html#object.__iter__) and [`__next__`](https://docs.python.org/3/library/stdtypes.html#iterator.__next__). \n",
    "\n",
    "Some examples of iterables we have seen before:\n"
   ]
  },
  {
   "cell_type": "code",
   "execution_count": 1,
   "metadata": {},
   "outputs": [
    {
     "name": "stdout",
     "output_type": "stream",
     "text": [
      "1\n",
      "2\n",
      "3\n",
      "4\n",
      "5\n"
     ]
    }
   ],
   "source": [
    "# List (iterable object)\n",
    "for x in [1,2,3,4,5]:\n",
    "    print(x)"
   ]
  },
  {
   "cell_type": "code",
   "execution_count": 2,
   "metadata": {},
   "outputs": [
    {
     "name": "stdout",
     "output_type": "stream",
     "text": [
      "a\n",
      "b\n",
      "c\n"
     ]
    }
   ],
   "source": [
    "# Dictionary Keys\n",
    "for key in {'a':1, 'b':2, 'c':3}:\n",
    "    print(key)"
   ]
  },
  {
   "cell_type": "code",
   "execution_count": 4,
   "metadata": {},
   "outputs": [
    {
     "name": "stdout",
     "output_type": "stream",
     "text": [
      "a 1\n",
      "b 2\n",
      "c 3\n"
     ]
    }
   ],
   "source": [
    "#Dictionary Values\n",
    "for key, val in {'a':1, 'b':2, 'c':3}.items():\n",
    "    print(key, val)"
   ]
  },
  {
   "cell_type": "code",
   "execution_count": 6,
   "metadata": {},
   "outputs": [
    {
     "name": "stdout",
     "output_type": "stream",
     "text": [
      "H\n",
      "e\n",
      "l\n",
      "l\n",
      "o\n"
     ]
    }
   ],
   "source": [
    "# String (iterable object)\n",
    "for x in \"Hello\":\n",
    "    print(x)"
   ]
  },
  {
   "cell_type": "markdown",
   "metadata": {},
   "source": [
    "The iteration protocol contains two main components: \n",
    "\n",
    " - An iterable object is passed to a *iteration context* (e.g., for-loop, comprehension, map, etc). The context \n",
    "    calls the [``iter()``](https://docs.python.org/3/library/functions.html#iter) function, which returns the itertable object's *iterator*.\n",
    "    \n",
    " - An *iterator object* returns the values defined in the iterable object. The iteration context will \n",
    "    call the  [``next()``](https://docs.python.org/3/library/functions.html#next) method of the iterator to ``yield`` values. \n",
    "    \n",
    " - The iterator raises the ``StopIteration`` exception when there are no more values to produce. "
   ]
  },
  {
   "cell_type": "markdown",
   "metadata": {},
   "source": [
    "#### Iteration Protocol Illustration \n",
    "![alt text](../images/iterator_protocol.png \"Learning Python 2013\") -- <cite>Learning Python 2013</cite>\n",
    "\n",
    "1.The iteration context calls ``iter()`` to retrieve the iterator for the iterable object.  \n",
    "\n",
    "2. The context then calls ``next()`` on the iterator to retrieve the values. \n",
    "    "
   ]
  },
  {
   "cell_type": "markdown",
   "metadata": {},
   "source": [
    "## Iteration Protocol: Manual Iteration \n",
    "\n",
    "We can iterate manually through a list by creating a iterator from the list and using the ``next`` function to retrieve the values: "
   ]
  },
  {
   "cell_type": "code",
   "execution_count": 6,
   "metadata": {},
   "outputs": [],
   "source": [
    "# Create an iterable object\n",
    "iter_obj = [1, 2, 3]"
   ]
  },
  {
   "cell_type": "code",
   "execution_count": 7,
   "metadata": {},
   "outputs": [
    {
     "data": {
      "text/plain": [
       "<list_iterator at 0x1091038e0>"
      ]
     },
     "execution_count": 7,
     "metadata": {},
     "output_type": "execute_result"
    }
   ],
   "source": [
    "# Obtain an iterator object \n",
    "iterator = iter(iter_obj)\n",
    "iterator "
   ]
  },
  {
   "cell_type": "code",
   "execution_count": 8,
   "metadata": {},
   "outputs": [
    {
     "data": {
      "text/plain": [
       "1"
      ]
     },
     "execution_count": 8,
     "metadata": {},
     "output_type": "execute_result"
    }
   ],
   "source": [
    "# Use next() to retrieve the values \n",
    "next(iterator)              "
   ]
  },
  {
   "cell_type": "code",
   "execution_count": 9,
   "metadata": {},
   "outputs": [
    {
     "data": {
      "text/plain": [
       "2"
      ]
     },
     "execution_count": 9,
     "metadata": {},
     "output_type": "execute_result"
    }
   ],
   "source": [
    "# Use next() to retrieve the values \n",
    "next(iterator)  "
   ]
  },
  {
   "cell_type": "code",
   "execution_count": 10,
   "metadata": {},
   "outputs": [
    {
     "data": {
      "text/plain": [
       "3"
      ]
     },
     "execution_count": 10,
     "metadata": {},
     "output_type": "execute_result"
    }
   ],
   "source": [
    "# Use next() to retrieve the values \n",
    "next(iterator)  "
   ]
  },
  {
   "cell_type": "code",
   "execution_count": 11,
   "metadata": {
    "scrolled": true
   },
   "outputs": [
    {
     "ename": "StopIteration",
     "evalue": "",
     "output_type": "error",
     "traceback": [
      "\u001b[0;31m---------------------------------------------------------------------------\u001b[0m",
      "\u001b[0;31mStopIteration\u001b[0m                             Traceback (most recent call last)",
      "\u001b[0;32m<ipython-input-11-9879057d84fd>\u001b[0m in \u001b[0;36m<module>\u001b[0;34m\u001b[0m\n\u001b[1;32m      1\u001b[0m \u001b[0;31m# Raises a StopIteration when done\u001b[0m\u001b[0;34m\u001b[0m\u001b[0;34m\u001b[0m\u001b[0;34m\u001b[0m\u001b[0m\n\u001b[1;32m      2\u001b[0m \u001b[0;31m# 3 was the last object in the iterator.\u001b[0m\u001b[0;34m\u001b[0m\u001b[0;34m\u001b[0m\u001b[0;34m\u001b[0m\u001b[0m\n\u001b[0;32m----> 3\u001b[0;31m \u001b[0mnext\u001b[0m\u001b[0;34m(\u001b[0m\u001b[0miterator\u001b[0m\u001b[0;34m)\u001b[0m\u001b[0;34m\u001b[0m\u001b[0;34m\u001b[0m\u001b[0m\n\u001b[0m",
      "\u001b[0;31mStopIteration\u001b[0m: "
     ]
    }
   ],
   "source": [
    "# Raises a StopIteration when done \n",
    "# 3 was the last object in the iterator.     \n",
    "next(iterator)             "
   ]
  },
  {
   "cell_type": "markdown",
   "metadata": {},
   "source": [
    "## Generator Functions \n",
    "\n",
    "A ``generator`` function is a function that allows for state retention while producing values.\n",
    "\n",
    "- A generator function will [``yield``](https://docs.python.org/3/reference/simple_stmts.html#the-yield-statement) a value to the caller, and execution resumes from the statement immediately following the last yielded statement. \n",
    "- Between calls to the generator function, state is suspended. \n",
    "- Returning or exiting the function will raise the ``StopIteration`` exception to terminate generation of objects."
   ]
  },
  {
   "cell_type": "code",
   "execution_count": 13,
   "metadata": {},
   "outputs": [
    {
     "data": {
      "text/plain": [
       "<function __main__.evens_up_to(n)>"
      ]
     },
     "execution_count": 13,
     "metadata": {},
     "output_type": "execute_result"
    }
   ],
   "source": [
    "# This is a simple generator function that yields even numbers up \n",
    "# to a certain number (inclusive)\n",
    "def evens_up_to(n): \n",
    "    for i in range(2, n + 1):\n",
    "        if i % 2 == 0:\n",
    "            yield i # Each iterator stops and resumes at yield statement\n",
    "evens_up_to"
   ]
  },
  {
   "cell_type": "code",
   "execution_count": 14,
   "metadata": {},
   "outputs": [
    {
     "name": "stdout",
     "output_type": "stream",
     "text": [
      "Number=2\n",
      "Number=4\n",
      "Number=6\n"
     ]
    }
   ],
   "source": [
    "for even_num in evens_up_to(6):\n",
    "    print(f'Number={even_num}')"
   ]
  },
  {
   "cell_type": "code",
   "execution_count": 19,
   "metadata": {},
   "outputs": [
    {
     "data": {
      "text/plain": [
       "2"
      ]
     },
     "execution_count": 19,
     "metadata": {},
     "output_type": "execute_result"
    }
   ],
   "source": [
    "generator_obj = evens_up_to(6)\n",
    "generator_obj\n",
    "gen_iter = iter(generator_obj)\n",
    "next(gen_iter)"
   ]
  },
  {
   "cell_type": "code",
   "execution_count": 20,
   "metadata": {},
   "outputs": [],
   "source": [
    "# This is a generator function that yields a list of even \n",
    "# numbers one at a time up to a certain number(inclusive)\n",
    "def evens_up_to(n):\n",
    "    evens_list = [] \n",
    "    for i in range(2, n + 1):\n",
    "        if i % 2 == 0: \n",
    "            evens_list.append(i)\n",
    "            yield evens_list "
   ]
  },
  {
   "cell_type": "code",
   "execution_count": 21,
   "metadata": {},
   "outputs": [
    {
     "name": "stdout",
     "output_type": "stream",
     "text": [
      "[2]\n",
      "[2, 4]\n",
      "[2, 4, 6]\n"
     ]
    }
   ],
   "source": [
    "for evens_list in evens_up_to(6):\n",
    "    print(f'{evens_list}')"
   ]
  },
  {
   "cell_type": "markdown",
   "metadata": {},
   "source": [
    "The following is an example of a generator that does not terminate:\n",
    "   - Use the ``next(generator)`` function to yield a value "
   ]
  },
  {
   "cell_type": "code",
   "execution_count": 7,
   "metadata": {},
   "outputs": [],
   "source": [
    "def evens_up_to():\n",
    "    evens_list = [] \n",
    "    curr = 1\n",
    "    while True:\n",
    "        if curr % 2 == 0: \n",
    "            evens_list.append(curr)\n",
    "            yield evens_list \n",
    "        curr += 1"
   ]
  },
  {
   "cell_type": "code",
   "execution_count": 8,
   "metadata": {},
   "outputs": [
    {
     "data": {
      "text/plain": [
       "[2, 4, 6, 8]"
      ]
     },
     "execution_count": 8,
     "metadata": {},
     "output_type": "execute_result"
    }
   ],
   "source": [
    "even_gen = evens_up_to()\n",
    "#print(even_gen)\n",
    "(next(even_gen))\n",
    "(next(even_gen))\n",
    "(next(even_gen))\n",
    "(next(even_gen))#What does this print before you run it?"
   ]
  },
  {
   "cell_type": "code",
   "execution_count": 26,
   "metadata": {},
   "outputs": [
    {
     "name": "stdout",
     "output_type": "stream",
     "text": [
      "[2, 4, 6, 8, 10]\n",
      "[2, 4, 6, 8, 10, 12]\n"
     ]
    }
   ],
   "source": [
    "for i in range(2):\n",
    "    print(next(even_gen)) #What does this print? "
   ]
  },
  {
   "cell_type": "markdown",
   "metadata": {},
   "source": [
    "#### Why use Generators? \n",
    "\n",
    "Generators area beneficial in many ways:\n",
    "   - Avoids creating the entire collection up front like a list.\n",
    "   - Avoids using a large amount of memory since it only allocates memory when necessary. \n",
    "   - Avoids doing computationally intensive work until necessary.\n",
    "   - State retention can be used for successive object creation. "
   ]
  },
  {
   "cell_type": "code",
   "execution_count": null,
   "metadata": {},
   "outputs": [],
   "source": []
  }
 ],
 "metadata": {
  "kernelspec": {
   "display_name": "Python 3",
   "language": "python",
   "name": "python3"
  },
  "language_info": {
   "codemirror_mode": {
    "name": "ipython",
    "version": 3
   },
   "file_extension": ".py",
   "mimetype": "text/x-python",
   "name": "python",
   "nbconvert_exporter": "python",
   "pygments_lexer": "ipython3",
   "version": "3.6.8"
  }
 },
 "nbformat": 4,
 "nbformat_minor": 4
}
