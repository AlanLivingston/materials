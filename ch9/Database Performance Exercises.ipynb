{
 "cells": [
  {
   "cell_type": "code",
   "execution_count": 10,
   "metadata": {},
   "outputs": [
    {
     "name": "stdout",
     "output_type": "stream",
     "text": [
      "Operation took 0:00:02.666899 seconds\n"
     ]
    }
   ],
   "source": [
    "import random\n",
    "from datetime import datetime\n",
    "\n",
    "values = [\"apple\", \"banana\", \"carrot\", \"celery\", \"mirepoix\", \"clementine\"]\n",
    "db = {}\n",
    "\n",
    "start = datetime.now()\n",
    "for x in range(1000000):\n",
    "    db[hash(datetime.now())] = random.choices(values)[0]\n",
    "end = datetime.now()\n",
    "\n",
    "print(f\"Operation took {end - start} seconds\")"
   ]
  },
  {
   "cell_type": "code",
   "execution_count": 11,
   "metadata": {},
   "outputs": [
    {
     "data": {
      "text/plain": [
       "1000000"
      ]
     },
     "execution_count": 11,
     "metadata": {},
     "output_type": "execute_result"
    }
   ],
   "source": [
    "len(db.keys())"
   ]
  },
  {
   "cell_type": "code",
   "execution_count": 12,
   "metadata": {},
   "outputs": [
    {
     "name": "stdout",
     "output_type": "stream",
     "text": [
      "Operation took 0:00:00.179549 seconds\n"
     ]
    },
    {
     "data": {
      "text/plain": [
       "{'apple': 166831,\n",
       " 'banana': 166451,\n",
       " 'carrot': 166566,\n",
       " 'celery': 166383,\n",
       " 'mirepoix': 166725,\n",
       " 'clementine': 167044}"
      ]
     },
     "execution_count": 12,
     "metadata": {},
     "output_type": "execute_result"
    }
   ],
   "source": [
    "start = datetime.now()\n",
    "\n",
    "counts = dict.fromkeys(values, 0)\n",
    "\n",
    "for key, value in db.items():\n",
    "    counts[value] += 1\n",
    "    \n",
    "end = datetime.now()\n",
    "\n",
    "print(f\"Operation took {end - start} seconds\")\n",
    "counts"
   ]
  },
  {
   "cell_type": "code",
   "execution_count": 13,
   "metadata": {},
   "outputs": [
    {
     "name": "stdout",
     "output_type": "stream",
     "text": [
      "Operation took 0:00:02.826926 seconds\n"
     ]
    }
   ],
   "source": [
    "db = {}\n",
    "counts = dict.fromkeys(values, 0)\n",
    "\n",
    "start = datetime.now()\n",
    "for x in range(1000000):\n",
    "    value = random.choices(values)[0]\n",
    "    db[hash(datetime.now())] = value\n",
    "    counts[value] +=1\n",
    "end = datetime.now()\n",
    "\n",
    "print(f\"Operation took {end - start} seconds\")"
   ]
  },
  {
   "cell_type": "code",
   "execution_count": 15,
   "metadata": {},
   "outputs": [
    {
     "name": "stdout",
     "output_type": "stream",
     "text": [
      "{'apple': 166504, 'banana': 166783, 'carrot': 166722, 'celery': 166233, 'mirepoix': 166634, 'clementine': 167124}\n",
      "Operation took 0:00:00.000143 seconds\n"
     ]
    }
   ],
   "source": [
    "start = datetime.now()\n",
    "print(counts)\n",
    "end = datetime.now()\n",
    "print(f\"Operation took {end - start} seconds\")"
   ]
  },
  {
   "cell_type": "code",
   "execution_count": 16,
   "metadata": {},
   "outputs": [
    {
     "data": {
      "text/plain": [
       "162"
      ]
     },
     "execution_count": 16,
     "metadata": {},
     "output_type": "execute_result"
    }
   ],
   "source": [
    "import sys\n",
    "\n",
    "#almost nothing\n",
    "sys.getsizeof(str(counts))"
   ]
  },
  {
   "cell_type": "code",
   "execution_count": 17,
   "metadata": {},
   "outputs": [
    {
     "data": {
      "text/plain": [
       "32215050"
      ]
     },
     "execution_count": 17,
     "metadata": {},
     "output_type": "execute_result"
    }
   ],
   "source": [
    "import sys\n",
    "\n",
    "#this is in bytes, so divide by 10^6 to get # of megabytes\n",
    "sys.getsizeof(str(db))"
   ]
  },
  {
   "cell_type": "code",
   "execution_count": null,
   "metadata": {},
   "outputs": [],
   "source": []
  }
 ],
 "metadata": {
  "kernelspec": {
   "display_name": "Python 3",
   "language": "python",
   "name": "python3"
  },
  "language_info": {
   "codemirror_mode": {
    "name": "ipython",
    "version": 3
   },
   "file_extension": ".py",
   "mimetype": "text/x-python",
   "name": "python",
   "nbconvert_exporter": "python",
   "pygments_lexer": "ipython3",
   "version": "3.9.0"
  }
 },
 "nbformat": 4,
 "nbformat_minor": 4
}
