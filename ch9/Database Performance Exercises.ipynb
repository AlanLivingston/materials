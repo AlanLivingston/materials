{
 "cells": [
  {
   "cell_type": "code",
   "execution_count": 1,
   "metadata": {},
   "outputs": [],
   "source": [
    "def stopwatch(func):\n",
    "    def wrapper(*args, **kwargs):\n",
    "        start = datetime.now()\n",
    "        func(*args, **kwargs)\n",
    "        end = datetime.now()\n",
    "        print(f\"Operation took {end - start} seconds\")\n",
    "    \n",
    "    return wrapper"
   ]
  },
  {
   "cell_type": "code",
   "execution_count": 3,
   "metadata": {},
   "outputs": [
    {
     "name": "stdout",
     "output_type": "stream",
     "text": [
      "Operation took 0:00:02.554716 seconds\n"
     ]
    }
   ],
   "source": [
    "import random\n",
    "from datetime import datetime\n",
    "\n",
    "values = [\"apple\", \"banana\", \"carrot\", \"celery\", \"mirepoix\", \"clementine\"]\n",
    "db = {}\n",
    "\n",
    "@stopwatch\n",
    "def populate_database():\n",
    "    for x in range(1000000):\n",
    "        db[hash(datetime.now())] = random.choices(values)[0]\n",
    "\n",
    "populate_database()"
   ]
  },
  {
   "cell_type": "code",
   "execution_count": 11,
   "metadata": {},
   "outputs": [
    {
     "data": {
      "text/plain": [
       "1000000"
      ]
     },
     "execution_count": 11,
     "metadata": {},
     "output_type": "execute_result"
    }
   ],
   "source": [
    "len(db.keys())"
   ]
  },
  {
   "cell_type": "code",
   "execution_count": null,
   "metadata": {},
   "outputs": [],
   "source": [
    "## Let's implement a count method. How would that work?"
   ]
  },
  {
   "cell_type": "code",
   "execution_count": 5,
   "metadata": {},
   "outputs": [
    {
     "name": "stdout",
     "output_type": "stream",
     "text": [
      "Operation took 0:00:00.130930 seconds\n"
     ]
    }
   ],
   "source": [
    "@stopwatch\n",
    "def count_all():\n",
    "    counts = dict.fromkeys(values, 0)\n",
    "\n",
    "    for key, value in db.items():\n",
    "        counts[value] += 1\n",
    "    return counts\n",
    "\n",
    "counts = count_all()\n",
    "counts"
   ]
  },
  {
   "cell_type": "code",
   "execution_count": 12,
   "metadata": {},
   "outputs": [
    {
     "name": "stdout",
     "output_type": "stream",
     "text": [
      "Operation took 0:00:02.668754 seconds\n"
     ]
    }
   ],
   "source": [
    "db = {}\n",
    "counts = dict.fromkeys(values, 0)\n",
    "\n",
    "@stopwatch\n",
    "def populate_database_with_counts():\n",
    "    for x in range(1000000):\n",
    "        value = random.choices(values)[0]\n",
    "        db[hash(datetime.now())] = value\n",
    "        counts[value] +=1\n",
    "\n",
    "populate_database_with_counts()"
   ]
  },
  {
   "cell_type": "code",
   "execution_count": 13,
   "metadata": {},
   "outputs": [
    {
     "data": {
      "text/plain": [
       "{'apple': 166351,\n",
       " 'banana': 166830,\n",
       " 'carrot': 166973,\n",
       " 'celery': 167196,\n",
       " 'mirepoix': 166584,\n",
       " 'clementine': 166066}"
      ]
     },
     "execution_count": 13,
     "metadata": {},
     "output_type": "execute_result"
    }
   ],
   "source": [
    "counts"
   ]
  },
  {
   "cell_type": "code",
   "execution_count": null,
   "metadata": {},
   "outputs": [],
   "source": [
    "## Space efficiency"
   ]
  },
  {
   "cell_type": "code",
   "execution_count": 14,
   "metadata": {},
   "outputs": [
    {
     "data": {
      "text/plain": [
       "162"
      ]
     },
     "execution_count": 14,
     "metadata": {},
     "output_type": "execute_result"
    }
   ],
   "source": [
    "import sys\n",
    "\n",
    "#almost nothing\n",
    "sys.getsizeof(str(counts))"
   ]
  },
  {
   "cell_type": "code",
   "execution_count": 15,
   "metadata": {},
   "outputs": [
    {
     "data": {
      "text/plain": [
       "32210763"
      ]
     },
     "execution_count": 15,
     "metadata": {},
     "output_type": "execute_result"
    }
   ],
   "source": [
    "import sys\n",
    "\n",
    "#this is in bytes, so divide by 10^6 to get # of megabytes\n",
    "sys.getsizeof(str(db))"
   ]
  },
  {
   "cell_type": "code",
   "execution_count": null,
   "metadata": {},
   "outputs": [],
   "source": [
    "## Challenge: when should we update the counts? change the following database implementation to update the counts:"
   ]
  },
  {
   "cell_type": "code",
   "execution_count": 21,
   "metadata": {},
   "outputs": [],
   "source": [
    "class DataBase:\n",
    "    def __init__(self):\n",
    "        self._data = {}\n",
    "        # populate with a bunch of keys and values\n",
    "        for x in range(1000000):\n",
    "            self._data[hash(datetime.now())] = random.choices(values)[0]\n",
    "            \n",
    "    def set(self, key, value):\n",
    "        self._data[key] = value\n",
    "        \n",
    "    def get(self, key):\n",
    "        return self._data[key]\n",
    "            \n",
    "    def count(self, key):\n",
    "        return 2"
   ]
  },
  {
   "cell_type": "code",
   "execution_count": 18,
   "metadata": {},
   "outputs": [
    {
     "name": "stdout",
     "output_type": "stream",
     "text": [
      "Requirement already satisfied: colorama in /Users/chelseatroy/.pyenv/versions/3.9.0/lib/python3.9/site-packages (0.4.4)\n",
      "\u001b[33mWARNING: You are using pip version 20.2.3; however, version 21.0.1 is available.\n",
      "You should consider upgrading via the '/Users/chelseatroy/.pyenv/versions/3.9.0/bin/python3.9 -m pip install --upgrade pip' command.\u001b[0m\n"
     ]
    }
   ],
   "source": [
    "import sys\n",
    "!{sys.executable} -m pip install colorama \n",
    "\n",
    "sys.path.insert(0, '..')\n",
    "from test_framework_exercise.phoenix_test.matchers import FailedAssertion, Assertion, assert_that\n",
    "from test_framework_exercise.phoenix_test.test import Test\n",
    "sys.path.remove('..')"
   ]
  },
  {
   "cell_type": "code",
   "execution_count": 26,
   "metadata": {},
   "outputs": [
    {
     "name": "stdout",
     "output_type": "stream",
     "text": [
      "2\n",
      "\u001b[31m    test_count:  Expected 23243 but got 2\n",
      "\u001b[0m    0 out of 1 tests passed.\n",
      "\n"
     ]
    },
    {
     "data": {
      "text/plain": [
       "(0, 1)"
      ]
     },
     "execution_count": 26,
     "metadata": {},
     "output_type": "execute_result"
    }
   ],
   "source": [
    "class TestDatabase(Test):    \n",
    "    def setup(self):\n",
    "        self.database = DataBase()\n",
    "    \n",
    "    def test_count(self):\n",
    "        clementine_count = self.database.count('clementine')\n",
    "        print(clementine_count)\n",
    "        assert_that(clementine_count).equals(23243)\n",
    "        \n",
    "TestDatabase().run()\n",
    "        "
   ]
  },
  {
   "cell_type": "code",
   "execution_count": null,
   "metadata": {},
   "outputs": [],
   "source": []
  }
 ],
 "metadata": {
  "kernelspec": {
   "display_name": "Python 3",
   "language": "python",
   "name": "python3"
  },
  "language_info": {
   "codemirror_mode": {
    "name": "ipython",
    "version": 3
   },
   "file_extension": ".py",
   "mimetype": "text/x-python",
   "name": "python",
   "nbconvert_exporter": "python",
   "pygments_lexer": "ipython3",
   "version": "3.9.0"
  }
 },
 "nbformat": 4,
 "nbformat_minor": 4
}
