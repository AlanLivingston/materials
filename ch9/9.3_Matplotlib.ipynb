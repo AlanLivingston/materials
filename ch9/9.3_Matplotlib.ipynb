{
 "cells": [
  {
   "cell_type": "markdown",
   "metadata": {},
   "source": [
    "### Matplotlib\n",
    "\n",
    "\"Matplotlib is a multiplatform data visualization library built on NumPy arrays,and designed to work with the broader SciPy stack. It was conceived by JohnHunter in 2002, originally as a patch to IPython for creating interactive MATLAB-style plotting via gnuplot from the IPython command line.\"\n",
    "\n",
    "\n",
    "\n",
    "**Getting Started with `matplotlib`**\n",
    "\n",
    "1. To install: `pip install matplotlib` \n",
    "2. To embed matplotlib in the notebook run the `%matplotlib inline`"
   ]
  },
  {
   "cell_type": "code",
   "execution_count": 102,
   "metadata": {},
   "outputs": [],
   "source": [
    "%matplotlib inline"
   ]
  },
  {
   "cell_type": "code",
   "execution_count": 103,
   "metadata": {},
   "outputs": [],
   "source": [
    "import matplotlib as mpl\n",
    "import matplotlib.pyplot as plt"
   ]
  },
  {
   "cell_type": "markdown",
   "metadata": {},
   "source": [
    "#### Basic Concepts\n",
    "\n",
    "- [`figure`](https://matplotlib.org/api/figure_api.html?highlight=figure#module-matplotlib.figure): A figure may contain 1+ axes (plots), we can think of this as like the `tkinter` `canvas` object!\n",
    "\n",
    "- [`axes`](https://matplotlib.org/api/axes_api.html?highlight=axes#module-matplotlib.axes): The plot(s), a figure can include many axes. Axes have a title, an x-label, and a y-label.\n",
    "\n",
    "- [`axis`](https://matplotlib.org/api/axis_api.html?highlight=axis#module-matplotlib.axis): Number line like objects that generate the graph limits.\n",
    "\n",
    "- [`artist`](https://matplotlib.org/api/artist_api.html?highlight=artist#module-matplotlib.artist): Everything within a figure like `Text`, `Line2D`, and `collection` objects.  "
   ]
  },
  {
   "cell_type": "markdown",
   "metadata": {},
   "source": [
    "### Creating a plot\n",
    "\n",
    "1. Instantiate two `numpy` arrays\n",
    "2. Instantiate a [`plot`](https://matplotlib.org/api/_as_gen/matplotlib.pyplot.plot.html?highlight=plot#matplotlib.pyplot.plot) with those arrays\n",
    "3. `show` the plot"
   ]
  },
  {
   "cell_type": "code",
   "execution_count": 104,
   "metadata": {},
   "outputs": [],
   "source": [
    "import numpy as np"
   ]
  },
  {
   "cell_type": "code",
   "execution_count": 105,
   "metadata": {},
   "outputs": [
    {
     "data": {
      "image/png": "[encoded data removed]",
      "text/plain": [
       "<Figure size 432x288 with 1 Axes>"
      ]
     },
     "metadata": {
      "needs_background": "light"
     },
     "output_type": "display_data"
    }
   ],
   "source": [
    "arr_one = np.array([5,4,3,2,1])\n",
    "arr_two = np.array([1,2,3,4,5])\n",
    "plt.plot(arr_one, arr_two)\n",
    "plt.show()"
   ]
  },
  {
   "cell_type": "markdown",
   "metadata": {},
   "source": [
    "`plt.plot` when called as `plt.plot(x,y)` creates an array with the first array as the `x` coordinates and the second array as the `y` coordinates"
   ]
  },
  {
   "cell_type": "code",
   "execution_count": 9,
   "metadata": {
    "scrolled": false
   },
   "outputs": [
    {
     "name": "stdout",
     "output_type": "stream",
     "text": [
      "Help on function plot in module matplotlib.pyplot:\n",
      "\n",
      "plot(*args, scalex=True, scaley=True, data=None, **kwargs)\n",
      "    Plot y versus x as lines and/or markers.\n",
      "    \n",
      "    Call signatures::\n",
      "    \n",
      "        plot([x], y, [fmt], *, data=None, **kwargs)\n",
      "        plot([x], y, [fmt], [x2], y2, [fmt2], ..., **kwargs)\n",
      "    \n",
      "    The coordinates of the points or line nodes are given by *x*, *y*.\n",
      "    \n",
      "    The optional parameter *fmt* is a convenient way for defining basic\n",
      "    formatting like color, marker and linestyle. It's a shortcut string\n",
      "    notation described in the *Notes* section below.\n",
      "    \n",
      "    >>> plot(x, y)        # plot x and y using default line style and color\n",
      "    >>> plot(x, y, 'bo')  # plot x and y using blue circle markers\n",
      "    >>> plot(y)           # plot y using x as index array 0..N-1\n",
      "    >>> plot(y, 'r+')     # ditto, but with red plusses\n",
      "    \n",
      "    You can use `.Line2D` properties as keyword arguments for more\n",
      "    control on the appearance. Line properties and *fmt* can be mixed.\n",
      "    The following two calls yield identical results:\n",
      "    \n",
      "    >>> plot(x, y, 'go--', linewidth=2, markersize=12)\n",
      "    >>> plot(x, y, color='green', marker='o', linestyle='dashed',\n",
      "    ...      linewidth=2, markersize=12)\n",
      "    \n",
      "    When conflicting with *fmt*, keyword arguments take precedence.\n",
      "    \n",
      "    \n",
      "    **Plotting labelled data**\n",
      "    \n",
      "    There's a convenient way for plotting objects with labelled data (i.e.\n",
      "    data that can be accessed by index ``obj['y']``). Instead of giving\n",
      "    the data in *x* and *y*, you can provide the object in the *data*\n",
      "    parameter and just give the labels for *x* and *y*::\n",
      "    \n",
      "    >>> plot('xlabel', 'ylabel', data=obj)\n",
      "    \n",
      "    All indexable objects are supported. This could e.g. be a `dict`, a\n",
      "    `pandas.DataFrame` or a structured numpy array.\n",
      "    \n",
      "    \n",
      "    **Plotting multiple sets of data**\n",
      "    \n",
      "    There are various ways to plot multiple sets of data.\n",
      "    \n",
      "    - The most straight forward way is just to call `plot` multiple times.\n",
      "      Example:\n",
      "    \n",
      "      >>> plot(x1, y1, 'bo')\n",
      "      >>> plot(x2, y2, 'go')\n",
      "    \n",
      "    - Alternatively, if your data is already a 2d array, you can pass it\n",
      "      directly to *x*, *y*. A separate data set will be drawn for every\n",
      "      column.\n",
      "    \n",
      "      Example: an array ``a`` where the first column represents the *x*\n",
      "      values and the other columns are the *y* columns::\n",
      "    \n",
      "      >>> plot(a[0], a[1:])\n",
      "    \n",
      "    - The third way is to specify multiple sets of *[x]*, *y*, *[fmt]*\n",
      "      groups::\n",
      "    \n",
      "      >>> plot(x1, y1, 'g^', x2, y2, 'g-')\n",
      "    \n",
      "      In this case, any additional keyword argument applies to all\n",
      "      datasets. Also this syntax cannot be combined with the *data*\n",
      "      parameter.\n",
      "    \n",
      "    By default, each line is assigned a different style specified by a\n",
      "    'style cycle'. The *fmt* and line property parameters are only\n",
      "    necessary if you want explicit deviations from these defaults.\n",
      "    Alternatively, you can also change the style cycle using\n",
      "    :rc:`axes.prop_cycle`.\n",
      "    \n",
      "    \n",
      "    Parameters\n",
      "    ----------\n",
      "    x, y : array-like or scalar\n",
      "        The horizontal / vertical coordinates of the data points.\n",
      "        *x* values are optional and default to ``range(len(y))``.\n",
      "    \n",
      "        Commonly, these parameters are 1D arrays.\n",
      "    \n",
      "        They can also be scalars, or two-dimensional (in that case, the\n",
      "        columns represent separate data sets).\n",
      "    \n",
      "        These arguments cannot be passed as keywords.\n",
      "    \n",
      "    fmt : str, optional\n",
      "        A format string, e.g. 'ro' for red circles. See the *Notes*\n",
      "        section for a full description of the format strings.\n",
      "    \n",
      "        Format strings are just an abbreviation for quickly setting\n",
      "        basic line properties. All of these and more can also be\n",
      "        controlled by keyword arguments.\n",
      "    \n",
      "        This argument cannot be passed as keyword.\n",
      "    \n",
      "    data : indexable object, optional\n",
      "        An object with labelled data. If given, provide the label names to\n",
      "        plot in *x* and *y*.\n",
      "    \n",
      "        .. note::\n",
      "            Technically there's a slight ambiguity in calls where the\n",
      "            second label is a valid *fmt*. ``plot('n', 'o', data=obj)``\n",
      "            could be ``plt(x, y)`` or ``plt(y, fmt)``. In such cases,\n",
      "            the former interpretation is chosen, but a warning is issued.\n",
      "            You may suppress the warning by adding an empty format string\n",
      "            ``plot('n', 'o', '', data=obj)``.\n",
      "    \n",
      "    Returns\n",
      "    -------\n",
      "    list of `.Line2D`\n",
      "        A list of lines representing the plotted data.\n",
      "    \n",
      "    Other Parameters\n",
      "    ----------------\n",
      "    scalex, scaley : bool, default: True\n",
      "        These parameters determine if the view limits are adapted to the\n",
      "        data limits. The values are passed on to `autoscale_view`.\n",
      "    \n",
      "    **kwargs : `.Line2D` properties, optional\n",
      "        *kwargs* are used to specify properties like a line label (for\n",
      "        auto legends), linewidth, antialiasing, marker face color.\n",
      "        Example::\n",
      "    \n",
      "        >>> plot([1, 2, 3], [1, 2, 3], 'go-', label='line 1', linewidth=2)\n",
      "        >>> plot([1, 2, 3], [1, 4, 9], 'rs', label='line 2')\n",
      "    \n",
      "        If you make multiple lines with one plot call, the kwargs\n",
      "        apply to all those lines.\n",
      "    \n",
      "        Here is a list of available `.Line2D` properties:\n",
      "    \n",
      "        Properties:\n",
      "        agg_filter: a filter function, which takes a (m, n, 3) float array and a dpi value, and returns a (m, n, 3) array\n",
      "        alpha: float or None\n",
      "        animated: bool\n",
      "        antialiased or aa: bool\n",
      "        clip_box: `.Bbox`\n",
      "        clip_on: bool\n",
      "        clip_path: Patch or (Path, Transform) or None\n",
      "        color or c: color\n",
      "        contains: unknown\n",
      "        dash_capstyle: {'butt', 'round', 'projecting'}\n",
      "        dash_joinstyle: {'miter', 'round', 'bevel'}\n",
      "        dashes: sequence of floats (on/off ink in points) or (None, None)\n",
      "        data: (2, N) array or two 1D arrays\n",
      "        drawstyle or ds: {'default', 'steps', 'steps-pre', 'steps-mid', 'steps-post'}, default: 'default'\n",
      "        figure: `.Figure`\n",
      "        fillstyle: {'full', 'left', 'right', 'bottom', 'top', 'none'}\n",
      "        gid: str\n",
      "        in_layout: bool\n",
      "        label: object\n",
      "        linestyle or ls: {'-', '--', '-.', ':', '', (offset, on-off-seq), ...}\n",
      "        linewidth or lw: float\n",
      "        marker: marker style string, `~.path.Path` or `~.markers.MarkerStyle`\n",
      "        markeredgecolor or mec: color\n",
      "        markeredgewidth or mew: float\n",
      "        markerfacecolor or mfc: color\n",
      "        markerfacecoloralt or mfcalt: color\n",
      "        markersize or ms: float\n",
      "        markevery: None or int or (int, int) or slice or List[int] or float or (float, float) or List[bool]\n",
      "        path_effects: `.AbstractPathEffect`\n",
      "        picker: unknown\n",
      "        pickradius: float\n",
      "        rasterized: bool or None\n",
      "        sketch_params: (scale: float, length: float, randomness: float)\n",
      "        snap: bool or None\n",
      "        solid_capstyle: {'butt', 'round', 'projecting'}\n",
      "        solid_joinstyle: {'miter', 'round', 'bevel'}\n",
      "        transform: `matplotlib.transforms.Transform`\n",
      "        url: str\n",
      "        visible: bool\n",
      "        xdata: 1D array\n",
      "        ydata: 1D array\n",
      "        zorder: float\n",
      "    \n",
      "    See Also\n",
      "    --------\n",
      "    scatter : XY scatter plot with markers of varying size and/or color (\n",
      "        sometimes also called bubble chart).\n",
      "    \n",
      "    Notes\n",
      "    -----\n",
      "    **Format Strings**\n",
      "    \n",
      "    A format string consists of a part for color, marker and line::\n",
      "    \n",
      "        fmt = '[marker][line][color]'\n",
      "    \n",
      "    Each of them is optional. If not provided, the value from the style\n",
      "    cycle is used. Exception: If ``line`` is given, but no ``marker``,\n",
      "    the data will be a line without markers.\n",
      "    \n",
      "    Other combinations such as ``[color][marker][line]`` are also\n",
      "    supported, but note that their parsing may be ambiguous.\n",
      "    \n",
      "    **Markers**\n",
      "    \n",
      "    =============    ===============================\n",
      "    character        description\n",
      "    =============    ===============================\n",
      "    ``'.'``          point marker\n",
      "    ``','``          pixel marker\n",
      "    ``'o'``          circle marker\n",
      "    ``'v'``          triangle_down marker\n",
      "    ``'^'``          triangle_up marker\n",
      "    ``'<'``          triangle_left marker\n",
      "    ``'>'``          triangle_right marker\n",
      "    ``'1'``          tri_down marker\n",
      "    ``'2'``          tri_up marker\n",
      "    ``'3'``          tri_left marker\n",
      "    ``'4'``          tri_right marker\n",
      "    ``'s'``          square marker\n",
      "    ``'p'``          pentagon marker\n",
      "    ``'*'``          star marker\n",
      "    ``'h'``          hexagon1 marker\n",
      "    ``'H'``          hexagon2 marker\n",
      "    ``'+'``          plus marker\n",
      "    ``'x'``          x marker\n",
      "    ``'D'``          diamond marker\n",
      "    ``'d'``          thin_diamond marker\n",
      "    ``'|'``          vline marker\n",
      "    ``'_'``          hline marker\n",
      "    =============    ===============================\n",
      "    \n",
      "    **Line Styles**\n",
      "    \n",
      "    =============    ===============================\n",
      "    character        description\n",
      "    =============    ===============================\n",
      "    ``'-'``          solid line style\n",
      "    ``'--'``         dashed line style\n",
      "    ``'-.'``         dash-dot line style\n",
      "    ``':'``          dotted line style\n",
      "    =============    ===============================\n",
      "    \n",
      "    Example format strings::\n",
      "    \n",
      "        'b'    # blue markers with default shape\n",
      "        'or'   # red circles\n",
      "        '-g'   # green solid line\n",
      "        '--'   # dashed line with default color\n",
      "        '^k:'  # black triangle_up markers connected by a dotted line\n",
      "    \n",
      "    **Colors**\n",
      "    \n",
      "    The supported color abbreviations are the single letter codes\n",
      "    \n",
      "    =============    ===============================\n",
      "    character        color\n",
      "    =============    ===============================\n",
      "    ``'b'``          blue\n",
      "    ``'g'``          green\n",
      "    ``'r'``          red\n",
      "    ``'c'``          cyan\n",
      "    ``'m'``          magenta\n",
      "    ``'y'``          yellow\n",
      "    ``'k'``          black\n",
      "    ``'w'``          white\n",
      "    =============    ===============================\n",
      "    \n",
      "    and the ``'CN'`` colors that index into the default property cycle.\n",
      "    \n",
      "    If the color is the only part of the format string, you can\n",
      "    additionally use any  `matplotlib.colors` spec, e.g. full names\n",
      "    (``'green'``) or hex strings (``'#008000'``).\n",
      "\n"
     ]
    }
   ],
   "source": [
    "help(plt.plot)"
   ]
  },
  {
   "cell_type": "code",
   "execution_count": 12,
   "metadata": {},
   "outputs": [
    {
     "data": {
      "image/png": "[encoded data removed]",
      "text/plain": [
       "<Figure size 432x288 with 1 Axes>"
      ]
     },
     "metadata": {
      "needs_background": "light"
     },
     "output_type": "display_data"
    }
   ],
   "source": [
    "arr_one = np.array([10, 8, 6, 4])\n",
    "plt.plot(arr_one)\n",
    "plt.show()  # Uses the index of the input array as the x coordinates"
   ]
  },
  {
   "cell_type": "markdown",
   "metadata": {},
   "source": [
    "### Set the title, x label, and y label"
   ]
  },
  {
   "cell_type": "code",
   "execution_count": 18,
   "metadata": {},
   "outputs": [
    {
     "data": {
      "image/png": "[encoded data removed]",
      "text/plain": [
       "<Figure size 432x288 with 1 Axes>"
      ]
     },
     "metadata": {
      "needs_background": "light"
     },
     "output_type": "display_data"
    }
   ],
   "source": [
    "arr_one = np.array([2,4,6,8,10])\n",
    "arr_two = np.arange(5)\n",
    "plt.title(\"Example plot\")\n",
    "plt.xlabel(\"X label\")\n",
    "plt.ylabel(\"Y label\")\n",
    "plt.plot(arr_one, arr_two)\n",
    "plt.show()"
   ]
  },
  {
   "cell_type": "markdown",
   "metadata": {},
   "source": [
    "### Plotting multiple lines"
   ]
  },
  {
   "cell_type": "code",
   "execution_count": 23,
   "metadata": {},
   "outputs": [
    {
     "data": {
      "image/png": "[encoded data removed]",
      "text/plain": [
       "<Figure size 432x288 with 1 Axes>"
      ]
     },
     "metadata": {
      "needs_background": "light"
     },
     "output_type": "display_data"
    }
   ],
   "source": [
    "# Line 1\n",
    "arr_one = np.array([2,4,6,8,10])\n",
    "arr_two = np.arange(5)\n",
    "arr_two += 5\n",
    "plt.plot(arr_one, arr_two, 'ro')   # Plot with red circles\n",
    "\n",
    "# Line 2\n",
    "arr_three = np.array([2,4,6,8,10])\n",
    "arr_four = np.arange(5)\n",
    "arr_four += 7\n",
    "plt.plot(arr_three, arr_four, 'bo') # Plot with blue circles\n",
    "\n",
    "plt.title(\"Example plot\")\n",
    "plt.xlabel(\"X label\")\n",
    "plt.ylabel(\"Y label\")\n",
    "\n",
    "plt.show()"
   ]
  },
  {
   "cell_type": "markdown",
   "metadata": {},
   "source": [
    "### Plotting labelled data  \n",
    "\n",
    "First let's review NumPy structured arrays:"
   ]
  },
  {
   "cell_type": "code",
   "execution_count": 24,
   "metadata": {},
   "outputs": [
    {
     "name": "stdout",
     "output_type": "stream",
     "text": [
      "[('Jean-Luc Picard', 1) ('Benjamin Sisko', 2) ('Kathryn Janeway', 3)\n",
      " ('Saru', 4) ('Gabriel Lorca', 5) ('Jonathan Archer', 6)\n",
      " ('James T Kirk', 7)]\n",
      "(7,)\n",
      "1\n"
     ]
    }
   ],
   "source": [
    "names = ['James T Kirk', 'Jean-Luc Picard', 'Benjamin Sisko', 'Kathryn Janeway', 'Jonathan Archer', 'Gabriel Lorca', 'Saru']\n",
    "ranking = [7, 1, 2, 3, 6, 5, 4]\n",
    "\n",
    "# Create structure aray with all zeros\n",
    "star_trek_captains = np.zeros(7, dtype={'names': ('name', 'ranking'), 'formats': ('U15', 'i4')})\n",
    "\n",
    "# Populate with data!\n",
    "star_trek_captains['name'] = names\n",
    "star_trek_captains['ranking'] = ranking\n",
    "\n",
    "# Sort based on my very biased ranking!\n",
    "star_trek_captains = np.sort(star_trek_captains, order='ranking')\n",
    "\n",
    "print(star_trek_captains)\n",
    "print(star_trek_captains.shape)    # row X col\n",
    "print(star_trek_captains.ndim)     # num of dimensions"
   ]
  },
  {
   "cell_type": "code",
   "execution_count": 43,
   "metadata": {},
   "outputs": [
    {
     "data": {
      "image/png": "[encoded data removed]",
      "text/plain": [
       "<Figure size 432x288 with 1 Axes>"
      ]
     },
     "metadata": {
      "needs_background": "light"
     },
     "output_type": "display_data"
    }
   ],
   "source": [
    "# Line 1\n",
    "name = ['Alice', 'Bob', 'Cathy', 'Doug']\n",
    "age = [25, 45, 37, 19]\n",
    "weight = [55.0, 85.5, 68.0, 61.5]\n",
    "data = np.zeros(4, dtype={'names':('name', 'age', 'weight'),\n",
    "                          'formats':('U10', 'i4', 'f8')})\n",
    "\n",
    "data['name'] = name\n",
    "data['age'] = age\n",
    "data['weight'] = weight\n",
    "\n",
    "plt.plot(data['age'],data['weight'],'bo')\n",
    "\n",
    "for val in data:\n",
    "\n",
    "    label = f'{val[\"name\"]}'\n",
    "\n",
    "    plt.annotate(label, # this is the text\n",
    "                 (val['age'],val['weight']), # this is the point to label\n",
    "                 textcoords=\"offset points\", # how to position the text\n",
    "                 xytext=(0,10), # distance from text to points (x,y)\n",
    "                 ha='center') # horizontal alignment can be left, right or center\n",
    "\n",
    "\n",
    "plt.title(\"Person by age and weight\")\n",
    "plt.xlabel(\"Age\")\n",
    "plt.ylabel(\"Weight\")\n",
    "\n",
    "plt.show()"
   ]
  },
  {
   "cell_type": "code",
   "execution_count": 106,
   "metadata": {},
   "outputs": [
    {
     "name": "stdout",
     "output_type": "stream",
     "text": [
      "Help on function annotate in module matplotlib.pyplot:\n",
      "\n",
      "annotate(text, xy, *args, **kwargs)\n",
      "    Annotate the point *xy* with text *text*.\n",
      "    \n",
      "    In the simplest form, the text is placed at *xy*.\n",
      "    \n",
      "    Optionally, the text can be displayed in another position *xytext*.\n",
      "    An arrow pointing from the text to the annotated point *xy* can then\n",
      "    be added by defining *arrowprops*.\n",
      "    \n",
      "    Parameters\n",
      "    ----------\n",
      "    text : str\n",
      "        The text of the annotation.  *s* is a deprecated synonym for this\n",
      "        parameter.\n",
      "    \n",
      "    xy : (float, float)\n",
      "        The point *(x, y)* to annotate. The coordinate system is determined\n",
      "        by *xycoords*.\n",
      "    \n",
      "    xytext : (float, float), default: *xy*\n",
      "        The position *(x, y)* to place the text at. The coordinate system\n",
      "        is determined by *textcoords*.\n",
      "    \n",
      "    xycoords : str or `.Artist` or `.Transform` or callable or (float, float), default: 'data'\n",
      "    \n",
      "        The coordinate system that *xy* is given in. The following types\n",
      "        of values are supported:\n",
      "    \n",
      "        - One of the following strings:\n",
      "    \n",
      "          =================   =============================================\n",
      "          Value               Description\n",
      "          =================   =============================================\n",
      "          'figure points'     Points from the lower left of the figure\n",
      "          'figure pixels'     Pixels from the lower left of the figure\n",
      "          'figure fraction'   Fraction of figure from lower left\n",
      "          'axes points'       Points from lower left corner of axes\n",
      "          'axes pixels'       Pixels from lower left corner of axes\n",
      "          'axes fraction'     Fraction of axes from lower left\n",
      "          'data'              Use the coordinate system of the object being\n",
      "                              annotated (default)\n",
      "          'polar'             *(theta, r)* if not native 'data' coordinates\n",
      "          =================   =============================================\n",
      "    \n",
      "        - An `.Artist`: *xy* is interpreted as a fraction of the artist's\n",
      "          `~matplotlib.transforms.Bbox`. E.g. *(0, 0)* would be the lower\n",
      "          left corner of the bounding box and *(0.5, 1)* would be the\n",
      "          center top of the bounding box.\n",
      "    \n",
      "        - A `.Transform` to transform *xy* to screen coordinates.\n",
      "    \n",
      "        - A function with one of the following signatures::\n",
      "    \n",
      "            def transform(renderer) -> Bbox\n",
      "            def transform(renderer) -> Transform\n",
      "    \n",
      "          where *renderer* is a `.RendererBase` subclass.\n",
      "    \n",
      "          The result of the function is interpreted like the `.Artist` and\n",
      "          `.Transform` cases above.\n",
      "    \n",
      "        - A tuple *(xcoords, ycoords)* specifying separate coordinate\n",
      "          systems for *x* and *y*. *xcoords* and *ycoords* must each be\n",
      "          of one of the above described types.\n",
      "    \n",
      "        See :ref:`plotting-guide-annotation` for more details.\n",
      "    \n",
      "    textcoords : str or `.Artist` or `.Transform` or callable or (float, float), default: value of *xycoords*\n",
      "        The coordinate system that *xytext* is given in.\n",
      "    \n",
      "        All *xycoords* values are valid as well as the following\n",
      "        strings:\n",
      "    \n",
      "        =================   =========================================\n",
      "        Value               Description\n",
      "        =================   =========================================\n",
      "        'offset points'     Offset (in points) from the *xy* value\n",
      "        'offset pixels'     Offset (in pixels) from the *xy* value\n",
      "        =================   =========================================\n",
      "    \n",
      "    arrowprops : dict, optional\n",
      "        The properties used to draw a `.FancyArrowPatch` arrow between the\n",
      "        positions *xy* and *xytext*.\n",
      "    \n",
      "        If *arrowprops* does not contain the key 'arrowstyle' the\n",
      "        allowed keys are:\n",
      "    \n",
      "        ==========   ======================================================\n",
      "        Key          Description\n",
      "        ==========   ======================================================\n",
      "        width        The width of the arrow in points\n",
      "        headwidth    The width of the base of the arrow head in points\n",
      "        headlength   The length of the arrow head in points\n",
      "        shrink       Fraction of total length to shrink from both ends\n",
      "        ?            Any key to :class:`matplotlib.patches.FancyArrowPatch`\n",
      "        ==========   ======================================================\n",
      "    \n",
      "        If *arrowprops* contains the key 'arrowstyle' the\n",
      "        above keys are forbidden.  The allowed values of\n",
      "        ``'arrowstyle'`` are:\n",
      "    \n",
      "        ============   =============================================\n",
      "        Name           Attrs\n",
      "        ============   =============================================\n",
      "        ``'-'``        None\n",
      "        ``'->'``       head_length=0.4,head_width=0.2\n",
      "        ``'-['``       widthB=1.0,lengthB=0.2,angleB=None\n",
      "        ``'|-|'``      widthA=1.0,widthB=1.0\n",
      "        ``'-|>'``      head_length=0.4,head_width=0.2\n",
      "        ``'<-'``       head_length=0.4,head_width=0.2\n",
      "        ``'<->'``      head_length=0.4,head_width=0.2\n",
      "        ``'<|-'``      head_length=0.4,head_width=0.2\n",
      "        ``'<|-|>'``    head_length=0.4,head_width=0.2\n",
      "        ``'fancy'``    head_length=0.4,head_width=0.4,tail_width=0.4\n",
      "        ``'simple'``   head_length=0.5,head_width=0.5,tail_width=0.2\n",
      "        ``'wedge'``    tail_width=0.3,shrink_factor=0.5\n",
      "        ============   =============================================\n",
      "    \n",
      "        Valid keys for `~matplotlib.patches.FancyArrowPatch` are:\n",
      "    \n",
      "        ===============  ==================================================\n",
      "        Key              Description\n",
      "        ===============  ==================================================\n",
      "        arrowstyle       the arrow style\n",
      "        connectionstyle  the connection style\n",
      "        relpos           default is (0.5, 0.5)\n",
      "        patchA           default is bounding box of the text\n",
      "        patchB           default is None\n",
      "        shrinkA          default is 2 points\n",
      "        shrinkB          default is 2 points\n",
      "        mutation_scale   default is text size (in points)\n",
      "        mutation_aspect  default is 1.\n",
      "        ?                any key for :class:`matplotlib.patches.PathPatch`\n",
      "        ===============  ==================================================\n",
      "    \n",
      "        Defaults to None, i.e. no arrow is drawn.\n",
      "    \n",
      "    annotation_clip : bool or None, default: None\n",
      "        Whether to draw the annotation when the annotation point *xy* is\n",
      "        outside the axes area.\n",
      "    \n",
      "        - If *True*, the annotation will only be drawn when *xy* is\n",
      "          within the axes.\n",
      "        - If *False*, the annotation will always be drawn.\n",
      "        - If *None*, the annotation will only be drawn when *xy* is\n",
      "          within the axes and *xycoords* is 'data'.\n",
      "    \n",
      "    **kwargs\n",
      "        Additional kwargs are passed to `~matplotlib.text.Text`.\n",
      "    \n",
      "    Returns\n",
      "    -------\n",
      "    `.Annotation`\n",
      "    \n",
      "    See Also\n",
      "    --------\n",
      "    :ref:`plotting-guide-annotation`\n",
      "\n"
     ]
    }
   ],
   "source": [
    "help(plt.annotate)"
   ]
  },
  {
   "cell_type": "markdown",
   "metadata": {},
   "source": [
    "### Plotting Multiple Plots in One Figure\n",
    "\n",
    "Using `plt.subplot` we can add more than one plot to a figure. `plt.subplot` accepts three arguments:\n",
    "\n",
    "- `nrows`\n",
    "- `ncols`\n",
    "- `index`"
   ]
  },
  {
   "cell_type": "code",
   "execution_count": 49,
   "metadata": {},
   "outputs": [
    {
     "data": {
      "image/png": "[encoded data removed]",
      "text/plain": [
       "<Figure size 432x288 with 2 Axes>"
      ]
     },
     "metadata": {
      "needs_background": "light"
     },
     "output_type": "display_data"
    }
   ],
   "source": [
    "x = np.arange(1,5)\n",
    "y = x**3\n",
    "\n",
    "plt.subplot(1,2,1)\n",
    "plt.plot([1,2,3,4],[1,4,9,16],'go')\n",
    "plt.title(\"Squares\")\n",
    "\n",
    "plt.subplot(1,2,2)\n",
    "plt.plot(x,y,'r^')\n",
    "plt.title(\"Cubes\")\n",
    "\n",
    "plt.show()"
   ]
  },
  {
   "cell_type": "markdown",
   "metadata": {},
   "source": [
    "Making your sub-plots like this can become repetative, therefore we can make many subplots at once with `plt.subplots`, this accepts:\n",
    "\n",
    "- `nrows`\n",
    "- `ncols` \n",
    "\n",
    "Upon using `plt.subplots` you get two objects: `figure`, and `axes`"
   ]
  },
  {
   "cell_type": "code",
   "execution_count": 44,
   "metadata": {},
   "outputs": [
    {
     "data": {
      "image/png": "[encoded data removed]",
      "text/plain": [
       "<Figure size 432x432 with 4 Axes>"
      ]
     },
     "metadata": {
      "needs_background": "light"
     },
     "output_type": "display_data"
    }
   ],
   "source": [
    "x = np.arange(1,5)\n",
    "y = x**3\n",
    "fig, ax = plt.subplots(nrows=2, ncols=2, figsize=(6,6))\n",
    "ax[0,1].plot([1,2,3,4],[1,4,9,16],'go')\n",
    "ax[1,0].plot(x,y,'r^')\n",
    "ax[0,1].set_title(\"Squares\")\n",
    "ax[1,0].set_title(\"Cubes\")\n",
    "plt.show()"
   ]
  },
  {
   "cell_type": "markdown",
   "metadata": {},
   "source": [
    "### Making other types of graphs\n",
    "\n",
    "You can also make:\n",
    "\n",
    "- bar graphs\n",
    "- pie charts\n",
    "- histograms\n",
    "- scatter plots and 3D plotting"
   ]
  },
  {
   "cell_type": "code",
   "execution_count": 50,
   "metadata": {},
   "outputs": [
    {
     "data": {
      "image/png": "[encoded data removed]",
      "text/plain": [
       "<Figure size 432x288 with 1 Axes>"
      ]
     },
     "metadata": {
      "needs_background": "light"
     },
     "output_type": "display_data"
    }
   ],
   "source": [
    "figure = plt.figure()\n",
    "ax = figure.add_axes([0,0,1,1])\n",
    "languages = ['C', 'C++', 'Java', 'Python', 'PHP']\n",
    "students = [23, 17, 35, 29, 12]\n",
    "ax.bar(languages,students)\n",
    "plt.title('Students Language Preference')\n",
    "plt.xlabel('Languages')\n",
    "plt.ylabel('Students')\n",
    "plt.show()"
   ]
  },
  {
   "cell_type": "code",
   "execution_count": 65,
   "metadata": {},
   "outputs": [
    {
     "data": {
      "image/png": "[encoded data removed]",
      "text/plain": [
       "<Figure size 432x288 with 1 Axes>"
      ]
     },
     "metadata": {},
     "output_type": "display_data"
    }
   ],
   "source": [
    "languages = ['C', 'C++', 'Java', 'Python', 'PHP']\n",
    "students = [23, 17, 35, 29, 12]\n",
    "explode = [0,0.1,0,0,0]\n",
    "plt.pie(students,explode=explode,labels=languages,shadow=True,startangle=45)\n",
    "plt.axis('equal')\n",
    "plt.legend(languages)\n",
    "plt.show()"
   ]
  },
  {
   "cell_type": "code",
   "execution_count": 64,
   "metadata": {},
   "outputs": [
    {
     "data": {
      "image/png": "[encoded data removed]",
      "text/plain": [
       "<Figure size 432x288 with 1 Axes>"
      ]
     },
     "metadata": {
      "needs_background": "light"
     },
     "output_type": "display_data"
    }
   ],
   "source": [
    "np.random.seed(42)\n",
    "x = np.random.normal(size=1000)\n",
    "plt.hist(x, density=True, bins=30)  # `density=False` would make counts\n",
    "plt.ylabel('Probability')\n",
    "plt.xlabel('Data')"
   ]
  },
  {
   "cell_type": "code",
   "execution_count": 61,
   "metadata": {},
   "outputs": [
    {
     "data": {
      "image/png": "[encoded data removed]",
      "text/plain": [
       "<Figure size 432x288 with 1 Axes>"
      ]
     },
     "metadata": {
      "needs_background": "light"
     },
     "output_type": "display_data"
    }
   ],
   "source": [
    "grade = [1, 2, 3, 4, 5]\n",
    "students = [23, 17, 35, 29, 12]\n",
    "plt.xlim(0,40)  # Set limits of x and y\n",
    "plt.ylim(0,6)\n",
    "plt.scatter(students,grade)\n",
    "plt.title('Scatter plot of students by grade')\n",
    "plt.xlabel('Students')\n",
    "plt.ylabel('Grade')\n",
    "plt.show()"
   ]
  },
  {
   "cell_type": "markdown",
   "metadata": {},
   "source": [
    "### Are there any questions?\n",
    "\n",
    "To recap:\n",
    "\n",
    "- Mathplotlib has a `figure` you can use to hold many `axes` (plots)\n",
    "- Mathplotlib can plot directly with `plot`\n",
    "- Mathplotlib can make several types of graphs\n",
    "- To render inline `%matplotlib inline` for Jupyter notebooks!"
   ]
  },
  {
   "cell_type": "markdown",
   "metadata": {},
   "source": [
    "### NumPy Challenges"
   ]
  },
  {
   "cell_type": "markdown",
   "metadata": {},
   "source": [
    "#### Problem 1\n",
    "\n",
    "Subtract a 1D array from a 2D array where each item in the 1D array subtracts from the respective row:\n",
    "    \n",
    "```\n",
    "two_d_arr = np.array([[5,5,5],[4,4,4],[3,3,3]])\n",
    "one_d_arr = np.array([1,2,3])\n",
    "```\n",
    "\n",
    "Results in:\n",
    "\n",
    "```\n",
    "[[4,4,4],\n",
    " [2,2,2],\n",
    " [0,0,0]]\n",
    "```"
   ]
  },
  {
   "cell_type": "markdown",
   "metadata": {},
   "source": [
    "#### Problem 2\n",
    "\n",
    "Import an image and convert it into a NumPy array"
   ]
  },
  {
   "cell_type": "code",
   "execution_count": 107,
   "metadata": {},
   "outputs": [
    {
     "name": "stdout",
     "output_type": "stream",
     "text": [
      "Help on function asarray in module numpy:\n",
      "\n",
      "asarray(a, dtype=None, order=None)\n",
      "    Convert the input to an array.\n",
      "    \n",
      "    Parameters\n",
      "    ----------\n",
      "    a : array_like\n",
      "        Input data, in any form that can be converted to an array.  This\n",
      "        includes lists, lists of tuples, tuples, tuples of tuples, tuples\n",
      "        of lists and ndarrays.\n",
      "    dtype : data-type, optional\n",
      "        By default, the data-type is inferred from the input data.\n",
      "    order : {'C', 'F'}, optional\n",
      "        Whether to use row-major (C-style) or\n",
      "        column-major (Fortran-style) memory representation.\n",
      "        Defaults to 'C'.\n",
      "    \n",
      "    Returns\n",
      "    -------\n",
      "    out : ndarray\n",
      "        Array interpretation of `a`.  No copy is performed if the input\n",
      "        is already an ndarray with matching dtype and order.  If `a` is a\n",
      "        subclass of ndarray, a base class ndarray is returned.\n",
      "    \n",
      "    See Also\n",
      "    --------\n",
      "    asanyarray : Similar function which passes through subclasses.\n",
      "    ascontiguousarray : Convert input to a contiguous array.\n",
      "    asfarray : Convert input to a floating point ndarray.\n",
      "    asfortranarray : Convert input to an ndarray with column-major\n",
      "                     memory order.\n",
      "    asarray_chkfinite : Similar function which checks input for NaNs and Infs.\n",
      "    fromiter : Create an array from an iterator.\n",
      "    fromfunction : Construct an array by executing a function on grid\n",
      "                   positions.\n",
      "    \n",
      "    Examples\n",
      "    --------\n",
      "    Convert a list into an array:\n",
      "    \n",
      "    >>> a = [1, 2]\n",
      "    >>> np.asarray(a)\n",
      "    array([1, 2])\n",
      "    \n",
      "    Existing arrays are not copied:\n",
      "    \n",
      "    >>> a = np.array([1, 2])\n",
      "    >>> np.asarray(a) is a\n",
      "    True\n",
      "    \n",
      "    If `dtype` is set, array is copied only if dtype does not match:\n",
      "    \n",
      "    >>> a = np.array([1, 2], dtype=np.float32)\n",
      "    >>> np.asarray(a, dtype=np.float32) is a\n",
      "    True\n",
      "    >>> np.asarray(a, dtype=np.float64) is a\n",
      "    False\n",
      "    \n",
      "    Contrary to `asanyarray`, ndarray subclasses are not passed through:\n",
      "    \n",
      "    >>> issubclass(np.recarray, np.ndarray)\n",
      "    True\n",
      "    >>> a = np.array([(1.0, 2), (3.0, 4)], dtype='f4,i4').view(np.recarray)\n",
      "    >>> np.asarray(a) is a\n",
      "    False\n",
      "    >>> np.asanyarray(a) is a\n",
      "    True\n",
      "\n"
     ]
    }
   ],
   "source": [
    "help(np.asarray)"
   ]
  },
  {
   "cell_type": "markdown",
   "metadata": {},
   "source": [
    "#### Problem 3 \n",
    "\n",
    "Drop all `np.nan` values from a NumPy array"
   ]
  },
  {
   "cell_type": "markdown",
   "metadata": {},
   "source": [
    "### Are there any questions?\n",
    "\n",
    "To recap:\n",
    "\n",
    "*Broadcasting* \n",
    "\n",
    "We can broadcast operations from an NumPy array of smaller shape to match the size of the larger array provided it follows these rules:\n",
    "\n",
    "<img src=\"images/broadcasting.png\"/>\n",
    "\n",
    "**Rules**\n",
    "- 1: If the two arrays differ in their number of dimensions, the shape of the one with fewer dimensions is padded with ones on its leading (left) side.\n",
    "- 2: If the shape of the two arrays does not match in any dimension, the array with shape equal to 1 in that dimension is stretched to match the other shape.\n",
    "- 3: If in any dimension the sizes disagree and neither is equal to 1, an error is raised.\n",
    "\n",
    "*NumPy arrays can work with images as they are basically just RGB pixels!*\n",
    "\n",
    "*Selecting subsets of NumPy arrays*\n",
    "We can use boolean masks to make a sub-array from a given NumPy array:"
   ]
  },
  {
   "cell_type": "code",
   "execution_count": 100,
   "metadata": {},
   "outputs": [
    {
     "name": "stdout",
     "output_type": "stream",
     "text": [
      "[ 24 113 159  82  69  37]\n",
      "[False  True  True  True  True False]\n",
      "[113 159  82  69]\n"
     ]
    }
   ],
   "source": [
    "random_arr = np.random.randint(200, size=(6,))\n",
    "print(random_arr)\n",
    "print((random_arr > 50) & (random_arr < 160))\n",
    "print(random_arr[(random_arr > 50) & (random_arr < 160)])"
   ]
  }
 ],
 "metadata": {
  "kernelspec": {
   "display_name": "Python 3",
   "language": "python",
   "name": "python3"
  },
  "language_info": {
   "codemirror_mode": {
    "name": "ipython",
    "version": 3
   },
   "file_extension": ".py",
   "mimetype": "text/x-python",
   "name": "python",
   "nbconvert_exporter": "python",
   "pygments_lexer": "ipython3",
   "version": "3.9.0"
  }
 },
 "nbformat": 4,
 "nbformat_minor": 4
}
