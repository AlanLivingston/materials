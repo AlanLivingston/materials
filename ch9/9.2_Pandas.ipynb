{
 "cells": [
  {
   "cell_type": "markdown",
   "metadata": {},
   "source": [
    "## Topics\n",
    "\n",
    "We'll wrap up our discussion on Scientific Python by discussing `pandas`."
   ]
  },
  {
   "cell_type": "markdown",
   "metadata": {},
   "source": [
    "### Pandas\n",
    "\n",
    "Pandas builds on the structured data tools available in NumPy by giving us a data structure called a `DataFrame`, which acts as a multidimensional array with row and column labels, heterogeneous types, and/or missing data.\n",
    "\n",
    "\"As well as offering a convenient storage interface for labeled data, Pandas implements a number of powerful data operations familiar to users of both database frameworks and spreadsheet programs.\" - Python Data Science Handbook, Jake VanderPlas"
   ]
  },
  {
   "cell_type": "code",
   "execution_count": 45,
   "metadata": {},
   "outputs": [],
   "source": [
    "import pandas as pd"
   ]
  },
  {
   "cell_type": "markdown",
   "metadata": {},
   "source": [
    "### Pandas: Series Object\n",
    "A Series is a one-dimensional array of indexed data. It wraps:\n",
    "\n",
    "- A sequence of values (accessible via values attribute).\n",
    "- A sequence of indices (accessible via index attribute)."
   ]
  },
  {
   "cell_type": "code",
   "execution_count": 12,
   "metadata": {},
   "outputs": [
    {
     "name": "stdout",
     "output_type": "stream",
     "text": [
      "0    10\n",
      "1    11\n",
      "2    12\n",
      "3    13\n",
      "4    14\n",
      "5    15\n",
      "6    16\n",
      "7    17\n",
      "8    18\n",
      "9    19\n",
      "dtype: int64\n"
     ]
    }
   ],
   "source": [
    "data = pd.Series(range(10,20))\n",
    "print(data)"
   ]
  },
  {
   "cell_type": "code",
   "execution_count": 15,
   "metadata": {},
   "outputs": [
    {
     "name": "stdout",
     "output_type": "stream",
     "text": [
      "[10 11 12 13 14 15 16 17 18 19]\n",
      "RangeIndex(start=0, stop=10, step=1)\n",
      "int64\n"
     ]
    }
   ],
   "source": [
    "print(data.values)\n",
    "print(data.index)\n",
    "print(data.dtype)"
   ]
  },
  {
   "cell_type": "markdown",
   "metadata": {},
   "source": [
    "Data is accessible by offset (index) in square brackets."
   ]
  },
  {
   "cell_type": "code",
   "execution_count": 16,
   "metadata": {},
   "outputs": [
    {
     "name": "stdout",
     "output_type": "stream",
     "text": [
      "10\n",
      "2    12\n",
      "3    13\n",
      "4    14\n",
      "dtype: int64\n"
     ]
    }
   ],
   "source": [
    "print(data[0])\n",
    "print(data[2:5])"
   ]
  },
  {
   "cell_type": "markdown",
   "metadata": {},
   "source": [
    "We may consider a Pandas Series object as a generalized NumPy array. Whereas a NumPy array has an implicit integer index, a Pandas Series has an explicit index that may consist of values of any type."
   ]
  },
  {
   "cell_type": "code",
   "execution_count": 19,
   "metadata": {},
   "outputs": [
    {
     "name": "stdout",
     "output_type": "stream",
     "text": [
      "10\n",
      "19\n",
      "Index(['ten', 'eleven', '12', 13, 14, 15, 16, 17, 18, 19], dtype='object')\n"
     ]
    }
   ],
   "source": [
    "data = pd.Series(range(10,20), index=['ten', 'eleven', '12', 13, 14, 15, 16, 17, 18, 19])\n",
    "print(data['ten'])\n",
    "print(data[19])\n",
    "print(data.index)"
   ]
  },
  {
   "cell_type": "markdown",
   "metadata": {},
   "source": [
    "There exists no requirement that an index be sequential."
   ]
  },
  {
   "cell_type": "code",
   "execution_count": 20,
   "metadata": {},
   "outputs": [
    {
     "name": "stdout",
     "output_type": "stream",
     "text": [
      "15\n",
      "16\n",
      "Index([20, 19, 18, 15, 14, 'six', 'eight', 'seven', 9, 10], dtype='object')\n"
     ]
    }
   ],
   "source": [
    "data = pd.Series(range(10,20), index=[20, 19, 18, 15, 14, 'six', 'eight', 'seven', 9, 10])\n",
    "print(data['six'])\n",
    "print(data['eight'])\n",
    "print(data.index)"
   ]
  },
  {
   "cell_type": "markdown",
   "metadata": {},
   "source": [
    "We may also consider a Pandas `Series` a specialized dictionary. Whereas a Python `dict` maps a set of arbitrary keys to a set of arbitrary values, a Series maps a set of typed keys to a set of typed values.\n",
    "\n",
    "\"This typing is important: just as the type-specific compiled code behind a NumPy array makes it more efficient than a Python list for certain operations, the type of information of a Pandas `Series` makes it more efficient than a Python dictionary for certain operations.\""
   ]
  },
  {
   "cell_type": "code",
   "execution_count": 22,
   "metadata": {},
   "outputs": [
    {
     "name": "stdout",
     "output_type": "stream",
     "text": [
      "Jean-luc Picard         STNG\n",
      "James T. Kirk            TOG\n",
      "Saru               Discovery\n",
      "Benjamin Sisko           DS9\n",
      "Kathryn Janeway      Voyager\n",
      "dtype: object\n",
      "Voyager\n"
     ]
    }
   ],
   "source": [
    "star_trek_captains = {\n",
    "    'Jean-luc Picard': 'STNG',\n",
    "    'James T. Kirk': 'TOG',\n",
    "    'Saru': 'Discovery',\n",
    "    'Benjamin Sisko': 'DS9',\n",
    "    'Kathryn Janeway': 'Voyager'\n",
    "}\n",
    "star_trek_captains_series = pd.Series(star_trek_captains)\n",
    "print(star_trek_captains_series)\n",
    "print(star_trek_captains_series['Kathryn Janeway'])"
   ]
  },
  {
   "cell_type": "markdown",
   "metadata": {},
   "source": [
    "The Series supports array-style operations, like slicing:"
   ]
  },
  {
   "cell_type": "code",
   "execution_count": 23,
   "metadata": {},
   "outputs": [
    {
     "data": {
      "text/plain": [
       "Saru               Discovery\n",
       "Benjamin Sisko           DS9\n",
       "Kathryn Janeway      Voyager\n",
       "dtype: object"
      ]
     },
     "execution_count": 23,
     "metadata": {},
     "output_type": "execute_result"
    }
   ],
   "source": [
    "star_trek_captains_series['Saru': 'Kathryn Janeway']"
   ]
  },
  {
   "cell_type": "markdown",
   "metadata": {},
   "source": [
    "Pandas Series can be created from:\n",
    "\n",
    "- Lists, NumPy arrays: index defaults to sequence of integers. \n",
    "- Dictionaries: index defaults to sorted keys of the dictionary. \n",
    "- Scalars: value repeated to fill given index."
   ]
  },
  {
   "cell_type": "code",
   "execution_count": 24,
   "metadata": {},
   "outputs": [
    {
     "data": {
      "text/plain": [
       "1    42\n",
       "2    42\n",
       "3    42\n",
       "dtype: int64"
      ]
     },
     "execution_count": 24,
     "metadata": {},
     "output_type": "execute_result"
    }
   ],
   "source": [
    "pd.Series(42, index=[1, 2, 3])"
   ]
  },
  {
   "cell_type": "markdown",
   "metadata": {},
   "source": [
    "\"If a Series is an analog of a one-dimensional array with flexible indices, a DataFrame is an analog of a two-dimensional array with both flexible row indices and flexible column names.\"\n",
    "\n",
    "\"Just as you might think of a two-dimensional array as an ordered sequence of aligned one-dimensional columns, you can think of a DataFrame as a sequence of aligned Series objects. Here, by 'aligned' we mean that they share the same index.\""
   ]
  },
  {
   "cell_type": "markdown",
   "metadata": {},
   "source": [
    "### Pandas `DataFrame` Object"
   ]
  },
  {
   "cell_type": "code",
   "execution_count": 25,
   "metadata": {},
   "outputs": [
    {
     "data": {
      "text/html": [
       "<div>\n",
       "<style scoped>\n",
       "    .dataframe tbody tr th:only-of-type {\n",
       "        vertical-align: middle;\n",
       "    }\n",
       "\n",
       "    .dataframe tbody tr th {\n",
       "        vertical-align: top;\n",
       "    }\n",
       "\n",
       "    .dataframe thead th {\n",
       "        text-align: right;\n",
       "    }\n",
       "</style>\n",
       "<table border=\"1\" class=\"dataframe\">\n",
       "  <thead>\n",
       "    <tr style=\"text-align: right;\">\n",
       "      <th></th>\n",
       "      <th>ranking</th>\n",
       "      <th>season</th>\n",
       "    </tr>\n",
       "  </thead>\n",
       "  <tbody>\n",
       "    <tr>\n",
       "      <th>Jean-luc Picard</th>\n",
       "      <td>1</td>\n",
       "      <td>STNG</td>\n",
       "    </tr>\n",
       "    <tr>\n",
       "      <th>James T. Kirk</th>\n",
       "      <td>5</td>\n",
       "      <td>TOG</td>\n",
       "    </tr>\n",
       "    <tr>\n",
       "      <th>Saru</th>\n",
       "      <td>4</td>\n",
       "      <td>Discovery</td>\n",
       "    </tr>\n",
       "    <tr>\n",
       "      <th>Benjamin Sisko</th>\n",
       "      <td>2</td>\n",
       "      <td>DS9</td>\n",
       "    </tr>\n",
       "    <tr>\n",
       "      <th>Kathryn Janeway</th>\n",
       "      <td>3</td>\n",
       "      <td>Voyager</td>\n",
       "    </tr>\n",
       "  </tbody>\n",
       "</table>\n",
       "</div>"
      ],
      "text/plain": [
       "                 ranking     season\n",
       "Jean-luc Picard        1       STNG\n",
       "James T. Kirk          5        TOG\n",
       "Saru                   4  Discovery\n",
       "Benjamin Sisko         2        DS9\n",
       "Kathryn Janeway        3    Voyager"
      ]
     },
     "execution_count": 25,
     "metadata": {},
     "output_type": "execute_result"
    }
   ],
   "source": [
    "star_trek_captains = {\n",
    "    'Jean-luc Picard': 'STNG',\n",
    "    'James T. Kirk': 'TOG',\n",
    "    'Saru': 'Discovery',\n",
    "    'Benjamin Sisko': 'DS9',\n",
    "    'Kathryn Janeway': 'Voyager'\n",
    "}\n",
    "\n",
    "star_trek_captain_ranking = {\n",
    "    'Jean-luc Picard': 1,\n",
    "    'James T. Kirk': 5,\n",
    "    'Saru': 4,\n",
    "    'Benjamin Sisko': 2,\n",
    "    'Kathryn Janeway': 3\n",
    "}\n",
    "\n",
    "star_trek_captain_series = pd.Series(star_trek_captains)\n",
    "star_trek_captain_ranking_series = pd.Series(star_trek_captain_ranking)\n",
    "\n",
    "star_trek_df = pd.DataFrame({\n",
    "    'ranking': star_trek_captain_ranking_series,\n",
    "    'season': star_trek_captain_series\n",
    "})\n",
    "\n",
    "star_trek_df"
   ]
  },
  {
   "cell_type": "markdown",
   "metadata": {},
   "source": [
    "A `DataFrame` has attributes:\n",
    "\n",
    "- index: An Index object. The values are the row/index labels.\n",
    "- columns: An index object. The values are the column labels."
   ]
  },
  {
   "cell_type": "code",
   "execution_count": 26,
   "metadata": {},
   "outputs": [
    {
     "name": "stdout",
     "output_type": "stream",
     "text": [
      "Index(['Jean-luc Picard', 'James T. Kirk', 'Saru', 'Benjamin Sisko',\n",
      "       'Kathryn Janeway'],\n",
      "      dtype='object')\n",
      "Index(['ranking', 'season'], dtype='object')\n"
     ]
    }
   ],
   "source": [
    "print(star_trek_df.index)\n",
    "print(star_trek_df.columns)"
   ]
  },
  {
   "cell_type": "markdown",
   "metadata": {},
   "source": [
    "Another way to frame our understanding of the `DataFrame` object is to consider it a specialized dictionary. Whereas a dictionary maps arbitrary keys to arbitrary values, a `DataFrame` maps a column name to a `Series` of column data."
   ]
  },
  {
   "cell_type": "code",
   "execution_count": 29,
   "metadata": {},
   "outputs": [
    {
     "name": "stdout",
     "output_type": "stream",
     "text": [
      "===== DataFrame =====\n",
      "                 ranking     season\n",
      "Jean-luc Picard        1       STNG\n",
      "James T. Kirk          5        TOG\n",
      "Saru                   4  Discovery\n",
      "Benjamin Sisko         2        DS9\n",
      "Kathryn Janeway        3    Voyager\n",
      "===== Season =====\n",
      "Jean-luc Picard         STNG\n",
      "James T. Kirk            TOG\n",
      "Saru               Discovery\n",
      "Benjamin Sisko           DS9\n",
      "Kathryn Janeway      Voyager\n",
      "Name: season, dtype: object\n",
      "===== Ranking =====\n",
      "Jean-luc Picard    1\n",
      "James T. Kirk      5\n",
      "Saru               4\n",
      "Benjamin Sisko     2\n",
      "Kathryn Janeway    3\n",
      "Name: ranking, dtype: int64\n"
     ]
    }
   ],
   "source": [
    "print('===== DataFrame =====')\n",
    "print(star_trek_df)           # DataFrame\n",
    "print('===== Season =====')\n",
    "print(star_trek_df.season)\n",
    "print('===== Ranking =====')\n",
    "print(star_trek_df['ranking'])"
   ]
  },
  {
   "cell_type": "markdown",
   "metadata": {},
   "source": [
    "#### Data Indexing and Selection\n",
    "\n",
    "Because the `__getitem__` behavior of a `DataFrame` returns a column, our conceptualization of the `DataFrame` as a two-dimensional ndarray may be misleading. For this reason, the specialized dictionary conceptualization is preferable."
   ]
  },
  {
   "cell_type": "code",
   "execution_count": 38,
   "metadata": {},
   "outputs": [
    {
     "name": "stdout",
     "output_type": "stream",
     "text": [
      "Discovery\n",
      "Discovery\n"
     ]
    }
   ],
   "source": [
    "star_trek_captains = {\n",
    "    'Jean-luc Picard': 'STNG',\n",
    "    'James T. Kirk': 'TOG',\n",
    "    'Saru': 'Discovery',\n",
    "    'Benjamin Sisko': 'DS9',\n",
    "    'Kathryn Janeway': 'Voyager'\n",
    "}\n",
    "\n",
    "star_trek_captain_series = pd.Series(star_trek_captains)\n",
    "\n",
    "# Access an element by index like a dictionary\n",
    "print(star_trek_captain_series['Saru'])\n",
    "\n",
    "# Access element by implicit integer index\n",
    "print(star_trek_captain_series[2])"
   ]
  },
  {
   "cell_type": "markdown",
   "metadata": {},
   "source": [
    "#### Data Indexing and Selection: Series"
   ]
  },
  {
   "cell_type": "code",
   "execution_count": 52,
   "metadata": {},
   "outputs": [
    {
     "name": "stdout",
     "output_type": "stream",
     "text": [
      "===== Extend series =====\n",
      "Jean-luc Picard          STNG\n",
      "James T. Kirk             TOG\n",
      "Saru                Discovery\n",
      "Benjamin Sisko            DS9\n",
      "Kathryn Janeway       Voyager\n",
      "John Archer        Enterprise\n",
      "dtype: object\n",
      "===== Slicing series =====\n",
      "Jean-luc Picard         STNG\n",
      "James T. Kirk            TOG\n",
      "Saru               Discovery\n",
      "dtype: object\n",
      "Jean-luc Picard         STNG\n",
      "James T. Kirk            TOG\n",
      "Saru               Discovery\n",
      "dtype: object\n",
      "===== Masking series =====\n",
      "Jean-luc Picard          STNG\n",
      "Saru                Discovery\n",
      "Benjamin Sisko            DS9\n",
      "Kathryn Janeway       Voyager\n",
      "John Archer        Enterprise\n",
      "dtype: object\n",
      "===== Fancying indexing in series =====\n"
     ]
    },
    {
     "data": {
      "text/plain": [
       "Jean-luc Picard    STNG\n",
       "Benjamin Sisko      DS9\n",
       "dtype: object"
      ]
     },
     "execution_count": 52,
     "metadata": {},
     "output_type": "execute_result"
    }
   ],
   "source": [
    "# Extend series\n",
    "print('===== Extend series =====')\n",
    "star_trek_captain_series['John Archer'] = 'Enterprise'\n",
    "print(star_trek_captain_series)\n",
    "# Slicing by explicit index\n",
    "print('===== Slicing series =====')\n",
    "print(star_trek_captain_series['Jean-luc Picard':'Saru'])\n",
    "print(star_trek_captain_series[0:3])\n",
    "# Masking \n",
    "print('===== Masking series =====')\n",
    "print(star_trek_captain_series[(star_trek_captain_series != 'TOG')])\n",
    "# Fancy Indexing!\n",
    "print('===== Fancying indexing in series =====')\n",
    "star_trek_captain_series[['Jean-luc Picard', 'Benjamin Sisko']]"
   ]
  },
  {
   "cell_type": "markdown",
   "metadata": {},
   "source": [
    "#### Data Indexers: Series"
   ]
  },
  {
   "cell_type": "code",
   "execution_count": 56,
   "metadata": {},
   "outputs": [
    {
     "name": "stdout",
     "output_type": "stream",
     "text": [
      "===== Always reference Explicit Index =====\n",
      "Discovery\n",
      "Discovery\n",
      "Saru               Discovery\n",
      "Benjamin Sisko           DS9\n",
      "Kathryn Janeway      Voyager\n",
      "dtype: object\n",
      "===== Always reference Implicit Index =====\n",
      "TOG\n",
      "James T. Kirk          TOG\n",
      "Saru             Discovery\n",
      "dtype: object\n"
     ]
    }
   ],
   "source": [
    "print('===== Always reference Explicit Index =====')\n",
    "print(star_trek_captain_series['Saru'])\n",
    "print(star_trek_captain_series.loc['Saru'])\n",
    "print(star_trek_captain_series.loc['Saru': 'Kathryn Janeway'])\n",
    "print('===== Always reference Implicit Index =====')\n",
    "print(star_trek_captain_series.iloc[1])\n",
    "print(star_trek_captain_series.iloc[1:3])"
   ]
  },
  {
   "cell_type": "markdown",
   "metadata": {},
   "source": [
    "#### Data Selection: `DataFrame`"
   ]
  },
  {
   "cell_type": "code",
   "execution_count": 4,
   "metadata": {},
   "outputs": [
    {
     "data": {
      "text/html": [
       "<div>\n",
       "<style scoped>\n",
       "    .dataframe tbody tr th:only-of-type {\n",
       "        vertical-align: middle;\n",
       "    }\n",
       "\n",
       "    .dataframe tbody tr th {\n",
       "        vertical-align: top;\n",
       "    }\n",
       "\n",
       "    .dataframe thead th {\n",
       "        text-align: right;\n",
       "    }\n",
       "</style>\n",
       "<table border=\"1\" class=\"dataframe\">\n",
       "  <thead>\n",
       "    <tr style=\"text-align: right;\">\n",
       "      <th></th>\n",
       "      <th>season</th>\n",
       "      <th>ranking</th>\n",
       "      <th>name</th>\n",
       "    </tr>\n",
       "  </thead>\n",
       "  <tbody>\n",
       "    <tr>\n",
       "      <th>Jean-luc Picard</th>\n",
       "      <td>STNG</td>\n",
       "      <td>1</td>\n",
       "      <td>Jean-luc Picard</td>\n",
       "    </tr>\n",
       "    <tr>\n",
       "      <th>James T. Kirk</th>\n",
       "      <td>TOG</td>\n",
       "      <td>5</td>\n",
       "      <td>James T. Kirk</td>\n",
       "    </tr>\n",
       "    <tr>\n",
       "      <th>Saru</th>\n",
       "      <td>Discovery</td>\n",
       "      <td>4</td>\n",
       "      <td>Saru</td>\n",
       "    </tr>\n",
       "    <tr>\n",
       "      <th>Benjamin Sisko</th>\n",
       "      <td>DS9</td>\n",
       "      <td>2</td>\n",
       "      <td>Benjamin Sisko</td>\n",
       "    </tr>\n",
       "    <tr>\n",
       "      <th>Kathryn Janeway</th>\n",
       "      <td>Voyager</td>\n",
       "      <td>3</td>\n",
       "      <td>Kathryn Janeway</td>\n",
       "    </tr>\n",
       "  </tbody>\n",
       "</table>\n",
       "</div>"
      ],
      "text/plain": [
       "                    season  ranking             name\n",
       "Jean-luc Picard       STNG        1  Jean-luc Picard\n",
       "James T. Kirk          TOG        5    James T. Kirk\n",
       "Saru             Discovery        4             Saru\n",
       "Benjamin Sisko         DS9        2   Benjamin Sisko\n",
       "Kathryn Janeway    Voyager        3  Kathryn Janeway"
      ]
     },
     "execution_count": 4,
     "metadata": {},
     "output_type": "execute_result"
    }
   ],
   "source": [
    "star_trek_df = pd.DataFrame({\n",
    "    'season': \n",
    "    ['STNG',\n",
    "        'TOG',\n",
    "        'Discovery',\n",
    "        'DS9',\n",
    "        'Voyager'\n",
    "    ],\n",
    "    'ranking': [1,5,4,2,3],\n",
    "    'name': ['Jean-luc Picard','James T. Kirk', 'Saru','Benjamin Sisko','Kathryn Janeway']\n",
    "}, index=['Jean-luc Picard','James T. Kirk', 'Saru','Benjamin Sisko','Kathryn Janeway'])\n",
    "\n",
    "star_trek_df"
   ]
  },
  {
   "cell_type": "code",
   "execution_count": 5,
   "metadata": {},
   "outputs": [
    {
     "name": "stdout",
     "output_type": "stream",
     "text": [
      "Index(['season', 'ranking', 'name'], dtype='object')\n",
      "Jean-luc Picard         STNG\n",
      "James T. Kirk            TOG\n",
      "Saru               Discovery\n",
      "Benjamin Sisko           DS9\n",
      "Kathryn Janeway      Voyager\n",
      "Name: season, dtype: object\n",
      "Jean-luc Picard         STNG\n",
      "James T. Kirk            TOG\n",
      "Saru               Discovery\n",
      "Benjamin Sisko           DS9\n",
      "Kathryn Janeway      Voyager\n",
      "Name: season, dtype: object\n",
      "True\n"
     ]
    }
   ],
   "source": [
    "print(star_trek_df.columns)\n",
    "print(star_trek_df['season'])   # dict style index\n",
    "print(star_trek_df.season)      # attribute style access with column names that are strings\n",
    "print(star_trek_df['season'] is star_trek_df.season)"
   ]
  },
  {
   "cell_type": "code",
   "execution_count": 6,
   "metadata": {},
   "outputs": [
    {
     "name": "stdout",
     "output_type": "stream",
     "text": [
      "Jean-luc Picard    Captain Jean-luc Picard is ranked 1.\n",
      "James T. Kirk        Captain James T. Kirk is ranked 5.\n",
      "Saru                          Captain Saru is ranked 4.\n",
      "Benjamin Sisko      Captain Benjamin Sisko is ranked 2.\n",
      "Kathryn Janeway    Captain Kathryn Janeway is ranked 3.\n",
      "Name: Full Position, dtype: object\n"
     ]
    }
   ],
   "source": [
    "# Add a new column using dict style assignment\n",
    "star_trek_df['Full Position'] = \"Captain \" + star_trek_df[\"name\"] + \" is ranked \" + star_trek_df.ranking.astype(str) + \".\"\n",
    "print(star_trek_df['Full Position'])"
   ]
  },
  {
   "cell_type": "code",
   "execution_count": 7,
   "metadata": {},
   "outputs": [
    {
     "name": "stdout",
     "output_type": "stream",
     "text": [
      "                    season  ranking             name  \\\n",
      "Jean-luc Picard       STNG        1  Jean-luc Picard   \n",
      "James T. Kirk          TOG        5    James T. Kirk   \n",
      "Saru             Discovery        4             Saru   \n",
      "Benjamin Sisko         DS9        2   Benjamin Sisko   \n",
      "Kathryn Janeway    Voyager        3  Kathryn Janeway   \n",
      "\n",
      "                                        Full Position  \n",
      "Jean-luc Picard  Captain Jean-luc Picard is ranked 1.  \n",
      "James T. Kirk      Captain James T. Kirk is ranked 5.  \n",
      "Saru                        Captain Saru is ranked 4.  \n",
      "Benjamin Sisko    Captain Benjamin Sisko is ranked 2.  \n",
      "Kathryn Janeway  Captain Kathryn Janeway is ranked 3.  \n"
     ]
    },
    {
     "data": {
      "text/html": [
       "<div>\n",
       "<style scoped>\n",
       "    .dataframe tbody tr th:only-of-type {\n",
       "        vertical-align: middle;\n",
       "    }\n",
       "\n",
       "    .dataframe tbody tr th {\n",
       "        vertical-align: top;\n",
       "    }\n",
       "\n",
       "    .dataframe thead th {\n",
       "        text-align: right;\n",
       "    }\n",
       "</style>\n",
       "<table border=\"1\" class=\"dataframe\">\n",
       "  <thead>\n",
       "    <tr style=\"text-align: right;\">\n",
       "      <th></th>\n",
       "      <th>Jean-luc Picard</th>\n",
       "      <th>James T. Kirk</th>\n",
       "      <th>Saru</th>\n",
       "      <th>Benjamin Sisko</th>\n",
       "      <th>Kathryn Janeway</th>\n",
       "    </tr>\n",
       "  </thead>\n",
       "  <tbody>\n",
       "    <tr>\n",
       "      <th>season</th>\n",
       "      <td>STNG</td>\n",
       "      <td>TOG</td>\n",
       "      <td>Discovery</td>\n",
       "      <td>DS9</td>\n",
       "      <td>Voyager</td>\n",
       "    </tr>\n",
       "    <tr>\n",
       "      <th>ranking</th>\n",
       "      <td>1</td>\n",
       "      <td>5</td>\n",
       "      <td>4</td>\n",
       "      <td>2</td>\n",
       "      <td>3</td>\n",
       "    </tr>\n",
       "    <tr>\n",
       "      <th>name</th>\n",
       "      <td>Jean-luc Picard</td>\n",
       "      <td>James T. Kirk</td>\n",
       "      <td>Saru</td>\n",
       "      <td>Benjamin Sisko</td>\n",
       "      <td>Kathryn Janeway</td>\n",
       "    </tr>\n",
       "    <tr>\n",
       "      <th>Full Position</th>\n",
       "      <td>Captain Jean-luc Picard is ranked 1.</td>\n",
       "      <td>Captain James T. Kirk is ranked 5.</td>\n",
       "      <td>Captain Saru is ranked 4.</td>\n",
       "      <td>Captain Benjamin Sisko is ranked 2.</td>\n",
       "      <td>Captain Kathryn Janeway is ranked 3.</td>\n",
       "    </tr>\n",
       "  </tbody>\n",
       "</table>\n",
       "</div>"
      ],
      "text/plain": [
       "                                    Jean-luc Picard  \\\n",
       "season                                         STNG   \n",
       "ranking                                           1   \n",
       "name                                Jean-luc Picard   \n",
       "Full Position  Captain Jean-luc Picard is ranked 1.   \n",
       "\n",
       "                                    James T. Kirk                       Saru  \\\n",
       "season                                        TOG                  Discovery   \n",
       "ranking                                         5                          4   \n",
       "name                                James T. Kirk                       Saru   \n",
       "Full Position  Captain James T. Kirk is ranked 5.  Captain Saru is ranked 4.   \n",
       "\n",
       "                                    Benjamin Sisko  \\\n",
       "season                                         DS9   \n",
       "ranking                                          2   \n",
       "name                                Benjamin Sisko   \n",
       "Full Position  Captain Benjamin Sisko is ranked 2.   \n",
       "\n",
       "                                    Kathryn Janeway  \n",
       "season                                      Voyager  \n",
       "ranking                                           3  \n",
       "name                                Kathryn Janeway  \n",
       "Full Position  Captain Kathryn Janeway is ranked 3.  "
      ]
     },
     "execution_count": 7,
     "metadata": {},
     "output_type": "execute_result"
    }
   ],
   "source": [
    "print(star_trek_df)\n",
    "# Transpose\n",
    "star_trek_df.T"
   ]
  },
  {
   "cell_type": "code",
   "execution_count": 8,
   "metadata": {},
   "outputs": [
    {
     "data": {
      "text/plain": [
       "array([['STNG', 1, 'Jean-luc Picard',\n",
       "        'Captain Jean-luc Picard is ranked 1.'],\n",
       "       ['TOG', 5, 'James T. Kirk', 'Captain James T. Kirk is ranked 5.'],\n",
       "       ['Discovery', 4, 'Saru', 'Captain Saru is ranked 4.'],\n",
       "       ['DS9', 2, 'Benjamin Sisko',\n",
       "        'Captain Benjamin Sisko is ranked 2.'],\n",
       "       ['Voyager', 3, 'Kathryn Janeway',\n",
       "        'Captain Kathryn Janeway is ranked 3.']], dtype=object)"
      ]
     },
     "execution_count": 8,
     "metadata": {},
     "output_type": "execute_result"
    }
   ],
   "source": [
    "# Values as 2D Array\n",
    "star_trek_df.values"
   ]
  },
  {
   "cell_type": "markdown",
   "metadata": {},
   "source": [
    "#### Data Indexing: `DataFrame`s"
   ]
  },
  {
   "cell_type": "code",
   "execution_count": 9,
   "metadata": {},
   "outputs": [
    {
     "data": {
      "text/plain": [
       "season                           Discovery\n",
       "ranking                                  4\n",
       "name                                  Saru\n",
       "Full Position    Captain Saru is ranked 4.\n",
       "Name: Saru, dtype: object"
      ]
     },
     "execution_count": 9,
     "metadata": {},
     "output_type": "execute_result"
    }
   ],
   "source": [
    "star_trek_df.loc['Saru']"
   ]
  },
  {
   "cell_type": "code",
   "execution_count": 10,
   "metadata": {},
   "outputs": [
    {
     "data": {
      "text/plain": [
       "'Captain Saru is ranked 4.'"
      ]
     },
     "execution_count": 10,
     "metadata": {},
     "output_type": "execute_result"
    }
   ],
   "source": [
    "star_trek_df.loc['Saru', 'Full Position']"
   ]
  },
  {
   "cell_type": "code",
   "execution_count": 11,
   "metadata": {},
   "outputs": [
    {
     "data": {
      "text/plain": [
       "'Captain Saru is ranked 4.'"
      ]
     },
     "execution_count": 11,
     "metadata": {},
     "output_type": "execute_result"
    }
   ],
   "source": [
    "star_trek_df.iloc[2,3]"
   ]
  },
  {
   "cell_type": "code",
   "execution_count": 20,
   "metadata": {},
   "outputs": [
    {
     "data": {
      "text/plain": [
       "Saru                          Captain Saru is ranked 4.\n",
       "Benjamin Sisko      Captain Benjamin Sisko is ranked 2.\n",
       "Kathryn Janeway    Captain Kathryn Janeway is ranked 3.\n",
       "Name: Full Position, dtype: object"
      ]
     },
     "execution_count": 20,
     "metadata": {},
     "output_type": "execute_result"
    }
   ],
   "source": [
    "star_trek_df.loc['Saru':'Kathryn Janeway', 'Full Position']"
   ]
  },
  {
   "cell_type": "code",
   "execution_count": 21,
   "metadata": {},
   "outputs": [
    {
     "data": {
      "text/html": [
       "<div>\n",
       "<style scoped>\n",
       "    .dataframe tbody tr th:only-of-type {\n",
       "        vertical-align: middle;\n",
       "    }\n",
       "\n",
       "    .dataframe tbody tr th {\n",
       "        vertical-align: top;\n",
       "    }\n",
       "\n",
       "    .dataframe thead th {\n",
       "        text-align: right;\n",
       "    }\n",
       "</style>\n",
       "<table border=\"1\" class=\"dataframe\">\n",
       "  <thead>\n",
       "    <tr style=\"text-align: right;\">\n",
       "      <th></th>\n",
       "      <th>season</th>\n",
       "      <th>ranking</th>\n",
       "      <th>name</th>\n",
       "      <th>Full Position</th>\n",
       "    </tr>\n",
       "  </thead>\n",
       "  <tbody>\n",
       "    <tr>\n",
       "      <th>Saru</th>\n",
       "      <td>Discovery</td>\n",
       "      <td>4</td>\n",
       "      <td>Saru</td>\n",
       "      <td>Captain Saru is ranked 4.</td>\n",
       "    </tr>\n",
       "    <tr>\n",
       "      <th>Benjamin Sisko</th>\n",
       "      <td>DS9</td>\n",
       "      <td>2</td>\n",
       "      <td>Benjamin Sisko</td>\n",
       "      <td>Captain Benjamin Sisko is ranked 2.</td>\n",
       "    </tr>\n",
       "    <tr>\n",
       "      <th>Kathryn Janeway</th>\n",
       "      <td>Voyager</td>\n",
       "      <td>3</td>\n",
       "      <td>Kathryn Janeway</td>\n",
       "      <td>Captain Kathryn Janeway is ranked 3.</td>\n",
       "    </tr>\n",
       "  </tbody>\n",
       "</table>\n",
       "</div>"
      ],
      "text/plain": [
       "                    season  ranking             name  \\\n",
       "Saru             Discovery        4             Saru   \n",
       "Benjamin Sisko         DS9        2   Benjamin Sisko   \n",
       "Kathryn Janeway    Voyager        3  Kathryn Janeway   \n",
       "\n",
       "                                        Full Position  \n",
       "Saru                        Captain Saru is ranked 4.  \n",
       "Benjamin Sisko    Captain Benjamin Sisko is ranked 2.  \n",
       "Kathryn Janeway  Captain Kathryn Janeway is ranked 3.  "
      ]
     },
     "execution_count": 21,
     "metadata": {},
     "output_type": "execute_result"
    }
   ],
   "source": [
    "star_trek_df.loc['Saru':'Kathryn Janeway']"
   ]
  },
  {
   "cell_type": "code",
   "execution_count": 23,
   "metadata": {},
   "outputs": [
    {
     "data": {
      "text/plain": [
       "Saru                          Captain Saru is ranked 4.\n",
       "Benjamin Sisko      Captain Benjamin Sisko is ranked 2.\n",
       "Kathryn Janeway    Captain Kathryn Janeway is ranked 3.\n",
       "Name: Full Position, dtype: object"
      ]
     },
     "execution_count": 23,
     "metadata": {},
     "output_type": "execute_result"
    }
   ],
   "source": [
    "star_trek_df.iloc[2:5, 3]"
   ]
  },
  {
   "cell_type": "code",
   "execution_count": 24,
   "metadata": {},
   "outputs": [
    {
     "data": {
      "text/html": [
       "<div>\n",
       "<style scoped>\n",
       "    .dataframe tbody tr th:only-of-type {\n",
       "        vertical-align: middle;\n",
       "    }\n",
       "\n",
       "    .dataframe tbody tr th {\n",
       "        vertical-align: top;\n",
       "    }\n",
       "\n",
       "    .dataframe thead th {\n",
       "        text-align: right;\n",
       "    }\n",
       "</style>\n",
       "<table border=\"1\" class=\"dataframe\">\n",
       "  <thead>\n",
       "    <tr style=\"text-align: right;\">\n",
       "      <th></th>\n",
       "      <th>ranking</th>\n",
       "      <th>name</th>\n",
       "    </tr>\n",
       "  </thead>\n",
       "  <tbody>\n",
       "    <tr>\n",
       "      <th>Saru</th>\n",
       "      <td>4</td>\n",
       "      <td>Saru</td>\n",
       "    </tr>\n",
       "    <tr>\n",
       "      <th>Benjamin Sisko</th>\n",
       "      <td>2</td>\n",
       "      <td>Benjamin Sisko</td>\n",
       "    </tr>\n",
       "    <tr>\n",
       "      <th>Kathryn Janeway</th>\n",
       "      <td>3</td>\n",
       "      <td>Kathryn Janeway</td>\n",
       "    </tr>\n",
       "  </tbody>\n",
       "</table>\n",
       "</div>"
      ],
      "text/plain": [
       "                 ranking             name\n",
       "Saru                   4             Saru\n",
       "Benjamin Sisko         2   Benjamin Sisko\n",
       "Kathryn Janeway        3  Kathryn Janeway"
      ]
     },
     "execution_count": 24,
     "metadata": {},
     "output_type": "execute_result"
    }
   ],
   "source": [
    "star_trek_df.iloc[2:5, 1:3]"
   ]
  },
  {
   "cell_type": "code",
   "execution_count": 25,
   "metadata": {},
   "outputs": [
    {
     "data": {
      "text/html": [
       "<div>\n",
       "<style scoped>\n",
       "    .dataframe tbody tr th:only-of-type {\n",
       "        vertical-align: middle;\n",
       "    }\n",
       "\n",
       "    .dataframe tbody tr th {\n",
       "        vertical-align: top;\n",
       "    }\n",
       "\n",
       "    .dataframe thead th {\n",
       "        text-align: right;\n",
       "    }\n",
       "</style>\n",
       "<table border=\"1\" class=\"dataframe\">\n",
       "  <thead>\n",
       "    <tr style=\"text-align: right;\">\n",
       "      <th></th>\n",
       "      <th>season</th>\n",
       "      <th>ranking</th>\n",
       "      <th>name</th>\n",
       "      <th>Full Position</th>\n",
       "    </tr>\n",
       "  </thead>\n",
       "  <tbody>\n",
       "    <tr>\n",
       "      <th>Jean-luc Picard</th>\n",
       "      <td>STNG</td>\n",
       "      <td>1</td>\n",
       "      <td>Jean-luc Picard</td>\n",
       "      <td>Captain Jean-luc Picard is ranked 1.</td>\n",
       "    </tr>\n",
       "    <tr>\n",
       "      <th>Benjamin Sisko</th>\n",
       "      <td>DS9</td>\n",
       "      <td>2</td>\n",
       "      <td>Benjamin Sisko</td>\n",
       "      <td>Captain Benjamin Sisko is ranked 2.</td>\n",
       "    </tr>\n",
       "    <tr>\n",
       "      <th>Kathryn Janeway</th>\n",
       "      <td>Voyager</td>\n",
       "      <td>3</td>\n",
       "      <td>Kathryn Janeway</td>\n",
       "      <td>Captain Kathryn Janeway is ranked 3.</td>\n",
       "    </tr>\n",
       "  </tbody>\n",
       "</table>\n",
       "</div>"
      ],
      "text/plain": [
       "                  season  ranking             name  \\\n",
       "Jean-luc Picard     STNG        1  Jean-luc Picard   \n",
       "Benjamin Sisko       DS9        2   Benjamin Sisko   \n",
       "Kathryn Janeway  Voyager        3  Kathryn Janeway   \n",
       "\n",
       "                                        Full Position  \n",
       "Jean-luc Picard  Captain Jean-luc Picard is ranked 1.  \n",
       "Benjamin Sisko    Captain Benjamin Sisko is ranked 2.  \n",
       "Kathryn Janeway  Captain Kathryn Janeway is ranked 3.  "
      ]
     },
     "execution_count": 25,
     "metadata": {},
     "output_type": "execute_result"
    }
   ],
   "source": [
    "# Masking\n",
    "star_trek_df[star_trek_df['ranking'] < 4]"
   ]
  },
  {
   "cell_type": "code",
   "execution_count": 33,
   "metadata": {},
   "outputs": [
    {
     "data": {
      "text/html": [
       "<div>\n",
       "<style scoped>\n",
       "    .dataframe tbody tr th:only-of-type {\n",
       "        vertical-align: middle;\n",
       "    }\n",
       "\n",
       "    .dataframe tbody tr th {\n",
       "        vertical-align: top;\n",
       "    }\n",
       "\n",
       "    .dataframe thead th {\n",
       "        text-align: right;\n",
       "    }\n",
       "</style>\n",
       "<table border=\"1\" class=\"dataframe\">\n",
       "  <thead>\n",
       "    <tr style=\"text-align: right;\">\n",
       "      <th></th>\n",
       "      <th>season</th>\n",
       "      <th>ranking</th>\n",
       "      <th>name</th>\n",
       "      <th>Full Position</th>\n",
       "    </tr>\n",
       "  </thead>\n",
       "  <tbody>\n",
       "    <tr>\n",
       "      <th>Jean-luc Picard</th>\n",
       "      <td>STNG</td>\n",
       "      <td>1</td>\n",
       "      <td>Jean-luc Picard</td>\n",
       "      <td>Captain Jean-luc Picard is ranked 1.</td>\n",
       "    </tr>\n",
       "  </tbody>\n",
       "</table>\n",
       "</div>"
      ],
      "text/plain": [
       "                season  ranking             name  \\\n",
       "Jean-luc Picard   STNG        1  Jean-luc Picard   \n",
       "\n",
       "                                        Full Position  \n",
       "Jean-luc Picard  Captain Jean-luc Picard is ranked 1.  "
      ]
     },
     "execution_count": 33,
     "metadata": {},
     "output_type": "execute_result"
    }
   ],
   "source": [
    "# Masking\n",
    "star_trek_df[(star_trek_df['ranking'] < 4) & (star_trek_df.name.str.contains('-'))]"
   ]
  },
  {
   "cell_type": "markdown",
   "metadata": {},
   "source": [
    "#### `DataFrame` Operations\n",
    "\n",
    "Pandas `DataFrame` objects inherit efficient element-wise operations from NumPy. Additionally, `DataFrame` objects \"include a couple of useful twists\":\n",
    "\n",
    "For unary operations, ... ufuncs will *preserve index and column labels* in the output."
   ]
  },
  {
   "cell_type": "code",
   "execution_count": 36,
   "metadata": {},
   "outputs": [
    {
     "data": {
      "text/html": [
       "<div>\n",
       "<style scoped>\n",
       "    .dataframe tbody tr th:only-of-type {\n",
       "        vertical-align: middle;\n",
       "    }\n",
       "\n",
       "    .dataframe tbody tr th {\n",
       "        vertical-align: top;\n",
       "    }\n",
       "\n",
       "    .dataframe thead th {\n",
       "        text-align: right;\n",
       "    }\n",
       "</style>\n",
       "<table border=\"1\" class=\"dataframe\">\n",
       "  <thead>\n",
       "    <tr style=\"text-align: right;\">\n",
       "      <th></th>\n",
       "      <th>A</th>\n",
       "      <th>B</th>\n",
       "      <th>C</th>\n",
       "      <th>D</th>\n",
       "    </tr>\n",
       "  </thead>\n",
       "  <tbody>\n",
       "    <tr>\n",
       "      <th>0</th>\n",
       "      <td>3</td>\n",
       "      <td>9</td>\n",
       "      <td>3</td>\n",
       "      <td>2</td>\n",
       "    </tr>\n",
       "    <tr>\n",
       "      <th>1</th>\n",
       "      <td>4</td>\n",
       "      <td>2</td>\n",
       "      <td>2</td>\n",
       "      <td>7</td>\n",
       "    </tr>\n",
       "    <tr>\n",
       "      <th>2</th>\n",
       "      <td>7</td>\n",
       "      <td>6</td>\n",
       "      <td>8</td>\n",
       "      <td>6</td>\n",
       "    </tr>\n",
       "  </tbody>\n",
       "</table>\n",
       "</div>"
      ],
      "text/plain": [
       "   A  B  C  D\n",
       "0  3  9  3  2\n",
       "1  4  2  2  7\n",
       "2  7  6  8  6"
      ]
     },
     "execution_count": 36,
     "metadata": {},
     "output_type": "execute_result"
    }
   ],
   "source": [
    "import numpy as np \n",
    "df = pd.DataFrame(np.random.randint(0, 10, (3,4)), columns=['A','B','C','D'])\n",
    "df"
   ]
  },
  {
   "cell_type": "code",
   "execution_count": 37,
   "metadata": {},
   "outputs": [
    {
     "data": {
      "text/html": [
       "<div>\n",
       "<style scoped>\n",
       "    .dataframe tbody tr th:only-of-type {\n",
       "        vertical-align: middle;\n",
       "    }\n",
       "\n",
       "    .dataframe tbody tr th {\n",
       "        vertical-align: top;\n",
       "    }\n",
       "\n",
       "    .dataframe thead th {\n",
       "        text-align: right;\n",
       "    }\n",
       "</style>\n",
       "<table border=\"1\" class=\"dataframe\">\n",
       "  <thead>\n",
       "    <tr style=\"text-align: right;\">\n",
       "      <th></th>\n",
       "      <th>A</th>\n",
       "      <th>B</th>\n",
       "      <th>C</th>\n",
       "      <th>D</th>\n",
       "    </tr>\n",
       "  </thead>\n",
       "  <tbody>\n",
       "    <tr>\n",
       "      <th>0</th>\n",
       "      <td>7.071068e-01</td>\n",
       "      <td>0.707107</td>\n",
       "      <td>7.071068e-01</td>\n",
       "      <td>1.000000</td>\n",
       "    </tr>\n",
       "    <tr>\n",
       "      <th>1</th>\n",
       "      <td>1.224647e-16</td>\n",
       "      <td>1.000000</td>\n",
       "      <td>1.000000e+00</td>\n",
       "      <td>-0.707107</td>\n",
       "    </tr>\n",
       "    <tr>\n",
       "      <th>2</th>\n",
       "      <td>-7.071068e-01</td>\n",
       "      <td>-1.000000</td>\n",
       "      <td>-2.449294e-16</td>\n",
       "      <td>-1.000000</td>\n",
       "    </tr>\n",
       "  </tbody>\n",
       "</table>\n",
       "</div>"
      ],
      "text/plain": [
       "              A         B             C         D\n",
       "0  7.071068e-01  0.707107  7.071068e-01  1.000000\n",
       "1  1.224647e-16  1.000000  1.000000e+00 -0.707107\n",
       "2 -7.071068e-01 -1.000000 -2.449294e-16 -1.000000"
      ]
     },
     "execution_count": 37,
     "metadata": {},
     "output_type": "execute_result"
    }
   ],
   "source": [
    "np.sin(df * np.pi / 4)"
   ]
  },
  {
   "cell_type": "markdown",
   "metadata": {},
   "source": [
    "#### Creating a DataFrame from File\n",
    "\n",
    "```\n",
    "df_from_csv = pd.read_csv('/path/to/file.csv')\n",
    "df_from_web_csv = pd.read_csv('https://data.cityofchicago.org/api/views/x8fc-8rcq/rows.csv?accessType=DOWNLOAD')\n",
    "df_from_json_csv = pd.read_json('/path/to/file.json')\n",
    "df_from_web_json_csv = pd.read_json('https://website.com/resource')\n",
    "```"
   ]
  },
  {
   "cell_type": "code",
   "execution_count": 41,
   "metadata": {},
   "outputs": [
    {
     "data": {
      "text/html": [
       "<div>\n",
       "<style scoped>\n",
       "    .dataframe tbody tr th:only-of-type {\n",
       "        vertical-align: middle;\n",
       "    }\n",
       "\n",
       "    .dataframe tbody tr th {\n",
       "        vertical-align: top;\n",
       "    }\n",
       "\n",
       "    .dataframe thead th {\n",
       "        text-align: right;\n",
       "    }\n",
       "</style>\n",
       "<table border=\"1\" class=\"dataframe\">\n",
       "  <thead>\n",
       "    <tr style=\"text-align: right;\">\n",
       "      <th></th>\n",
       "      <th>NAME</th>\n",
       "      <th>HOURS OF OPERATION</th>\n",
       "      <th>ADDRESS</th>\n",
       "      <th>CITY</th>\n",
       "      <th>STATE</th>\n",
       "      <th>ZIP</th>\n",
       "      <th>PHONE</th>\n",
       "      <th>WEBSITE</th>\n",
       "      <th>LOCATION</th>\n",
       "    </tr>\n",
       "  </thead>\n",
       "  <tbody>\n",
       "    <tr>\n",
       "      <th>0</th>\n",
       "      <td>Vodak-East Side</td>\n",
       "      <td>Sun., Closed; Mon. &amp; Wed., Noon-8; Tue. &amp; Thu....</td>\n",
       "      <td>3710 E. 106th St.</td>\n",
       "      <td>Chicago</td>\n",
       "      <td>IL</td>\n",
       "      <td>60617</td>\n",
       "      <td>(312) 747-5281</td>\n",
       "      <td>https://www.chipublib.org/locations/71/</td>\n",
       "      <td>(41.70302747819179, -87.53350318470449)</td>\n",
       "    </tr>\n",
       "    <tr>\n",
       "      <th>1</th>\n",
       "      <td>Albany Park</td>\n",
       "      <td>Sun., Closed; Mon. &amp; Wed., 10-6; Tue. &amp; Thu., ...</td>\n",
       "      <td>3401 W. Foster Ave.</td>\n",
       "      <td>Chicago</td>\n",
       "      <td>IL</td>\n",
       "      <td>60625</td>\n",
       "      <td>(773) 539-5450</td>\n",
       "      <td>https://www.chipublib.org/locations/3/</td>\n",
       "      <td>(41.975456, -87.71409)</td>\n",
       "    </tr>\n",
       "    <tr>\n",
       "      <th>2</th>\n",
       "      <td>Avalon</td>\n",
       "      <td>Sun., Closed; Mon. &amp; Wed., Noon-8; Tue. &amp; Thu....</td>\n",
       "      <td>8148 S. Stony Island Ave.</td>\n",
       "      <td>Chicago</td>\n",
       "      <td>IL</td>\n",
       "      <td>60617</td>\n",
       "      <td>(312) 747-5234</td>\n",
       "      <td>https://www.chipublib.org/locations/8/</td>\n",
       "      <td>(41.74671722160199, -87.58539658719002)</td>\n",
       "    </tr>\n",
       "    <tr>\n",
       "      <th>3</th>\n",
       "      <td>Brainerd</td>\n",
       "      <td>Sun., Closed; Mon. &amp; Wed., 10-6; Tue. &amp; Thu., ...</td>\n",
       "      <td>1350 W. 89th St.</td>\n",
       "      <td>Chicago</td>\n",
       "      <td>IL</td>\n",
       "      <td>60620</td>\n",
       "      <td>(312) 747-6291</td>\n",
       "      <td>https://www.chipublib.org/locations/13/</td>\n",
       "      <td>(41.732316757097045, -87.65723451581835)</td>\n",
       "    </tr>\n",
       "    <tr>\n",
       "      <th>4</th>\n",
       "      <td>Popular Library at Water Works</td>\n",
       "      <td>Mon. - Thu., 9-7; Fri. &amp; Sat., 9-5; Sun., 1-5</td>\n",
       "      <td>163 E. Pearson St.</td>\n",
       "      <td>Chicago</td>\n",
       "      <td>IL</td>\n",
       "      <td>60611</td>\n",
       "      <td>(312) 742-8811</td>\n",
       "      <td>https://www.chipublib.org/locations/73/</td>\n",
       "      <td>(41.89758435399726, -87.62314877110073)</td>\n",
       "    </tr>\n",
       "    <tr>\n",
       "      <th>...</th>\n",
       "      <td>...</td>\n",
       "      <td>...</td>\n",
       "      <td>...</td>\n",
       "      <td>...</td>\n",
       "      <td>...</td>\n",
       "      <td>...</td>\n",
       "      <td>...</td>\n",
       "      <td>...</td>\n",
       "      <td>...</td>\n",
       "    </tr>\n",
       "    <tr>\n",
       "      <th>76</th>\n",
       "      <td>Woodson Regional Library</td>\n",
       "      <td>Mon. - Thu., 9-9; Fri. &amp; Sat., 9-5; Sun., 1-5</td>\n",
       "      <td>9525 S. Halsted St.</td>\n",
       "      <td>Chicago</td>\n",
       "      <td>IL</td>\n",
       "      <td>60628</td>\n",
       "      <td>(312) 747-6900</td>\n",
       "      <td>https://www.chipublib.org/locations/81/</td>\n",
       "      <td>(41.72093481286736, -87.64309395216542)</td>\n",
       "    </tr>\n",
       "    <tr>\n",
       "      <th>77</th>\n",
       "      <td>Mayfair</td>\n",
       "      <td>Sun., Closed; Mon. &amp; Wed., Noon-8; Tue. &amp; Thu....</td>\n",
       "      <td>4400 W. Lawrence Ave.</td>\n",
       "      <td>Chicago</td>\n",
       "      <td>IL</td>\n",
       "      <td>60630</td>\n",
       "      <td>(312) 744-1254</td>\n",
       "      <td>https://www.chipublib.org/locations/49/</td>\n",
       "      <td>(41.968354456496165, -87.7381618989123)</td>\n",
       "    </tr>\n",
       "    <tr>\n",
       "      <th>78</th>\n",
       "      <td>Chicago Bee</td>\n",
       "      <td>Sun., Closed; Mon. &amp; Wed., Noon-8; Tue. &amp; Thu....</td>\n",
       "      <td>3647 S. State St.</td>\n",
       "      <td>Chicago</td>\n",
       "      <td>IL</td>\n",
       "      <td>60609</td>\n",
       "      <td>(312) 747-6872</td>\n",
       "      <td>https://www.chipublib.org/locations/18/</td>\n",
       "      <td>(41.8284268698988, -87.62640221644719)</td>\n",
       "    </tr>\n",
       "    <tr>\n",
       "      <th>79</th>\n",
       "      <td>Uptown</td>\n",
       "      <td>Sun., Closed; Mon. &amp; Wed., 10-6; Tue. &amp; Thu., ...</td>\n",
       "      <td>929 W. Buena Ave.</td>\n",
       "      <td>Chicago</td>\n",
       "      <td>IL</td>\n",
       "      <td>60613</td>\n",
       "      <td>(312) 744-8400</td>\n",
       "      <td>https://www.chipublib.org/locations/70/</td>\n",
       "      <td>(41.958445207514295, -87.65351012268938)</td>\n",
       "    </tr>\n",
       "    <tr>\n",
       "      <th>80</th>\n",
       "      <td>Sherman Park</td>\n",
       "      <td>Sun., Closed; Mon. &amp; Wed., Noon-8; Tue. &amp; Thu....</td>\n",
       "      <td>5440 S. Racine Ave.</td>\n",
       "      <td>Chicago</td>\n",
       "      <td>IL</td>\n",
       "      <td>60609</td>\n",
       "      <td>(312) 747-0477</td>\n",
       "      <td>https://www.chipublib.org/locations/64/</td>\n",
       "      <td>(41.795279421214886, -87.65492071930115)</td>\n",
       "    </tr>\n",
       "  </tbody>\n",
       "</table>\n",
       "<p>81 rows × 9 columns</p>\n",
       "</div>"
      ],
      "text/plain": [
       "                             NAME   \\\n",
       "0                  Vodak-East Side   \n",
       "1                      Albany Park   \n",
       "2                           Avalon   \n",
       "3                         Brainerd   \n",
       "4   Popular Library at Water Works   \n",
       "..                             ...   \n",
       "76        Woodson Regional Library   \n",
       "77                         Mayfair   \n",
       "78                     Chicago Bee   \n",
       "79                          Uptown   \n",
       "80                    Sherman Park   \n",
       "\n",
       "                                   HOURS OF OPERATION  \\\n",
       "0   Sun., Closed; Mon. & Wed., Noon-8; Tue. & Thu....   \n",
       "1   Sun., Closed; Mon. & Wed., 10-6; Tue. & Thu., ...   \n",
       "2   Sun., Closed; Mon. & Wed., Noon-8; Tue. & Thu....   \n",
       "3   Sun., Closed; Mon. & Wed., 10-6; Tue. & Thu., ...   \n",
       "4       Mon. - Thu., 9-7; Fri. & Sat., 9-5; Sun., 1-5   \n",
       "..                                                ...   \n",
       "76      Mon. - Thu., 9-9; Fri. & Sat., 9-5; Sun., 1-5   \n",
       "77  Sun., Closed; Mon. & Wed., Noon-8; Tue. & Thu....   \n",
       "78  Sun., Closed; Mon. & Wed., Noon-8; Tue. & Thu....   \n",
       "79  Sun., Closed; Mon. & Wed., 10-6; Tue. & Thu., ...   \n",
       "80  Sun., Closed; Mon. & Wed., Noon-8; Tue. & Thu....   \n",
       "\n",
       "                      ADDRESS     CITY STATE    ZIP           PHONE  \\\n",
       "0           3710 E. 106th St.  Chicago    IL  60617  (312) 747-5281   \n",
       "1         3401 W. Foster Ave.  Chicago    IL  60625  (773) 539-5450   \n",
       "2   8148 S. Stony Island Ave.  Chicago    IL  60617  (312) 747-5234   \n",
       "3            1350 W. 89th St.  Chicago    IL  60620  (312) 747-6291   \n",
       "4          163 E. Pearson St.  Chicago    IL  60611  (312) 742-8811   \n",
       "..                        ...      ...   ...    ...             ...   \n",
       "76        9525 S. Halsted St.  Chicago    IL  60628  (312) 747-6900   \n",
       "77      4400 W. Lawrence Ave.  Chicago    IL  60630  (312) 744-1254   \n",
       "78          3647 S. State St.  Chicago    IL  60609  (312) 747-6872   \n",
       "79          929 W. Buena Ave.  Chicago    IL  60613  (312) 744-8400   \n",
       "80        5440 S. Racine Ave.  Chicago    IL  60609  (312) 747-0477   \n",
       "\n",
       "                                    WEBSITE  \\\n",
       "0   https://www.chipublib.org/locations/71/   \n",
       "1    https://www.chipublib.org/locations/3/   \n",
       "2    https://www.chipublib.org/locations/8/   \n",
       "3   https://www.chipublib.org/locations/13/   \n",
       "4   https://www.chipublib.org/locations/73/   \n",
       "..                                      ...   \n",
       "76  https://www.chipublib.org/locations/81/   \n",
       "77  https://www.chipublib.org/locations/49/   \n",
       "78  https://www.chipublib.org/locations/18/   \n",
       "79  https://www.chipublib.org/locations/70/   \n",
       "80  https://www.chipublib.org/locations/64/   \n",
       "\n",
       "                                    LOCATION  \n",
       "0    (41.70302747819179, -87.53350318470449)  \n",
       "1                     (41.975456, -87.71409)  \n",
       "2    (41.74671722160199, -87.58539658719002)  \n",
       "3   (41.732316757097045, -87.65723451581835)  \n",
       "4    (41.89758435399726, -87.62314877110073)  \n",
       "..                                       ...  \n",
       "76   (41.72093481286736, -87.64309395216542)  \n",
       "77   (41.968354456496165, -87.7381618989123)  \n",
       "78    (41.8284268698988, -87.62640221644719)  \n",
       "79  (41.958445207514295, -87.65351012268938)  \n",
       "80  (41.795279421214886, -87.65492071930115)  \n",
       "\n",
       "[81 rows x 9 columns]"
      ]
     },
     "execution_count": 41,
     "metadata": {},
     "output_type": "execute_result"
    }
   ],
   "source": [
    "chicago_libraries_df = pd.read_csv('https://data.cityofchicago.org/api/views/x8fc-8rcq/rows.csv?accessType=DOWNLOAD')\n",
    "chicago_libraries_df"
   ]
  }
 ],
 "metadata": {
  "kernelspec": {
   "display_name": "Python 3",
   "language": "python",
   "name": "python3"
  },
  "language_info": {
   "codemirror_mode": {
    "name": "ipython",
    "version": 3
   },
   "file_extension": ".py",
   "mimetype": "text/x-python",
   "name": "python",
   "nbconvert_exporter": "python",
   "pygments_lexer": "ipython3",
   "version": "3.9.0"
  }
 },
 "nbformat": 4,
 "nbformat_minor": 4
}
